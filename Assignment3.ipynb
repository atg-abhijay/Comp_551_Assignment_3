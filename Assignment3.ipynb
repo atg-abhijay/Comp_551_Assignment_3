{
 "cells": [
  {
   "cell_type": "code",
   "execution_count": 61,
   "metadata": {},
   "outputs": [],
   "source": [
    "import pandas as pd\n",
    "import numpy as np\n",
    "from IPython.display import Image\n",
    "from tqdm import tqdm_notebook as tqdm\n",
    "import json\n",
    "import matplotlib.pyplot as plt\n",
    "import csv\n",
    "# adjust dimensions of plot area to make it look better\n",
    "plt.rcParams['figure.figsize'] = (15, 7)\n",
    "from sklearn.feature_extraction.text import CountVectorizer\n",
    "import papermill as pm\n",
    "from random import randint\n",
    "from sklearn.metrics import f1_score\n",
    "from statistics import mode\n",
    "from sklearn.naive_bayes import BernoulliNB"
   ]
  },
  {
   "cell_type": "code",
   "execution_count": 2,
   "metadata": {},
   "outputs": [],
   "source": [
    "def extract_data(filepath):\n",
    "    dataset = []\n",
    "    f = open(filepath)\n",
    "    for line in f.readlines():\n",
    "        edited_line = line.strip().replace('\\'', '').lower()\n",
    "        example = []\n",
    "        example.append(edited_line[:-1].strip())\n",
    "        example.append(int(edited_line[-1]))\n",
    "        dataset.append(example)\n",
    "    \n",
    "    return dataset"
   ]
  },
  {
   "cell_type": "code",
   "execution_count": 3,
   "metadata": {},
   "outputs": [
    {
     "data": {
      "text/plain": [
       "'\\nExtracting training datasets for Yelp and IMDB\\n'"
      ]
     },
     "execution_count": 3,
     "metadata": {},
     "output_type": "execute_result"
    }
   ],
   "source": [
    "\"\"\"\n",
    "Extracting training datasets for Yelp and IMDB\n",
    "\"\"\""
   ]
  },
  {
   "cell_type": "code",
   "execution_count": 4,
   "metadata": {},
   "outputs": [],
   "source": [
    "yelp_train = extract_data('./hwk3_datasets/yelp-train.txt')\n",
    "imdb_train = extract_data('./hwk3_datasets/IMDB-train.txt')\n",
    "\n",
    "yelp_valid = extract_data('./hwk3_datasets/yelp-valid.txt')\n",
    "imdb_valid = extract_data('./hwk3_datasets/IMDB-valid.txt')\n",
    "\n",
    "yelp_test = extract_data('./hwk3_datasets/yelp-test.txt')\n",
    "imdb_test = extract_data('./hwk3_datasets/IMDB-test.txt')"
   ]
  },
  {
   "cell_type": "code",
   "execution_count": 5,
   "metadata": {},
   "outputs": [
    {
     "data": {
      "text/plain": [
       "'\\nMaking dataframes for the train, valid and test sets of Yelp and IMDB\\n'"
      ]
     },
     "execution_count": 5,
     "metadata": {},
     "output_type": "execute_result"
    }
   ],
   "source": [
    "\"\"\"\n",
    "Making dataframes for the train, valid and test sets of Yelp and IMDB\n",
    "\"\"\""
   ]
  },
  {
   "cell_type": "code",
   "execution_count": 6,
   "metadata": {},
   "outputs": [],
   "source": [
    "yelp_columns = ['review', 'rating']\n",
    "imdb_columns = ['review', 'sentiment']\n",
    "\n",
    "yelp_train_df = pd.DataFrame(data=yelp_train, columns=yelp_columns)\n",
    "imdb_train_df = pd.DataFrame(data=imdb_train, columns=imdb_columns)\n",
    "\n",
    "yelp_valid_df = pd.DataFrame(data=yelp_valid, columns=yelp_columns)\n",
    "imdb_valid_df = pd.DataFrame(data=imdb_valid, columns=imdb_columns)\n",
    "\n",
    "yelp_test_df = pd.DataFrame(data=yelp_test, columns=yelp_columns)\n",
    "imdb_test_df = pd.DataFrame(data=imdb_test, columns=imdb_columns)"
   ]
  },
  {
   "cell_type": "code",
   "execution_count": 7,
   "metadata": {},
   "outputs": [
    {
     "data": {
      "text/plain": [
       "'\\nStoring the input (reviews) for the\\ntrain, valid and test sets of Yelp and IMDB\\n'"
      ]
     },
     "execution_count": 7,
     "metadata": {},
     "output_type": "execute_result"
    }
   ],
   "source": [
    "\"\"\"\n",
    "Storing the input (reviews) for the\n",
    "train, valid and test sets of Yelp and IMDB\n",
    "\"\"\""
   ]
  },
  {
   "cell_type": "code",
   "execution_count": 8,
   "metadata": {},
   "outputs": [],
   "source": [
    "yelp_train_input = list(yelp_train_df['review'])\n",
    "imdb_train_input = list(imdb_train_df['review'])\n",
    "\n",
    "yelp_valid_input = list(yelp_valid_df['review'])\n",
    "imdb_valid_input = list(imdb_valid_df['review'])\n",
    "\n",
    "yelp_test_input = list(yelp_test_df['review'])\n",
    "imdb_test_input = list(imdb_test_df['review'])"
   ]
  },
  {
   "cell_type": "code",
   "execution_count": 9,
   "metadata": {},
   "outputs": [
    {
     "data": {
      "text/plain": [
       "'\\nStoring the rating (Yelp) and sentiment (IMDB)\\nfor the train, valid and test sets of Yelp and IMDB\\n'"
      ]
     },
     "execution_count": 9,
     "metadata": {},
     "output_type": "execute_result"
    }
   ],
   "source": [
    "\"\"\"\n",
    "Storing the rating (Yelp) and sentiment (IMDB)\n",
    "for the train, valid and test sets of Yelp and IMDB\n",
    "\"\"\""
   ]
  },
  {
   "cell_type": "code",
   "execution_count": 10,
   "metadata": {},
   "outputs": [],
   "source": [
    "yelp_train_output = list(yelp_train_df['rating'])\n",
    "imdb_train_output = list(imdb_train_df['sentiment'])\n",
    "\n",
    "yelp_valid_output = list(yelp_valid_df['rating'])\n",
    "imdb_valid_output = list(imdb_valid_df['sentiment'])\n",
    "\n",
    "yelp_test_output = list(yelp_test_df['rating'])\n",
    "imdb_test_output = list(imdb_test_df['sentiment'])"
   ]
  },
  {
   "cell_type": "code",
   "execution_count": 11,
   "metadata": {},
   "outputs": [
    {
     "data": {
      "text/plain": [
       "'\\nUsing a CountVectorizer will turn the\\nwords into lowercase and remove the punctuations\\n'"
      ]
     },
     "execution_count": 11,
     "metadata": {},
     "output_type": "execute_result"
    }
   ],
   "source": [
    "\"\"\"\n",
    "Using a CountVectorizer will turn the\n",
    "words into lowercase and remove the punctuations\n",
    "\"\"\""
   ]
  },
  {
   "cell_type": "code",
   "execution_count": 12,
   "metadata": {},
   "outputs": [],
   "source": [
    "yelp_vectorizer = CountVectorizer()\n",
    "yelp_vectors_train = yelp_vectorizer.fit_transform(yelp_train_input)\n",
    "\n",
    "imdb_vectorizer = CountVectorizer()\n",
    "imdb_vectors_train = imdb_vectorizer.fit_transform(imdb_train_input)"
   ]
  },
  {
   "cell_type": "code",
   "execution_count": 13,
   "metadata": {},
   "outputs": [
    {
     "data": {
      "text/plain": [
       "'\\nGet the frequency of the\\nwords in a vocabulary.\\n\\nReturn: A dictionary\\nwhich has the structure - \\n    key = word\\n    value = [id, count]\\n'"
      ]
     },
     "execution_count": 13,
     "metadata": {},
     "output_type": "execute_result"
    }
   ],
   "source": [
    "\"\"\"\n",
    "Get the frequency of the\n",
    "words in a vocabulary.\n",
    "\n",
    "Return: A dictionary\n",
    "which has the structure - \n",
    "    key = word\n",
    "    value = [id, count]\n",
    "\"\"\""
   ]
  },
  {
   "cell_type": "code",
   "execution_count": 14,
   "metadata": {},
   "outputs": [],
   "source": [
    "def get_vocab_frequencies(dataset_input, dataset_vectorizer):\n",
    "    word_id_count = {}\n",
    "    for example in dataset_input:\n",
    "        words = example.split()\n",
    "        for word in words:\n",
    "            if word in dataset_vectorizer.vocabulary_:\n",
    "                if word not in word_id_count:\n",
    "                    word_id_count[word] = [dataset_vectorizer.vocabulary_[word], 1]\n",
    "                else:\n",
    "                    word_id_count[word][1] += 1\n",
    "\n",
    "    return word_id_count"
   ]
  },
  {
   "cell_type": "code",
   "execution_count": 15,
   "metadata": {},
   "outputs": [],
   "source": [
    "yelp_train_frequencies = get_vocab_frequencies(yelp_train_input, yelp_vectorizer)\n",
    "imdb_train_frequencies = get_vocab_frequencies(imdb_train_input, imdb_vectorizer)"
   ]
  },
  {
   "cell_type": "code",
   "execution_count": 16,
   "metadata": {},
   "outputs": [
    {
     "data": {
      "text/plain": [
       "'\\nSorting the words in the dictionary\\nin descending order of frequencies.\\nGetting the top 10,000 words (words\\nwith the highest frequencies). These\\nwords form the feature set.\\n'"
      ]
     },
     "execution_count": 16,
     "metadata": {},
     "output_type": "execute_result"
    }
   ],
   "source": [
    "\"\"\"\n",
    "Sorting the words in the dictionary\n",
    "in descending order of frequencies.\n",
    "Getting the top 10,000 words (words\n",
    "with the highest frequencies). These\n",
    "words form the feature set.\n",
    "\"\"\""
   ]
  },
  {
   "cell_type": "code",
   "execution_count": 17,
   "metadata": {},
   "outputs": [],
   "source": [
    "yelp_feature_set = sorted(yelp_train_frequencies.items(), key=lambda kv: kv[1][1], reverse=True)[:10000]\n",
    "imdb_feature_set = sorted(imdb_train_frequencies.items(), key=lambda kv: kv[1][1], reverse=True)[:10000]"
   ]
  },
  {
   "cell_type": "code",
   "execution_count": 18,
   "metadata": {},
   "outputs": [
    {
     "data": {
      "text/plain": [
       "'\\nBinary Bag-of-Words Representation:-\\n\\nMaking a new vectorizer for Yelp and IMDB.\\nThe new vectorizer is based on the 10,000\\nwords with the highest frequencies.\\n\\nTransform the valid and test input according\\nto the vectorizer just found. Convert the result\\ninto an array. Modify the array such that the\\nvalue along a dimension gets set to 1 if its\\nvalue is greater than zero else it gets set to 0.\\n'"
      ]
     },
     "execution_count": 18,
     "metadata": {},
     "output_type": "execute_result"
    }
   ],
   "source": [
    "\"\"\"\n",
    "Binary Bag-of-Words Representation:-\n",
    "\n",
    "Making a new vectorizer for Yelp and IMDB.\n",
    "The new vectorizer is based on the 10,000\n",
    "words with the highest frequencies.\n",
    "\n",
    "Transform the valid and test input according\n",
    "to the vectorizer just found. Convert the result\n",
    "into an array. Modify the array such that the\n",
    "value along a dimension gets set to 1 if its\n",
    "value is greater than zero else it gets set to 0.\n",
    "\"\"\""
   ]
  },
  {
   "cell_type": "code",
   "execution_count": 19,
   "metadata": {},
   "outputs": [],
   "source": [
    "# Train vectors are wrong\n",
    "# yelp_vectorizer_final_binary = CountVectorizer()\n",
    "# yelp_temp_df = pd.DataFrame(data=yelp_feature_set, columns=[\"word\", \"id_and_count\"])\n",
    "# yelp_vectors_train_final_binary = yelp_vectorizer_final_binary.fit_transform(list(yelp_temp_df[\"word\"]))\n",
    "# yelp_vectors_train_final_binary = (yelp_vectors_train_final_binary.toarray() > 0).astype(int)\n",
    "\n",
    "# yelp_valid_temp1 = yelp_vectorizer_final_binary.transform(yelp_valid_input).toarray()\n",
    "# yelp_vectors_valid_binary = (yelp_valid_temp1 > 0).astype(int)\n",
    "\n",
    "# yelp_test_temp1 = yelp_vectorizer_final_binary.transform(yelp_test_input).toarray()\n",
    "# yelp_vectors_test_binary = (yelp_test_temp1 > 0).astype(int)"
   ]
  },
  {
   "cell_type": "code",
   "execution_count": 20,
   "metadata": {},
   "outputs": [],
   "source": [
    "yelp_vectorizer_final_binary = CountVectorizer()\n",
    "yelp_temp_df = pd.DataFrame(data=yelp_feature_set, columns=[\"word\", \"id_and_count\"])\n",
    "yelp_vectorizer_final_binary = yelp_vectorizer_final_binary.fit(list(yelp_temp_df[\"word\"]))\n",
    "\n",
    "yelp_train_temp1 = yelp_vectorizer_final_binary.transform(yelp_train_input).toarray()\n",
    "yelp_vectors_train_binary = (yelp_train_temp1 > 0).astype(int)\n",
    "\n",
    "yelp_valid_temp1 = yelp_vectorizer_final_binary.transform(yelp_valid_input).toarray()\n",
    "yelp_vectors_valid_binary = (yelp_valid_temp1 > 0).astype(int)\n",
    "\n",
    "yelp_test_temp1 = yelp_vectorizer_final_binary.transform(yelp_test_input).toarray()\n",
    "yelp_vectors_test_binary = (yelp_test_temp1 > 0).astype(int)"
   ]
  },
  {
   "cell_type": "code",
   "execution_count": 21,
   "metadata": {},
   "outputs": [],
   "source": [
    "imdb_vectorizer_final_binary = CountVectorizer()\n",
    "imdb_temp_df = pd.DataFrame(data=imdb_feature_set, columns=[\"word\", \"id_and_count\"])\n",
    "imdb_vectorizer_final_binary = imdb_vectorizer_final_binary.fit(list(imdb_temp_df[\"word\"]))\n",
    "\n",
    "imdb_train_temp1 = imdb_vectorizer_final_binary.transform(imdb_train_input).toarray()\n",
    "imdb_vectors_train_binary = (imdb_train_temp1 > 0).astype(int)\n",
    "\n",
    "imdb_valid_temp1 = imdb_vectorizer_final_binary.transform(imdb_valid_input).toarray()\n",
    "imdb_vectors_valid_binary = (imdb_valid_temp1 > 0).astype(int)\n",
    "\n",
    "imdb_test_temp1 = imdb_vectorizer_final_binary.transform(imdb_test_input).toarray()\n",
    "imdb_vectors_test_binary = (imdb_test_temp1 > 0).astype(int)"
   ]
  },
  {
   "cell_type": "code",
   "execution_count": 22,
   "metadata": {},
   "outputs": [],
   "source": [
    "# # Train vectors are wrong\n",
    "# imdb_vectorizer_final_binary = CountVectorizer()\n",
    "# imdb_temp_df = pd.DataFrame(data=imdb_feature_set, columns=[\"word\", \"id_and_count\"])\n",
    "# imdb_vectors_train_final_binary = imdb_vectorizer_final_binary.fit_transform(list(imdb_temp_df[\"word\"]))\n",
    "# imdb_vectors_train_final_binary = (imdb_vectors_train_final_binary.toarray() > 0).astype(int)\n",
    "\n",
    "# imdb_valid_temp1 = imdb_vectorizer_final_binary.transform(imdb_valid_input).toarray()\n",
    "# imdb_vectors_valid_binary = (imdb_valid_temp1 > 0).astype(int)\n",
    "\n",
    "# imdb_test_temp1 = imdb_vectorizer_final_binary.transform(imdb_test_input).toarray()\n",
    "# imdb_vectors_test_binary = (imdb_test_temp1 > 0).astype(int)"
   ]
  },
  {
   "cell_type": "code",
   "execution_count": 23,
   "metadata": {},
   "outputs": [
    {
     "data": {
      "text/plain": [
       "'\\nFrequency Bag-of-Words representation\\n'"
      ]
     },
     "execution_count": 23,
     "metadata": {},
     "output_type": "execute_result"
    }
   ],
   "source": [
    "\"\"\"\n",
    "Frequency Bag-of-Words representation\n",
    "\"\"\""
   ]
  },
  {
   "cell_type": "code",
   "execution_count": 24,
   "metadata": {},
   "outputs": [],
   "source": [
    "def make_frequency_array(arr):\n",
    "    for i in range(len(arr)):\n",
    "        example_sum = arr[i].sum()\n",
    "        if example_sum != 0:\n",
    "            arr[i] = arr[i]/example_sum\n",
    "    \n",
    "    return arr"
   ]
  },
  {
   "cell_type": "code",
   "execution_count": 25,
   "metadata": {},
   "outputs": [],
   "source": [
    "# train vectors are wrong\n",
    "# yelp_vectorizer_final_frequency = CountVectorizer()\n",
    "# yelp_vectors_train_final_frequency = yelp_vectorizer_final_frequency.fit_transform(list(yelp_temp_df[\"word\"]))\n",
    "# yelp_vectors_train_final_frequency = make_frequency_array(yelp_vectors_train_final_frequency.toarray().astype(float))\n",
    "\n",
    "# yelp_valid_temp2 = yelp_vectorizer_final_frequency.transform(yelp_valid_input).toarray()\n",
    "# yelp_vectors_valid_frequency = make_frequency_array(yelp_valid_temp2.astype(float))\n",
    "\n",
    "# yelp_test_temp2 = yelp_vectorizer_final_frequency.transform(yelp_test_input).toarray()\n",
    "# yelp_vectors_test_frequency = make_frequency_array(yelp_test_temp2.astype(float))"
   ]
  },
  {
   "cell_type": "code",
   "execution_count": 26,
   "metadata": {},
   "outputs": [],
   "source": [
    "yelp_vectorizer_final_frequency = CountVectorizer()\n",
    "yelp_vectorizer_final_frequency = yelp_vectorizer_final_frequency.fit(list(yelp_temp_df[\"word\"]))\n",
    "\n",
    "yelp_train_temp2 = yelp_vectorizer_final_frequency.transform(yelp_train_input).toarray()\n",
    "yelp_vectors_train_frequency = make_frequency_array(yelp_train_temp2.astype(float))\n",
    "\n",
    "yelp_valid_temp2 = yelp_vectorizer_final_frequency.transform(yelp_valid_input).toarray()\n",
    "yelp_vectors_valid_frequency = make_frequency_array(yelp_valid_temp2.astype(float))\n",
    "\n",
    "yelp_test_temp2 = yelp_vectorizer_final_frequency.transform(yelp_test_input).toarray()\n",
    "yelp_vectors_test_frequency = make_frequency_array(yelp_test_temp2.astype(float))"
   ]
  },
  {
   "cell_type": "code",
   "execution_count": 27,
   "metadata": {},
   "outputs": [],
   "source": [
    "imdb_vectorizer_final_frequency = CountVectorizer()\n",
    "imdb_vectorizer_final_frequency = imdb_vectorizer_final_frequency.fit(list(imdb_temp_df[\"word\"]))\n",
    "\n",
    "imdb_train_temp2 = imdb_vectorizer_final_frequency.transform(imdb_train_input).toarray()\n",
    "imdb_vectors_train_frequency = make_frequency_array(imdb_train_temp2.astype(float))\n",
    "\n",
    "imdb_valid_temp2 = imdb_vectorizer_final_frequency.transform(imdb_valid_input).toarray()\n",
    "imdb_vectors_valid_frequency = make_frequency_array(imdb_valid_temp2.astype(float))\n",
    "\n",
    "imdb_test_temp2 = imdb_vectorizer_final_frequency.transform(imdb_test_input).toarray()\n",
    "imdb_vectors_test_frequency = make_frequency_array(imdb_test_temp2.astype(float))"
   ]
  },
  {
   "cell_type": "code",
   "execution_count": 28,
   "metadata": {},
   "outputs": [],
   "source": [
    "# Train vectors are wrong\n",
    "# imdb_vectorizer_final_frequency = CountVectorizer()\n",
    "# imdb_vectors_train_final_frequency = imdb_vectorizer_final_frequency.fit_transform(list(imdb_temp_df[\"word\"]))\n",
    "# imdb_vectors_train_final_frequency = make_frequency_array(imdb_vectors_train_final_frequency.toarray().astype(float))\n",
    "\n",
    "# imdb_valid_temp2 = imdb_vectorizer_final_frequency.transform(imdb_valid_input).toarray()\n",
    "# imdb_vectors_valid_frequency = make_frequency_array(imdb_valid_temp2.astype(float))\n",
    "\n",
    "# imdb_test_temp2 = imdb_vectorizer_final_frequency.transform(imdb_test_input).toarray()\n",
    "# imdb_vectors_test_frequency = make_frequency_array(imdb_test_temp2.astype(float))"
   ]
  },
  {
   "cell_type": "code",
   "execution_count": 29,
   "metadata": {},
   "outputs": [
    {
     "data": {
      "text/plain": [
       "(25000, 10000)"
      ]
     },
     "execution_count": 29,
     "metadata": {},
     "output_type": "execute_result"
    }
   ],
   "source": [
    "imdb_vectors_test_binary.shape"
   ]
  },
  {
   "cell_type": "code",
   "execution_count": 30,
   "metadata": {},
   "outputs": [
    {
     "data": {
      "text/plain": [
       "'\\nGenerating the data files\\nfor the submission\\n\\nCommented out since do not\\nhave to write the files again\\n'"
      ]
     },
     "execution_count": 30,
     "metadata": {},
     "output_type": "execute_result"
    }
   ],
   "source": [
    "\"\"\"\n",
    "Generating the data files\n",
    "for the submission\n",
    "\n",
    "Commented out since do not\n",
    "have to write the files again\n",
    "\"\"\""
   ]
  },
  {
   "cell_type": "code",
   "execution_count": 31,
   "metadata": {},
   "outputs": [],
   "source": [
    "# with open('./Files_to_submit/data/q1/yelp-vocab.txt', 'w') as f:\n",
    "#     for feature in yelp_feature_set:\n",
    "#         word_details = [str(feature[0]), str(feature[1][0]), str(feature[1][1])]\n",
    "#         f.write('\\t'.join(word_details))\n",
    "#         f.write('\\n')"
   ]
  },
  {
   "cell_type": "code",
   "execution_count": 32,
   "metadata": {},
   "outputs": [],
   "source": [
    "# with open('./Files_to_submit/data/q1/IMDB-vocab.txt', 'w') as f:\n",
    "#     for feature in imdb_feature_set:\n",
    "#         word_details = [str(feature[0]), str(feature[1][0]), str(feature[1][1])]\n",
    "#         f.write('\\t'.join(word_details))\n",
    "#         f.write('\\n')"
   ]
  },
  {
   "cell_type": "code",
   "execution_count": 33,
   "metadata": {},
   "outputs": [],
   "source": [
    "def write_dataset_file(vocab, dataset_df, filename, label_name):\n",
    "    with open('./Files_to_submit/data/q1/' + filename, 'w') as f:\n",
    "        for i in range(len(dataset_df)):\n",
    "            review = dataset_df['review'][i]\n",
    "            word_ids = []\n",
    "            for word in review.split():\n",
    "                if word in vocab:\n",
    "                    word_ids.append(str(int(vocab[word][0])))\n",
    "                    \n",
    "            f.write(' '.join(word_ids))\n",
    "            f.write('\\t' + str(int(dataset_df[label_name][i])))\n",
    "            f.write('\\n')"
   ]
  },
  {
   "cell_type": "code",
   "execution_count": 34,
   "metadata": {},
   "outputs": [],
   "source": [
    "# yelp_dictionary = dict(yelp_feature_set)\n",
    "# imdb_dictionary = dict(imdb_feature_set)\n",
    "\n",
    "# write_dataset_file(yelp_dictionary, yelp_train_df, 'yelp-train.txt', yelp_columns[1])\n",
    "# write_dataset_file(yelp_dictionary, yelp_valid_df, 'yelp-valid.txt', yelp_columns[1])\n",
    "# write_dataset_file(yelp_dictionary, yelp_test_df, 'yelp-test.txt', yelp_columns[1])\n",
    "\n",
    "# write_dataset_file(imdb_dictionary, imdb_train_df, 'IMDB-train.txt', imdb_columns[1])\n",
    "# write_dataset_file(imdb_dictionary, imdb_valid_df, 'IMDB-valid.txt', imdb_columns[1])\n",
    "# write_dataset_file(imdb_dictionary, imdb_test_df, 'IMDB-test.txt', imdb_columns[1])"
   ]
  },
  {
   "cell_type": "code",
   "execution_count": null,
   "metadata": {},
   "outputs": [],
   "source": []
  },
  {
   "cell_type": "code",
   "execution_count": null,
   "metadata": {},
   "outputs": [],
   "source": []
  },
  {
   "cell_type": "code",
   "execution_count": 35,
   "metadata": {},
   "outputs": [],
   "source": [
    "##### PART 2 #####"
   ]
  },
  {
   "cell_type": "code",
   "execution_count": 36,
   "metadata": {},
   "outputs": [],
   "source": [
    "### 2.a ###"
   ]
  },
  {
   "cell_type": "code",
   "execution_count": 37,
   "metadata": {},
   "outputs": [
    {
     "data": {
      "text/plain": [
       "'\\nYelp Random Classifier\\n'"
      ]
     },
     "execution_count": 37,
     "metadata": {},
     "output_type": "execute_result"
    }
   ],
   "source": [
    "\"\"\"\n",
    "Yelp Random Classifier\n",
    "\"\"\""
   ]
  },
  {
   "cell_type": "code",
   "execution_count": 50,
   "metadata": {},
   "outputs": [],
   "source": [
    "yelp_test_random_pred = [randint(1,5) for i in range(len(yelp_test_output))]"
   ]
  },
  {
   "cell_type": "code",
   "execution_count": 51,
   "metadata": {},
   "outputs": [],
   "source": [
    "yelp_test_random_f1_score = f1_score(yelp_test_output, yelp_test_random_pred, average='micro')"
   ]
  },
  {
   "cell_type": "code",
   "execution_count": 52,
   "metadata": {},
   "outputs": [
    {
     "data": {
      "text/plain": [
       "0.194"
      ]
     },
     "execution_count": 52,
     "metadata": {},
     "output_type": "execute_result"
    }
   ],
   "source": [
    "yelp_test_random_f1_score"
   ]
  },
  {
   "cell_type": "code",
   "execution_count": null,
   "metadata": {},
   "outputs": [],
   "source": [
    "pm.record(\"2a. Yelp Random F1\", str(yelp_test_random_f1_score))"
   ]
  },
  {
   "cell_type": "code",
   "execution_count": 53,
   "metadata": {},
   "outputs": [
    {
     "data": {
      "text/plain": [
       "'\\nYelp Majority Classifier\\n'"
      ]
     },
     "execution_count": 53,
     "metadata": {},
     "output_type": "execute_result"
    }
   ],
   "source": [
    "\"\"\"\n",
    "Yelp Majority Classifier\n",
    "\"\"\""
   ]
  },
  {
   "cell_type": "code",
   "execution_count": 54,
   "metadata": {},
   "outputs": [],
   "source": [
    "yelp_train_majority = mode(yelp_train_output)"
   ]
  },
  {
   "cell_type": "code",
   "execution_count": 55,
   "metadata": {},
   "outputs": [],
   "source": [
    "yelp_test_majority_pred = [yelp_train_majority for i in range(len(yelp_test_output))]"
   ]
  },
  {
   "cell_type": "code",
   "execution_count": 56,
   "metadata": {},
   "outputs": [],
   "source": [
    "yelp_test_majority_f1_score = f1_score(yelp_test_output, yelp_test_majority_pred, average='micro')"
   ]
  },
  {
   "cell_type": "code",
   "execution_count": 57,
   "metadata": {},
   "outputs": [
    {
     "data": {
      "text/plain": [
       "0.351"
      ]
     },
     "execution_count": 57,
     "metadata": {},
     "output_type": "execute_result"
    }
   ],
   "source": [
    "yelp_test_majority_f1_score"
   ]
  },
  {
   "cell_type": "code",
   "execution_count": null,
   "metadata": {},
   "outputs": [],
   "source": [
    "pm.record(\"2a. Yelp Majority F1\", str(yelp_test_majority_f1_score))"
   ]
  },
  {
   "cell_type": "code",
   "execution_count": 58,
   "metadata": {},
   "outputs": [],
   "source": [
    "### 2.b ###"
   ]
  },
  {
   "cell_type": "code",
   "execution_count": 79,
   "metadata": {},
   "outputs": [
    {
     "data": {
      "application/vnd.jupyter.widget-view+json": {
       "model_id": "5587d70234844cf1b548bb50e91481f5",
       "version_major": 2,
       "version_minor": 0
      },
      "text/plain": [
       "HBox(children=(IntProgress(value=0, max=50), HTML(value='')))"
      ]
     },
     "metadata": {},
     "output_type": "display_data"
    },
    {
     "name": "stdout",
     "output_type": "stream",
     "text": [
      "\n"
     ]
    }
   ],
   "source": [
    "alpha_vals = [i/50 for i in range(1, 51)]\n",
    "yelp_bbow_bernoullinb_valid_f1_scores = []\n",
    "for val_alpha in tqdm(alpha_vals):\n",
    "    yelp_bbow_bernoullinb_clf = BernoulliNB(alpha=val_alpha)\n",
    "    yelp_bbow_bernoullinb_clf = yelp_bbow_bernoullinb_clf.fit(yelp_vectors_train_binary, yelp_train_output)\n",
    "    yelp_bbow_bernoullinb_valid_pred = yelp_bbow_bernoullinb_clf.predict(yelp_vectors_valid_binary)\n",
    "    f1 = f1_score(yelp_valid_output, yelp_bbow_bernoullinb_valid_pred, average='micro')\n",
    "    yelp_bbow_bernoullinb_valid_f1_scores.append(f1)"
   ]
  },
  {
   "cell_type": "code",
   "execution_count": 80,
   "metadata": {},
   "outputs": [
    {
     "data": {
      "image/png": "[encoded data removed]",
      "text/plain": [
       "<Figure size 1080x504 with 1 Axes>"
      ]
     },
     "metadata": {},
     "output_type": "display_data"
    }
   ],
   "source": [
    "plt.plot(alpha_vals, yelp_bbow_bernoullinb_valid_f1_scores, 'g', label='F1 Scores')\n",
    "plt.xlabel('Alpha values')\n",
    "plt.ylabel('F1 Scores')\n",
    "plt.legend()\n",
    "plt.show()"
   ]
  },
  {
   "cell_type": "code",
   "execution_count": 81,
   "metadata": {},
   "outputs": [],
   "source": [
    "max_index = yelp_bbow_bernoullinb_valid_f1_scores.index(max(yelp_bbow_bernoullinb_valid_f1_scores))\n",
    "best_bbow_bernoullinb_alpha = alpha_vals[max_index]"
   ]
  },
  {
   "cell_type": "code",
   "execution_count": 86,
   "metadata": {},
   "outputs": [
    {
     "data": {
      "text/plain": [
       "0.02"
      ]
     },
     "execution_count": 86,
     "metadata": {},
     "output_type": "execute_result"
    }
   ],
   "source": [
    "best_bbow_bernoullinb_alpha"
   ]
  },
  {
   "cell_type": "code",
   "execution_count": 87,
   "metadata": {},
   "outputs": [],
   "source": [
    "def get_bbow_bernoullinb_f1(train_vectors, train_output, best_bbow_bernoullinb_alpha, dataset_vectors, dataset_output):\n",
    "    best_bbow_bernoullinb_clf = BernoulliNB(alpha=best_bbow_bernoullinb_alpha)\n",
    "    best_bbow_bernoullinb_clf = best_bbow_bernoullinb_clf.fit(train_vectors, train_output)\n",
    "    bbow_bernoullinb_dataset_pred = best_bbow_bernoullinb_clf.predict(dataset_vectors)\n",
    "    bbow_bernoullinb_dataset_f1 = f1_score(dataset_output, bbow_bernoullinb_dataset_pred, average='micro')\n",
    "\n",
    "    return bbow_bernoullinb_dataset_f1"
   ]
  },
  {
   "cell_type": "code",
   "execution_count": 88,
   "metadata": {},
   "outputs": [],
   "source": [
    "yelp_bbow_bernoullinb_train_f1 = get_bbow_bernoullinb_f1(yelp_vectors_train_binary, yelp_train_output, best_bbow_bernoullinb_alpha, yelp_vectors_train_binary, yelp_train_output)\n",
    "yelp_bbow_bernoullinb_valid_f1 = get_bbow_bernoullinb_f1(yelp_vectors_train_binary, yelp_train_output, best_bbow_bernoullinb_alpha, yelp_vectors_valid_binary, yelp_valid_output)\n",
    "yelp_bbow_bernoullinb_test_f1 = get_bbow_bernoullinb_f1(yelp_vectors_train_binary, yelp_train_output, best_bbow_bernoullinb_alpha, yelp_vectors_test_binary, yelp_test_output)"
   ]
  },
  {
   "cell_type": "code",
   "execution_count": 89,
   "metadata": {},
   "outputs": [
    {
     "name": "stdout",
     "output_type": "stream",
     "text": [
      "Yelp Binary BoW BernoulliNB Train F1 Score: 0.7315714285714285\n",
      "Yelp Binary BoW BernoulliNB Valid F1 Score: 0.417\n",
      "Yelp Binary BoW BernoulliNB Test F1 Score: 0.436\n",
      "Best Binary BoW BernoulliNB Alpha Value:  0.02\n"
     ]
    }
   ],
   "source": [
    "print(\"Yelp Binary BoW BernoulliNB Train F1 Score:\", yelp_bbow_bernoullinb_train_f1)\n",
    "print(\"Yelp Binary BoW BernoulliNB Valid F1 Score:\", yelp_bbow_bernoullinb_valid_f1)\n",
    "print(\"Yelp Binary BoW BernoulliNB Test F1 Score:\", yelp_bbow_bernoullinb_test_f1)\n",
    "print(\"Best Binary BoW BernoulliNB Alpha Value: \", best_bbow_bernoullinb_alpha)"
   ]
  },
  {
   "cell_type": "code",
   "execution_count": null,
   "metadata": {},
   "outputs": [],
   "source": []
  }
 ],
 "metadata": {
  "kernelspec": {
   "display_name": "myenv",
   "language": "python",
   "name": "myenv"
  },
  "language_info": {
   "codemirror_mode": {
    "name": "ipython",
    "version": 3
   },
   "file_extension": ".py",
   "mimetype": "text/x-python",
   "name": "python",
   "nbconvert_exporter": "python",
   "pygments_lexer": "ipython3",
   "version": "3.5.2"
  }
 },
 "nbformat": 4,
 "nbformat_minor": 2
}
