{
 "cells": [
  {
   "cell_type": "code",
   "execution_count": 114,
   "metadata": {},
   "outputs": [],
   "source": [
    "import pandas as pd\n",
    "import numpy as np\n",
    "from IPython.display import Image\n",
    "from tqdm import tqdm_notebook as tqdm\n",
    "import json\n",
    "import matplotlib.pyplot as plt\n",
    "import csv\n",
    "# adjust dimensions of plot area to make it look better\n",
    "plt.rcParams['figure.figsize'] = (15, 7)\n",
    "from sklearn.feature_extraction.text import CountVectorizer\n",
    "import papermill as pm\n",
    "from random import randint\n",
    "from sklearn.metrics import f1_score\n",
    "from statistics import mode\n",
    "from sklearn.naive_bayes import BernoulliNB\n",
    "from sklearn.model_selection import GridSearchCV\n",
    "from sklearn.tree import DecisionTreeClassifier\n",
    "from sklearn.svm import LinearSVC\n",
    "import time"
   ]
  },
  {
   "cell_type": "code",
   "execution_count": 2,
   "metadata": {},
   "outputs": [],
   "source": [
    "def extract_data(filepath):\n",
    "    dataset = []\n",
    "    f = open(filepath)\n",
    "    for line in f.readlines():\n",
    "        edited_line = line.strip().replace('\\'', '').lower()\n",
    "        example = []\n",
    "        example.append(edited_line[:-1].strip())\n",
    "        example.append(int(edited_line[-1]))\n",
    "        dataset.append(example)\n",
    "    \n",
    "    return dataset"
   ]
  },
  {
   "cell_type": "code",
   "execution_count": 3,
   "metadata": {},
   "outputs": [
    {
     "data": {
      "text/plain": [
       "'\\nExtracting training datasets for Yelp and IMDB\\n'"
      ]
     },
     "execution_count": 3,
     "metadata": {},
     "output_type": "execute_result"
    }
   ],
   "source": [
    "\"\"\"\n",
    "Extracting training datasets for Yelp and IMDB\n",
    "\"\"\""
   ]
  },
  {
   "cell_type": "code",
   "execution_count": 4,
   "metadata": {},
   "outputs": [],
   "source": [
    "yelp_train = extract_data('./hwk3_datasets/yelp-train.txt')\n",
    "imdb_train = extract_data('./hwk3_datasets/IMDB-train.txt')\n",
    "\n",
    "yelp_valid = extract_data('./hwk3_datasets/yelp-valid.txt')\n",
    "imdb_valid = extract_data('./hwk3_datasets/IMDB-valid.txt')\n",
    "\n",
    "yelp_test = extract_data('./hwk3_datasets/yelp-test.txt')\n",
    "imdb_test = extract_data('./hwk3_datasets/IMDB-test.txt')"
   ]
  },
  {
   "cell_type": "code",
   "execution_count": 5,
   "metadata": {},
   "outputs": [
    {
     "data": {
      "text/plain": [
       "'\\nMaking dataframes for the train, valid and test sets of Yelp and IMDB\\n'"
      ]
     },
     "execution_count": 5,
     "metadata": {},
     "output_type": "execute_result"
    }
   ],
   "source": [
    "\"\"\"\n",
    "Making dataframes for the train, valid and test sets of Yelp and IMDB\n",
    "\"\"\""
   ]
  },
  {
   "cell_type": "code",
   "execution_count": 6,
   "metadata": {},
   "outputs": [],
   "source": [
    "yelp_columns = ['review', 'rating']\n",
    "imdb_columns = ['review', 'sentiment']\n",
    "\n",
    "yelp_train_df = pd.DataFrame(data=yelp_train, columns=yelp_columns)\n",
    "imdb_train_df = pd.DataFrame(data=imdb_train, columns=imdb_columns)\n",
    "\n",
    "yelp_valid_df = pd.DataFrame(data=yelp_valid, columns=yelp_columns)\n",
    "imdb_valid_df = pd.DataFrame(data=imdb_valid, columns=imdb_columns)\n",
    "\n",
    "yelp_test_df = pd.DataFrame(data=yelp_test, columns=yelp_columns)\n",
    "imdb_test_df = pd.DataFrame(data=imdb_test, columns=imdb_columns)"
   ]
  },
  {
   "cell_type": "code",
   "execution_count": 7,
   "metadata": {},
   "outputs": [
    {
     "data": {
      "text/plain": [
       "'\\nStoring the input (reviews) for the\\ntrain, valid and test sets of Yelp and IMDB\\n'"
      ]
     },
     "execution_count": 7,
     "metadata": {},
     "output_type": "execute_result"
    }
   ],
   "source": [
    "\"\"\"\n",
    "Storing the input (reviews) for the\n",
    "train, valid and test sets of Yelp and IMDB\n",
    "\"\"\""
   ]
  },
  {
   "cell_type": "code",
   "execution_count": 8,
   "metadata": {},
   "outputs": [],
   "source": [
    "yelp_train_input = list(yelp_train_df['review'])\n",
    "imdb_train_input = list(imdb_train_df['review'])\n",
    "\n",
    "yelp_valid_input = list(yelp_valid_df['review'])\n",
    "imdb_valid_input = list(imdb_valid_df['review'])\n",
    "\n",
    "yelp_test_input = list(yelp_test_df['review'])\n",
    "imdb_test_input = list(imdb_test_df['review'])"
   ]
  },
  {
   "cell_type": "code",
   "execution_count": 9,
   "metadata": {},
   "outputs": [
    {
     "data": {
      "text/plain": [
       "'\\nStoring the rating (Yelp) and sentiment (IMDB)\\nfor the train, valid and test sets of Yelp and IMDB\\n'"
      ]
     },
     "execution_count": 9,
     "metadata": {},
     "output_type": "execute_result"
    }
   ],
   "source": [
    "\"\"\"\n",
    "Storing the rating (Yelp) and sentiment (IMDB)\n",
    "for the train, valid and test sets of Yelp and IMDB\n",
    "\"\"\""
   ]
  },
  {
   "cell_type": "code",
   "execution_count": 10,
   "metadata": {},
   "outputs": [],
   "source": [
    "yelp_train_output = list(yelp_train_df['rating'])\n",
    "imdb_train_output = list(imdb_train_df['sentiment'])\n",
    "\n",
    "yelp_valid_output = list(yelp_valid_df['rating'])\n",
    "imdb_valid_output = list(imdb_valid_df['sentiment'])\n",
    "\n",
    "yelp_test_output = list(yelp_test_df['rating'])\n",
    "imdb_test_output = list(imdb_test_df['sentiment'])"
   ]
  },
  {
   "cell_type": "code",
   "execution_count": 11,
   "metadata": {},
   "outputs": [
    {
     "data": {
      "text/plain": [
       "'\\nUsing a CountVectorizer will turn the\\nwords into lowercase and remove the punctuations\\n'"
      ]
     },
     "execution_count": 11,
     "metadata": {},
     "output_type": "execute_result"
    }
   ],
   "source": [
    "\"\"\"\n",
    "Using a CountVectorizer will turn the\n",
    "words into lowercase and remove the punctuations\n",
    "\"\"\""
   ]
  },
  {
   "cell_type": "code",
   "execution_count": 12,
   "metadata": {},
   "outputs": [],
   "source": [
    "yelp_vectorizer = CountVectorizer()\n",
    "yelp_vectors_train = yelp_vectorizer.fit_transform(yelp_train_input)\n",
    "\n",
    "imdb_vectorizer = CountVectorizer()\n",
    "imdb_vectors_train = imdb_vectorizer.fit_transform(imdb_train_input)"
   ]
  },
  {
   "cell_type": "code",
   "execution_count": 13,
   "metadata": {},
   "outputs": [
    {
     "data": {
      "text/plain": [
       "'\\nGet the frequency of the\\nwords in a vocabulary.\\n\\nReturn: A dictionary\\nwhich has the structure - \\n    key = word\\n    value = [id, count]\\n'"
      ]
     },
     "execution_count": 13,
     "metadata": {},
     "output_type": "execute_result"
    }
   ],
   "source": [
    "\"\"\"\n",
    "Get the frequency of the\n",
    "words in a vocabulary.\n",
    "\n",
    "Return: A dictionary\n",
    "which has the structure - \n",
    "    key = word\n",
    "    value = [id, count]\n",
    "\"\"\""
   ]
  },
  {
   "cell_type": "code",
   "execution_count": 14,
   "metadata": {},
   "outputs": [],
   "source": [
    "def get_vocab_frequencies(dataset_input, dataset_vectorizer):\n",
    "    word_id_count = {}\n",
    "    for example in dataset_input:\n",
    "        words = example.split()\n",
    "        for word in words:\n",
    "            if word in dataset_vectorizer.vocabulary_:\n",
    "                if word not in word_id_count:\n",
    "                    word_id_count[word] = [dataset_vectorizer.vocabulary_[word], 1]\n",
    "                else:\n",
    "                    word_id_count[word][1] += 1\n",
    "\n",
    "    return word_id_count"
   ]
  },
  {
   "cell_type": "code",
   "execution_count": 15,
   "metadata": {},
   "outputs": [],
   "source": [
    "yelp_train_frequencies = get_vocab_frequencies(yelp_train_input, yelp_vectorizer)\n",
    "imdb_train_frequencies = get_vocab_frequencies(imdb_train_input, imdb_vectorizer)"
   ]
  },
  {
   "cell_type": "code",
   "execution_count": 16,
   "metadata": {},
   "outputs": [
    {
     "data": {
      "text/plain": [
       "'\\nSorting the words in the dictionary\\nin descending order of frequencies.\\nGetting the top 10,000 words (words\\nwith the highest frequencies). These\\nwords form the feature set.\\n'"
      ]
     },
     "execution_count": 16,
     "metadata": {},
     "output_type": "execute_result"
    }
   ],
   "source": [
    "\"\"\"\n",
    "Sorting the words in the dictionary\n",
    "in descending order of frequencies.\n",
    "Getting the top 10,000 words (words\n",
    "with the highest frequencies). These\n",
    "words form the feature set.\n",
    "\"\"\""
   ]
  },
  {
   "cell_type": "code",
   "execution_count": 17,
   "metadata": {},
   "outputs": [],
   "source": [
    "yelp_feature_set = sorted(yelp_train_frequencies.items(), key=lambda kv: kv[1][1], reverse=True)[:10000]\n",
    "imdb_feature_set = sorted(imdb_train_frequencies.items(), key=lambda kv: kv[1][1], reverse=True)[:10000]"
   ]
  },
  {
   "cell_type": "code",
   "execution_count": 18,
   "metadata": {},
   "outputs": [
    {
     "data": {
      "text/plain": [
       "'\\nBinary Bag-of-Words Representation:-\\n\\nMaking a new vectorizer for Yelp and IMDB.\\nThe new vectorizer is based on the 10,000\\nwords with the highest frequencies.\\n\\nTransform the valid and test input according\\nto the vectorizer just found. Convert the result\\ninto an array. Modify the array such that the\\nvalue along a dimension gets set to 1 if its\\nvalue is greater than zero else it gets set to 0.\\n'"
      ]
     },
     "execution_count": 18,
     "metadata": {},
     "output_type": "execute_result"
    }
   ],
   "source": [
    "\"\"\"\n",
    "Binary Bag-of-Words Representation:-\n",
    "\n",
    "Making a new vectorizer for Yelp and IMDB.\n",
    "The new vectorizer is based on the 10,000\n",
    "words with the highest frequencies.\n",
    "\n",
    "Transform the valid and test input according\n",
    "to the vectorizer just found. Convert the result\n",
    "into an array. Modify the array such that the\n",
    "value along a dimension gets set to 1 if its\n",
    "value is greater than zero else it gets set to 0.\n",
    "\"\"\""
   ]
  },
  {
   "cell_type": "code",
   "execution_count": 19,
   "metadata": {},
   "outputs": [],
   "source": [
    "# Train vectors are wrong\n",
    "# yelp_vectorizer_final_binary = CountVectorizer()\n",
    "# yelp_temp_df = pd.DataFrame(data=yelp_feature_set, columns=[\"word\", \"id_and_count\"])\n",
    "# yelp_vectors_train_final_binary = yelp_vectorizer_final_binary.fit_transform(list(yelp_temp_df[\"word\"]))\n",
    "# yelp_vectors_train_final_binary = (yelp_vectors_train_final_binary.toarray() > 0).astype(int)\n",
    "\n",
    "# yelp_valid_temp1 = yelp_vectorizer_final_binary.transform(yelp_valid_input).toarray()\n",
    "# yelp_vectors_valid_binary = (yelp_valid_temp1 > 0).astype(int)\n",
    "\n",
    "# yelp_test_temp1 = yelp_vectorizer_final_binary.transform(yelp_test_input).toarray()\n",
    "# yelp_vectors_test_binary = (yelp_test_temp1 > 0).astype(int)"
   ]
  },
  {
   "cell_type": "code",
   "execution_count": 20,
   "metadata": {},
   "outputs": [],
   "source": [
    "yelp_vectorizer_final_binary = CountVectorizer()\n",
    "yelp_temp_df = pd.DataFrame(data=yelp_feature_set, columns=[\"word\", \"id_and_count\"])\n",
    "yelp_vectorizer_final_binary = yelp_vectorizer_final_binary.fit(list(yelp_temp_df[\"word\"]))\n",
    "\n",
    "yelp_train_temp1 = yelp_vectorizer_final_binary.transform(yelp_train_input).toarray()\n",
    "yelp_vectors_train_binary = (yelp_train_temp1 > 0).astype(int)\n",
    "\n",
    "yelp_valid_temp1 = yelp_vectorizer_final_binary.transform(yelp_valid_input).toarray()\n",
    "yelp_vectors_valid_binary = (yelp_valid_temp1 > 0).astype(int)\n",
    "\n",
    "yelp_test_temp1 = yelp_vectorizer_final_binary.transform(yelp_test_input).toarray()\n",
    "yelp_vectors_test_binary = (yelp_test_temp1 > 0).astype(int)"
   ]
  },
  {
   "cell_type": "code",
   "execution_count": 21,
   "metadata": {},
   "outputs": [],
   "source": [
    "imdb_vectorizer_final_binary = CountVectorizer()\n",
    "imdb_temp_df = pd.DataFrame(data=imdb_feature_set, columns=[\"word\", \"id_and_count\"])\n",
    "imdb_vectorizer_final_binary = imdb_vectorizer_final_binary.fit(list(imdb_temp_df[\"word\"]))\n",
    "\n",
    "imdb_train_temp1 = imdb_vectorizer_final_binary.transform(imdb_train_input).toarray()\n",
    "imdb_vectors_train_binary = (imdb_train_temp1 > 0).astype(int)\n",
    "\n",
    "imdb_valid_temp1 = imdb_vectorizer_final_binary.transform(imdb_valid_input).toarray()\n",
    "imdb_vectors_valid_binary = (imdb_valid_temp1 > 0).astype(int)\n",
    "\n",
    "imdb_test_temp1 = imdb_vectorizer_final_binary.transform(imdb_test_input).toarray()\n",
    "imdb_vectors_test_binary = (imdb_test_temp1 > 0).astype(int)"
   ]
  },
  {
   "cell_type": "code",
   "execution_count": 22,
   "metadata": {},
   "outputs": [],
   "source": [
    "# # Train vectors are wrong\n",
    "# imdb_vectorizer_final_binary = CountVectorizer()\n",
    "# imdb_temp_df = pd.DataFrame(data=imdb_feature_set, columns=[\"word\", \"id_and_count\"])\n",
    "# imdb_vectors_train_final_binary = imdb_vectorizer_final_binary.fit_transform(list(imdb_temp_df[\"word\"]))\n",
    "# imdb_vectors_train_final_binary = (imdb_vectors_train_final_binary.toarray() > 0).astype(int)\n",
    "\n",
    "# imdb_valid_temp1 = imdb_vectorizer_final_binary.transform(imdb_valid_input).toarray()\n",
    "# imdb_vectors_valid_binary = (imdb_valid_temp1 > 0).astype(int)\n",
    "\n",
    "# imdb_test_temp1 = imdb_vectorizer_final_binary.transform(imdb_test_input).toarray()\n",
    "# imdb_vectors_test_binary = (imdb_test_temp1 > 0).astype(int)"
   ]
  },
  {
   "cell_type": "code",
   "execution_count": 23,
   "metadata": {},
   "outputs": [
    {
     "data": {
      "text/plain": [
       "'\\nFrequency Bag-of-Words representation\\n'"
      ]
     },
     "execution_count": 23,
     "metadata": {},
     "output_type": "execute_result"
    }
   ],
   "source": [
    "\"\"\"\n",
    "Frequency Bag-of-Words representation\n",
    "\"\"\""
   ]
  },
  {
   "cell_type": "code",
   "execution_count": 24,
   "metadata": {},
   "outputs": [],
   "source": [
    "def make_frequency_array(arr):\n",
    "    for i in range(len(arr)):\n",
    "        example_sum = arr[i].sum()\n",
    "        if example_sum != 0:\n",
    "            arr[i] = arr[i]/example_sum\n",
    "    \n",
    "    return arr"
   ]
  },
  {
   "cell_type": "code",
   "execution_count": 25,
   "metadata": {},
   "outputs": [],
   "source": [
    "# train vectors are wrong\n",
    "# yelp_vectorizer_final_frequency = CountVectorizer()\n",
    "# yelp_vectors_train_final_frequency = yelp_vectorizer_final_frequency.fit_transform(list(yelp_temp_df[\"word\"]))\n",
    "# yelp_vectors_train_final_frequency = make_frequency_array(yelp_vectors_train_final_frequency.toarray().astype(float))\n",
    "\n",
    "# yelp_valid_temp2 = yelp_vectorizer_final_frequency.transform(yelp_valid_input).toarray()\n",
    "# yelp_vectors_valid_frequency = make_frequency_array(yelp_valid_temp2.astype(float))\n",
    "\n",
    "# yelp_test_temp2 = yelp_vectorizer_final_frequency.transform(yelp_test_input).toarray()\n",
    "# yelp_vectors_test_frequency = make_frequency_array(yelp_test_temp2.astype(float))"
   ]
  },
  {
   "cell_type": "code",
   "execution_count": 26,
   "metadata": {},
   "outputs": [],
   "source": [
    "yelp_vectorizer_final_frequency = CountVectorizer()\n",
    "yelp_vectorizer_final_frequency = yelp_vectorizer_final_frequency.fit(list(yelp_temp_df[\"word\"]))\n",
    "\n",
    "yelp_train_temp2 = yelp_vectorizer_final_frequency.transform(yelp_train_input).toarray()\n",
    "yelp_vectors_train_frequency = make_frequency_array(yelp_train_temp2.astype(float))\n",
    "\n",
    "yelp_valid_temp2 = yelp_vectorizer_final_frequency.transform(yelp_valid_input).toarray()\n",
    "yelp_vectors_valid_frequency = make_frequency_array(yelp_valid_temp2.astype(float))\n",
    "\n",
    "yelp_test_temp2 = yelp_vectorizer_final_frequency.transform(yelp_test_input).toarray()\n",
    "yelp_vectors_test_frequency = make_frequency_array(yelp_test_temp2.astype(float))"
   ]
  },
  {
   "cell_type": "code",
   "execution_count": 27,
   "metadata": {},
   "outputs": [],
   "source": [
    "imdb_vectorizer_final_frequency = CountVectorizer()\n",
    "imdb_vectorizer_final_frequency = imdb_vectorizer_final_frequency.fit(list(imdb_temp_df[\"word\"]))\n",
    "\n",
    "imdb_train_temp2 = imdb_vectorizer_final_frequency.transform(imdb_train_input).toarray()\n",
    "imdb_vectors_train_frequency = make_frequency_array(imdb_train_temp2.astype(float))\n",
    "\n",
    "imdb_valid_temp2 = imdb_vectorizer_final_frequency.transform(imdb_valid_input).toarray()\n",
    "imdb_vectors_valid_frequency = make_frequency_array(imdb_valid_temp2.astype(float))\n",
    "\n",
    "imdb_test_temp2 = imdb_vectorizer_final_frequency.transform(imdb_test_input).toarray()\n",
    "imdb_vectors_test_frequency = make_frequency_array(imdb_test_temp2.astype(float))"
   ]
  },
  {
   "cell_type": "code",
   "execution_count": 28,
   "metadata": {},
   "outputs": [],
   "source": [
    "# Train vectors are wrong\n",
    "# imdb_vectorizer_final_frequency = CountVectorizer()\n",
    "# imdb_vectors_train_final_frequency = imdb_vectorizer_final_frequency.fit_transform(list(imdb_temp_df[\"word\"]))\n",
    "# imdb_vectors_train_final_frequency = make_frequency_array(imdb_vectors_train_final_frequency.toarray().astype(float))\n",
    "\n",
    "# imdb_valid_temp2 = imdb_vectorizer_final_frequency.transform(imdb_valid_input).toarray()\n",
    "# imdb_vectors_valid_frequency = make_frequency_array(imdb_valid_temp2.astype(float))\n",
    "\n",
    "# imdb_test_temp2 = imdb_vectorizer_final_frequency.transform(imdb_test_input).toarray()\n",
    "# imdb_vectors_test_frequency = make_frequency_array(imdb_test_temp2.astype(float))"
   ]
  },
  {
   "cell_type": "code",
   "execution_count": 29,
   "metadata": {},
   "outputs": [
    {
     "data": {
      "text/plain": [
       "(25000, 10000)"
      ]
     },
     "execution_count": 29,
     "metadata": {},
     "output_type": "execute_result"
    }
   ],
   "source": [
    "imdb_vectors_test_binary.shape"
   ]
  },
  {
   "cell_type": "code",
   "execution_count": 30,
   "metadata": {},
   "outputs": [
    {
     "data": {
      "text/plain": [
       "'\\nGenerating the data files\\nfor the submission\\n\\nCommented out since do not\\nhave to write the files again\\n'"
      ]
     },
     "execution_count": 30,
     "metadata": {},
     "output_type": "execute_result"
    }
   ],
   "source": [
    "\"\"\"\n",
    "Generating the data files\n",
    "for the submission\n",
    "\n",
    "Commented out since do not\n",
    "have to write the files again\n",
    "\"\"\""
   ]
  },
  {
   "cell_type": "code",
   "execution_count": 31,
   "metadata": {},
   "outputs": [],
   "source": [
    "# with open('./Files_to_submit/data/q1/yelp-vocab.txt', 'w') as f:\n",
    "#     for feature in yelp_feature_set:\n",
    "#         word_details = [str(feature[0]), str(feature[1][0]), str(feature[1][1])]\n",
    "#         f.write('\\t'.join(word_details))\n",
    "#         f.write('\\n')"
   ]
  },
  {
   "cell_type": "code",
   "execution_count": 32,
   "metadata": {},
   "outputs": [],
   "source": [
    "# with open('./Files_to_submit/data/q1/IMDB-vocab.txt', 'w') as f:\n",
    "#     for feature in imdb_feature_set:\n",
    "#         word_details = [str(feature[0]), str(feature[1][0]), str(feature[1][1])]\n",
    "#         f.write('\\t'.join(word_details))\n",
    "#         f.write('\\n')"
   ]
  },
  {
   "cell_type": "code",
   "execution_count": 33,
   "metadata": {},
   "outputs": [],
   "source": [
    "def write_dataset_file(vocab, dataset_df, filename, label_name):\n",
    "    with open('./Files_to_submit/data/q1/' + filename, 'w') as f:\n",
    "        for i in range(len(dataset_df)):\n",
    "            review = dataset_df['review'][i]\n",
    "            word_ids = []\n",
    "            for word in review.split():\n",
    "                if word in vocab:\n",
    "                    word_ids.append(str(int(vocab[word][0])))\n",
    "                    \n",
    "            f.write(' '.join(word_ids))\n",
    "            f.write('\\t' + str(int(dataset_df[label_name][i])))\n",
    "            f.write('\\n')"
   ]
  },
  {
   "cell_type": "code",
   "execution_count": 34,
   "metadata": {},
   "outputs": [],
   "source": [
    "# yelp_dictionary = dict(yelp_feature_set)\n",
    "# imdb_dictionary = dict(imdb_feature_set)\n",
    "\n",
    "# write_dataset_file(yelp_dictionary, yelp_train_df, 'yelp-train.txt', yelp_columns[1])\n",
    "# write_dataset_file(yelp_dictionary, yelp_valid_df, 'yelp-valid.txt', yelp_columns[1])\n",
    "# write_dataset_file(yelp_dictionary, yelp_test_df, 'yelp-test.txt', yelp_columns[1])\n",
    "\n",
    "# write_dataset_file(imdb_dictionary, imdb_train_df, 'IMDB-train.txt', imdb_columns[1])\n",
    "# write_dataset_file(imdb_dictionary, imdb_valid_df, 'IMDB-valid.txt', imdb_columns[1])\n",
    "# write_dataset_file(imdb_dictionary, imdb_test_df, 'IMDB-test.txt', imdb_columns[1])"
   ]
  },
  {
   "cell_type": "code",
   "execution_count": null,
   "metadata": {},
   "outputs": [],
   "source": []
  },
  {
   "cell_type": "code",
   "execution_count": null,
   "metadata": {},
   "outputs": [],
   "source": []
  },
  {
   "cell_type": "code",
   "execution_count": 35,
   "metadata": {},
   "outputs": [],
   "source": [
    "##### PART 2 #####"
   ]
  },
  {
   "cell_type": "code",
   "execution_count": 36,
   "metadata": {},
   "outputs": [],
   "source": [
    "### 2.a ###"
   ]
  },
  {
   "cell_type": "code",
   "execution_count": 37,
   "metadata": {},
   "outputs": [
    {
     "data": {
      "text/plain": [
       "'\\nYelp Random Classifier\\n'"
      ]
     },
     "execution_count": 37,
     "metadata": {},
     "output_type": "execute_result"
    }
   ],
   "source": [
    "\"\"\"\n",
    "Yelp Random Classifier\n",
    "\"\"\""
   ]
  },
  {
   "cell_type": "code",
   "execution_count": 38,
   "metadata": {},
   "outputs": [],
   "source": [
    "yelp_test_random_pred = [randint(1,5) for i in range(len(yelp_test_output))]"
   ]
  },
  {
   "cell_type": "code",
   "execution_count": 39,
   "metadata": {},
   "outputs": [],
   "source": [
    "yelp_test_random_f1_score = f1_score(yelp_test_output, yelp_test_random_pred, average='micro')"
   ]
  },
  {
   "cell_type": "code",
   "execution_count": 40,
   "metadata": {},
   "outputs": [
    {
     "data": {
      "text/plain": [
       "0.198"
      ]
     },
     "execution_count": 40,
     "metadata": {},
     "output_type": "execute_result"
    }
   ],
   "source": [
    "yelp_test_random_f1_score"
   ]
  },
  {
   "cell_type": "code",
   "execution_count": 41,
   "metadata": {},
   "outputs": [
    {
     "data": {
      "application/papermill.record+json": {
       "2a. Yelp Random F1": "0.198"
      }
     },
     "metadata": {},
     "output_type": "display_data"
    }
   ],
   "source": [
    "pm.record(\"2a. Yelp Random F1\", str(yelp_test_random_f1_score))"
   ]
  },
  {
   "cell_type": "code",
   "execution_count": 42,
   "metadata": {},
   "outputs": [
    {
     "data": {
      "text/plain": [
       "'\\nYelp Majority Classifier\\n'"
      ]
     },
     "execution_count": 42,
     "metadata": {},
     "output_type": "execute_result"
    }
   ],
   "source": [
    "\"\"\"\n",
    "Yelp Majority Classifier\n",
    "\"\"\""
   ]
  },
  {
   "cell_type": "code",
   "execution_count": 43,
   "metadata": {},
   "outputs": [],
   "source": [
    "yelp_train_majority = mode(yelp_train_output)"
   ]
  },
  {
   "cell_type": "code",
   "execution_count": 44,
   "metadata": {},
   "outputs": [],
   "source": [
    "yelp_test_majority_pred = [yelp_train_majority for i in range(len(yelp_test_output))]"
   ]
  },
  {
   "cell_type": "code",
   "execution_count": 45,
   "metadata": {},
   "outputs": [],
   "source": [
    "yelp_test_majority_f1_score = f1_score(yelp_test_output, yelp_test_majority_pred, average='micro')"
   ]
  },
  {
   "cell_type": "code",
   "execution_count": 46,
   "metadata": {},
   "outputs": [
    {
     "data": {
      "text/plain": [
       "0.351"
      ]
     },
     "execution_count": 46,
     "metadata": {},
     "output_type": "execute_result"
    }
   ],
   "source": [
    "yelp_test_majority_f1_score"
   ]
  },
  {
   "cell_type": "code",
   "execution_count": null,
   "metadata": {},
   "outputs": [],
   "source": [
    "pm.record(\"2a. Yelp Majority F1\", str(yelp_test_majority_f1_score))"
   ]
  },
  {
   "cell_type": "code",
   "execution_count": 47,
   "metadata": {},
   "outputs": [],
   "source": [
    "### 2.b ###"
   ]
  },
  {
   "cell_type": "code",
   "execution_count": 48,
   "metadata": {},
   "outputs": [
    {
     "data": {
      "text/plain": [
       "'\\nYelp Bernoulli Naive Bayes\\n'"
      ]
     },
     "execution_count": 48,
     "metadata": {},
     "output_type": "execute_result"
    }
   ],
   "source": [
    "\"\"\"\n",
    "Yelp Bernoulli Naive Bayes\n",
    "\"\"\""
   ]
  },
  {
   "cell_type": "code",
   "execution_count": 49,
   "metadata": {},
   "outputs": [
    {
     "data": {
      "application/vnd.jupyter.widget-view+json": {
       "model_id": "e3d2a40011464da0a4f1677c58edd68e",
       "version_major": 2,
       "version_minor": 0
      },
      "text/plain": [
       "HBox(children=(IntProgress(value=0, max=50), HTML(value='')))"
      ]
     },
     "metadata": {},
     "output_type": "display_data"
    },
    {
     "name": "stdout",
     "output_type": "stream",
     "text": [
      "\n"
     ]
    }
   ],
   "source": [
    "alpha_vals = [i/50 for i in range(1, 51)]\n",
    "yelp_bbow_bernoullinb_valid_f1_scores = []\n",
    "for val_alpha in tqdm(alpha_vals):\n",
    "    yelp_bbow_bernoullinb_clf = BernoulliNB(alpha=val_alpha)\n",
    "    yelp_bbow_bernoullinb_clf = yelp_bbow_bernoullinb_clf.fit(yelp_vectors_train_binary, yelp_train_output)\n",
    "    yelp_bbow_bernoullinb_valid_pred = yelp_bbow_bernoullinb_clf.predict(yelp_vectors_valid_binary)\n",
    "    f1 = f1_score(yelp_valid_output, yelp_bbow_bernoullinb_valid_pred, average='micro')\n",
    "    yelp_bbow_bernoullinb_valid_f1_scores.append(f1)"
   ]
  },
  {
   "cell_type": "code",
   "execution_count": 52,
   "metadata": {},
   "outputs": [
    {
     "data": {
      "image/png": "[encoded data removed]",
      "text/plain": [
       "<Figure size 1080x504 with 1 Axes>"
      ]
     },
     "metadata": {},
     "output_type": "display_data"
    }
   ],
   "source": [
    "plt.plot(alpha_vals, yelp_bbow_bernoullinb_valid_f1_scores, 'g', label='F1 Scores')\n",
    "plt.xlabel('Alpha values')\n",
    "plt.ylabel('F1 Scores')\n",
    "plt.legend()\n",
    "plt.show()"
   ]
  },
  {
   "cell_type": "code",
   "execution_count": 53,
   "metadata": {},
   "outputs": [],
   "source": [
    "max_index = yelp_bbow_bernoullinb_valid_f1_scores.index(max(yelp_bbow_bernoullinb_valid_f1_scores))\n",
    "best_bbow_bernoullinb_alpha = alpha_vals[max_index]"
   ]
  },
  {
   "cell_type": "code",
   "execution_count": 54,
   "metadata": {},
   "outputs": [
    {
     "data": {
      "text/plain": [
       "0.02"
      ]
     },
     "execution_count": 54,
     "metadata": {},
     "output_type": "execute_result"
    }
   ],
   "source": [
    "best_bbow_bernoullinb_alpha"
   ]
  },
  {
   "cell_type": "code",
   "execution_count": 55,
   "metadata": {},
   "outputs": [],
   "source": [
    "def get_bbow_bernoullinb_f1(train_vectors, train_output, best_bbow_bernoullinb_alpha, dataset_vectors, dataset_output):\n",
    "    best_bbow_bernoullinb_clf = BernoulliNB(alpha=best_bbow_bernoullinb_alpha)\n",
    "    best_bbow_bernoullinb_clf = best_bbow_bernoullinb_clf.fit(train_vectors, train_output)\n",
    "    bbow_bernoullinb_dataset_pred = best_bbow_bernoullinb_clf.predict(dataset_vectors)\n",
    "    bbow_bernoullinb_dataset_f1 = f1_score(dataset_output, bbow_bernoullinb_dataset_pred, average='micro')\n",
    "\n",
    "    return bbow_bernoullinb_dataset_f1"
   ]
  },
  {
   "cell_type": "code",
   "execution_count": 56,
   "metadata": {},
   "outputs": [],
   "source": [
    "yelp_bbow_bernoullinb_train_f1 = get_bbow_bernoullinb_f1(yelp_vectors_train_binary, yelp_train_output, best_bbow_bernoullinb_alpha, yelp_vectors_train_binary, yelp_train_output)\n",
    "yelp_bbow_bernoullinb_valid_f1 = get_bbow_bernoullinb_f1(yelp_vectors_train_binary, yelp_train_output, best_bbow_bernoullinb_alpha, yelp_vectors_valid_binary, yelp_valid_output)\n",
    "yelp_bbow_bernoullinb_test_f1 = get_bbow_bernoullinb_f1(yelp_vectors_train_binary, yelp_train_output, best_bbow_bernoullinb_alpha, yelp_vectors_test_binary, yelp_test_output)"
   ]
  },
  {
   "cell_type": "code",
   "execution_count": 57,
   "metadata": {},
   "outputs": [
    {
     "name": "stdout",
     "output_type": "stream",
     "text": [
      "Yelp Binary BoW BernoulliNB Train F1 Score: 0.7337142857142858\n",
      "Yelp Binary BoW BernoulliNB Valid F1 Score: 0.416\n",
      "Yelp Binary BoW BernoulliNB Test F1 Score: 0.442\n",
      "Best Binary BoW BernoulliNB Alpha Value:  0.02\n"
     ]
    }
   ],
   "source": [
    "print(\"Yelp Binary BoW BernoulliNB Train F1 Score:\", yelp_bbow_bernoullinb_train_f1)\n",
    "print(\"Yelp Binary BoW BernoulliNB Valid F1 Score:\", yelp_bbow_bernoullinb_valid_f1)\n",
    "print(\"Yelp Binary BoW BernoulliNB Test F1 Score:\", yelp_bbow_bernoullinb_test_f1)\n",
    "print(\"Best Binary BoW BernoulliNB Alpha Value: \", best_bbow_bernoullinb_alpha)"
   ]
  },
  {
   "cell_type": "code",
   "execution_count": null,
   "metadata": {},
   "outputs": [],
   "source": [
    "\"\"\"\n",
    "Yelp Binary BoW Decision Trees\n",
    "\"\"\""
   ]
  },
  {
   "cell_type": "code",
   "execution_count": 134,
   "metadata": {},
   "outputs": [],
   "source": [
    "yelp_bbow_decisiontree_clf = DecisionTreeClassifier()\n",
    "list_max_depths = [10, 8, 6, 4] # [20*i for i in range(1, 6)] \n",
    "list_min_samples_splits = [400, 200, 100] # [20*i for i in range(1, 6)] \n",
    "list_min_samples_leaf = [400, 200, 100] # [20*i for i in range(1, 6)] \n",
    "list_max_features = [10000, 8000, 4000] # [2000*i for i in range(1, 6)]\n",
    "\n",
    "tuned_parameters = [{'max_depth': list_max_depths, 'min_samples_split': list_min_samples_splits, \n",
    "                     'min_samples_leaf': list_min_samples_leaf, 'max_features': list_max_features}]\n",
    "yelp_bbow_decisiontree_clf = GridSearchCV(yelp_bbow_decisiontree_clf, tuned_parameters, scoring='f1_micro', \n",
    "                                          cv=3, verbose=2)"
   ]
  },
  {
   "cell_type": "code",
   "execution_count": 135,
   "metadata": {
    "scrolled": true
   },
   "outputs": [
    {
     "name": "stdout",
     "output_type": "stream",
     "text": [
      "Fitting 3 folds for each of 108 candidates, totalling 324 fits\n",
      "[CV] max_depth=10, min_samples_split=400, min_samples_leaf=400, max_features=10000 \n"
     ]
    },
    {
     "name": "stderr",
     "output_type": "stream",
     "text": [
      "[Parallel(n_jobs=1)]: Using backend SequentialBackend with 1 concurrent workers.\n"
     ]
    },
    {
     "name": "stdout",
     "output_type": "stream",
     "text": [
      "[CV]  max_depth=10, min_samples_split=400, min_samples_leaf=400, max_features=10000, total=   3.1s\n",
      "[CV] max_depth=10, min_samples_split=400, min_samples_leaf=400, max_features=10000 \n"
     ]
    },
    {
     "name": "stderr",
     "output_type": "stream",
     "text": [
      "[Parallel(n_jobs=1)]: Done   1 out of   1 | elapsed:    3.4s remaining:    0.0s\n"
     ]
    },
    {
     "name": "stdout",
     "output_type": "stream",
     "text": [
      "[CV]  max_depth=10, min_samples_split=400, min_samples_leaf=400, max_features=10000, total=   3.0s\n",
      "[CV] max_depth=10, min_samples_split=400, min_samples_leaf=400, max_features=10000 \n",
      "[CV]  max_depth=10, min_samples_split=400, min_samples_leaf=400, max_features=10000, total=   3.0s\n",
      "[CV] max_depth=10, min_samples_split=200, min_samples_leaf=400, max_features=10000 \n",
      "[CV]  max_depth=10, min_samples_split=200, min_samples_leaf=400, max_features=10000, total=   3.0s\n",
      "[CV] max_depth=10, min_samples_split=200, min_samples_leaf=400, max_features=10000 \n",
      "[CV]  max_depth=10, min_samples_split=200, min_samples_leaf=400, max_features=10000, total=   3.1s\n",
      "[CV] max_depth=10, min_samples_split=200, min_samples_leaf=400, max_features=10000 \n",
      "[CV]  max_depth=10, min_samples_split=200, min_samples_leaf=400, max_features=10000, total=   3.0s\n",
      "[CV] max_depth=10, min_samples_split=100, min_samples_leaf=400, max_features=10000 \n",
      "[CV]  max_depth=10, min_samples_split=100, min_samples_leaf=400, max_features=10000, total=   3.1s\n",
      "[CV] max_depth=10, min_samples_split=100, min_samples_leaf=400, max_features=10000 \n",
      "[CV]  max_depth=10, min_samples_split=100, min_samples_leaf=400, max_features=10000, total=   3.0s\n",
      "[CV] max_depth=10, min_samples_split=100, min_samples_leaf=400, max_features=10000 \n",
      "[CV]  max_depth=10, min_samples_split=100, min_samples_leaf=400, max_features=10000, total=   3.0s\n",
      "[CV] max_depth=10, min_samples_split=400, min_samples_leaf=200, max_features=10000 \n",
      "[CV]  max_depth=10, min_samples_split=400, min_samples_leaf=200, max_features=10000, total=   3.8s\n",
      "[CV] max_depth=10, min_samples_split=400, min_samples_leaf=200, max_features=10000 \n",
      "[CV]  max_depth=10, min_samples_split=400, min_samples_leaf=200, max_features=10000, total=   4.0s\n",
      "[CV] max_depth=10, min_samples_split=400, min_samples_leaf=200, max_features=10000 \n",
      "[CV]  max_depth=10, min_samples_split=400, min_samples_leaf=200, max_features=10000, total=   3.6s\n",
      "[CV] max_depth=10, min_samples_split=200, min_samples_leaf=200, max_features=10000 \n",
      "[CV]  max_depth=10, min_samples_split=200, min_samples_leaf=200, max_features=10000, total=   3.8s\n",
      "[CV] max_depth=10, min_samples_split=200, min_samples_leaf=200, max_features=10000 \n",
      "[CV]  max_depth=10, min_samples_split=200, min_samples_leaf=200, max_features=10000, total=   4.1s\n",
      "[CV] max_depth=10, min_samples_split=200, min_samples_leaf=200, max_features=10000 \n",
      "[CV]  max_depth=10, min_samples_split=200, min_samples_leaf=200, max_features=10000, total=   3.6s\n",
      "[CV] max_depth=10, min_samples_split=100, min_samples_leaf=200, max_features=10000 \n",
      "[CV]  max_depth=10, min_samples_split=100, min_samples_leaf=200, max_features=10000, total=   3.8s\n",
      "[CV] max_depth=10, min_samples_split=100, min_samples_leaf=200, max_features=10000 \n",
      "[CV]  max_depth=10, min_samples_split=100, min_samples_leaf=200, max_features=10000, total=   4.0s\n",
      "[CV] max_depth=10, min_samples_split=100, min_samples_leaf=200, max_features=10000 \n",
      "[CV]  max_depth=10, min_samples_split=100, min_samples_leaf=200, max_features=10000, total=   3.6s\n",
      "[CV] max_depth=10, min_samples_split=400, min_samples_leaf=100, max_features=10000 \n",
      "[CV]  max_depth=10, min_samples_split=400, min_samples_leaf=100, max_features=10000, total=   4.0s\n",
      "[CV] max_depth=10, min_samples_split=400, min_samples_leaf=100, max_features=10000 \n",
      "[CV]  max_depth=10, min_samples_split=400, min_samples_leaf=100, max_features=10000, total=   5.2s\n",
      "[CV] max_depth=10, min_samples_split=400, min_samples_leaf=100, max_features=10000 \n",
      "[CV]  max_depth=10, min_samples_split=400, min_samples_leaf=100, max_features=10000, total=   4.8s\n",
      "[CV] max_depth=10, min_samples_split=200, min_samples_leaf=100, max_features=10000 \n",
      "[CV]  max_depth=10, min_samples_split=200, min_samples_leaf=100, max_features=10000, total=   4.3s\n",
      "[CV] max_depth=10, min_samples_split=200, min_samples_leaf=100, max_features=10000 \n",
      "[CV]  max_depth=10, min_samples_split=200, min_samples_leaf=100, max_features=10000, total=   4.7s\n",
      "[CV] max_depth=10, min_samples_split=200, min_samples_leaf=100, max_features=10000 \n",
      "[CV]  max_depth=10, min_samples_split=200, min_samples_leaf=100, max_features=10000, total=   5.5s\n",
      "[CV] max_depth=10, min_samples_split=100, min_samples_leaf=100, max_features=10000 \n",
      "[CV]  max_depth=10, min_samples_split=100, min_samples_leaf=100, max_features=10000, total=   5.2s\n",
      "[CV] max_depth=10, min_samples_split=100, min_samples_leaf=100, max_features=10000 \n",
      "[CV]  max_depth=10, min_samples_split=100, min_samples_leaf=100, max_features=10000, total=   5.1s\n",
      "[CV] max_depth=10, min_samples_split=100, min_samples_leaf=100, max_features=10000 \n",
      "[CV]  max_depth=10, min_samples_split=100, min_samples_leaf=100, max_features=10000, total=   5.0s\n",
      "[CV] max_depth=10, min_samples_split=400, min_samples_leaf=400, max_features=8000 \n",
      "[CV]  max_depth=10, min_samples_split=400, min_samples_leaf=400, max_features=8000, total=   2.8s\n",
      "[CV] max_depth=10, min_samples_split=400, min_samples_leaf=400, max_features=8000 \n",
      "[CV]  max_depth=10, min_samples_split=400, min_samples_leaf=400, max_features=8000, total=   3.5s\n",
      "[CV] max_depth=10, min_samples_split=400, min_samples_leaf=400, max_features=8000 \n",
      "[CV]  max_depth=10, min_samples_split=400, min_samples_leaf=400, max_features=8000, total=   2.7s\n",
      "[CV] max_depth=10, min_samples_split=200, min_samples_leaf=400, max_features=8000 \n",
      "[CV]  max_depth=10, min_samples_split=200, min_samples_leaf=400, max_features=8000, total=   3.3s\n",
      "[CV] max_depth=10, min_samples_split=200, min_samples_leaf=400, max_features=8000 \n",
      "[CV]  max_depth=10, min_samples_split=200, min_samples_leaf=400, max_features=8000, total=   3.2s\n",
      "[CV] max_depth=10, min_samples_split=200, min_samples_leaf=400, max_features=8000 \n",
      "[CV]  max_depth=10, min_samples_split=200, min_samples_leaf=400, max_features=8000, total=   2.7s\n",
      "[CV] max_depth=10, min_samples_split=100, min_samples_leaf=400, max_features=8000 \n",
      "[CV]  max_depth=10, min_samples_split=100, min_samples_leaf=400, max_features=8000, total=   2.5s\n",
      "[CV] max_depth=10, min_samples_split=100, min_samples_leaf=400, max_features=8000 \n",
      "[CV]  max_depth=10, min_samples_split=100, min_samples_leaf=400, max_features=8000, total=   2.5s\n",
      "[CV] max_depth=10, min_samples_split=100, min_samples_leaf=400, max_features=8000 \n",
      "[CV]  max_depth=10, min_samples_split=100, min_samples_leaf=400, max_features=8000, total=   2.6s\n",
      "[CV] max_depth=10, min_samples_split=400, min_samples_leaf=200, max_features=8000 \n",
      "[CV]  max_depth=10, min_samples_split=400, min_samples_leaf=200, max_features=8000, total=   3.2s\n",
      "[CV] max_depth=10, min_samples_split=400, min_samples_leaf=200, max_features=8000 \n",
      "[CV]  max_depth=10, min_samples_split=400, min_samples_leaf=200, max_features=8000, total=   3.3s\n",
      "[CV] max_depth=10, min_samples_split=400, min_samples_leaf=200, max_features=8000 \n",
      "[CV]  max_depth=10, min_samples_split=400, min_samples_leaf=200, max_features=8000, total=   3.0s\n",
      "[CV] max_depth=10, min_samples_split=200, min_samples_leaf=200, max_features=8000 \n",
      "[CV]  max_depth=10, min_samples_split=200, min_samples_leaf=200, max_features=8000, total=   3.0s\n",
      "[CV] max_depth=10, min_samples_split=200, min_samples_leaf=200, max_features=8000 \n",
      "[CV]  max_depth=10, min_samples_split=200, min_samples_leaf=200, max_features=8000, total=   3.0s\n",
      "[CV] max_depth=10, min_samples_split=200, min_samples_leaf=200, max_features=8000 \n",
      "[CV]  max_depth=10, min_samples_split=200, min_samples_leaf=200, max_features=8000, total=   3.3s\n",
      "[CV] max_depth=10, min_samples_split=100, min_samples_leaf=200, max_features=8000 \n",
      "[CV]  max_depth=10, min_samples_split=100, min_samples_leaf=200, max_features=8000, total=   3.5s\n",
      "[CV] max_depth=10, min_samples_split=100, min_samples_leaf=200, max_features=8000 \n",
      "[CV]  max_depth=10, min_samples_split=100, min_samples_leaf=200, max_features=8000, total=   3.6s\n",
      "[CV] max_depth=10, min_samples_split=100, min_samples_leaf=200, max_features=8000 \n",
      "[CV]  max_depth=10, min_samples_split=100, min_samples_leaf=200, max_features=8000, total=   3.0s\n",
      "[CV] max_depth=10, min_samples_split=400, min_samples_leaf=100, max_features=8000 \n",
      "[CV]  max_depth=10, min_samples_split=400, min_samples_leaf=100, max_features=8000, total=   3.4s\n",
      "[CV] max_depth=10, min_samples_split=400, min_samples_leaf=100, max_features=8000 \n"
     ]
    },
    {
     "name": "stdout",
     "output_type": "stream",
     "text": [
      "[CV]  max_depth=10, min_samples_split=400, min_samples_leaf=100, max_features=8000, total=   3.5s\n",
      "[CV] max_depth=10, min_samples_split=400, min_samples_leaf=100, max_features=8000 \n",
      "[CV]  max_depth=10, min_samples_split=400, min_samples_leaf=100, max_features=8000, total=   3.5s\n",
      "[CV] max_depth=10, min_samples_split=200, min_samples_leaf=100, max_features=8000 \n",
      "[CV]  max_depth=10, min_samples_split=200, min_samples_leaf=100, max_features=8000, total=   3.6s\n",
      "[CV] max_depth=10, min_samples_split=200, min_samples_leaf=100, max_features=8000 \n",
      "[CV]  max_depth=10, min_samples_split=200, min_samples_leaf=100, max_features=8000, total=   3.6s\n",
      "[CV] max_depth=10, min_samples_split=200, min_samples_leaf=100, max_features=8000 \n",
      "[CV]  max_depth=10, min_samples_split=200, min_samples_leaf=100, max_features=8000, total=   4.4s\n",
      "[CV] max_depth=10, min_samples_split=100, min_samples_leaf=100, max_features=8000 \n",
      "[CV]  max_depth=10, min_samples_split=100, min_samples_leaf=100, max_features=8000, total=   3.6s\n",
      "[CV] max_depth=10, min_samples_split=100, min_samples_leaf=100, max_features=8000 \n",
      "[CV]  max_depth=10, min_samples_split=100, min_samples_leaf=100, max_features=8000, total=   3.8s\n",
      "[CV] max_depth=10, min_samples_split=100, min_samples_leaf=100, max_features=8000 \n",
      "[CV]  max_depth=10, min_samples_split=100, min_samples_leaf=100, max_features=8000, total=   3.5s\n",
      "[CV] max_depth=10, min_samples_split=400, min_samples_leaf=400, max_features=4000 \n",
      "[CV]  max_depth=10, min_samples_split=400, min_samples_leaf=400, max_features=4000, total=   1.7s\n",
      "[CV] max_depth=10, min_samples_split=400, min_samples_leaf=400, max_features=4000 \n",
      "[CV]  max_depth=10, min_samples_split=400, min_samples_leaf=400, max_features=4000, total=   2.0s\n",
      "[CV] max_depth=10, min_samples_split=400, min_samples_leaf=400, max_features=4000 \n",
      "[CV]  max_depth=10, min_samples_split=400, min_samples_leaf=400, max_features=4000, total=   1.9s\n",
      "[CV] max_depth=10, min_samples_split=200, min_samples_leaf=400, max_features=4000 \n",
      "[CV]  max_depth=10, min_samples_split=200, min_samples_leaf=400, max_features=4000, total=   1.9s\n",
      "[CV] max_depth=10, min_samples_split=200, min_samples_leaf=400, max_features=4000 \n",
      "[CV]  max_depth=10, min_samples_split=200, min_samples_leaf=400, max_features=4000, total=   1.8s\n",
      "[CV] max_depth=10, min_samples_split=200, min_samples_leaf=400, max_features=4000 \n",
      "[CV]  max_depth=10, min_samples_split=200, min_samples_leaf=400, max_features=4000, total=   1.6s\n",
      "[CV] max_depth=10, min_samples_split=100, min_samples_leaf=400, max_features=4000 \n",
      "[CV]  max_depth=10, min_samples_split=100, min_samples_leaf=400, max_features=4000, total=   1.8s\n",
      "[CV] max_depth=10, min_samples_split=100, min_samples_leaf=400, max_features=4000 \n",
      "[CV]  max_depth=10, min_samples_split=100, min_samples_leaf=400, max_features=4000, total=   2.0s\n",
      "[CV] max_depth=10, min_samples_split=100, min_samples_leaf=400, max_features=4000 \n",
      "[CV]  max_depth=10, min_samples_split=100, min_samples_leaf=400, max_features=4000, total=   1.8s\n",
      "[CV] max_depth=10, min_samples_split=400, min_samples_leaf=200, max_features=4000 \n",
      "[CV]  max_depth=10, min_samples_split=400, min_samples_leaf=200, max_features=4000, total=   2.3s\n",
      "[CV] max_depth=10, min_samples_split=400, min_samples_leaf=200, max_features=4000 \n",
      "[CV]  max_depth=10, min_samples_split=400, min_samples_leaf=200, max_features=4000, total=   2.0s\n",
      "[CV] max_depth=10, min_samples_split=400, min_samples_leaf=200, max_features=4000 \n",
      "[CV]  max_depth=10, min_samples_split=400, min_samples_leaf=200, max_features=4000, total=   2.1s\n",
      "[CV] max_depth=10, min_samples_split=200, min_samples_leaf=200, max_features=4000 \n",
      "[CV]  max_depth=10, min_samples_split=200, min_samples_leaf=200, max_features=4000, total=   1.9s\n",
      "[CV] max_depth=10, min_samples_split=200, min_samples_leaf=200, max_features=4000 \n",
      "[CV]  max_depth=10, min_samples_split=200, min_samples_leaf=200, max_features=4000, total=   1.9s\n",
      "[CV] max_depth=10, min_samples_split=200, min_samples_leaf=200, max_features=4000 \n",
      "[CV]  max_depth=10, min_samples_split=200, min_samples_leaf=200, max_features=4000, total=   1.9s\n",
      "[CV] max_depth=10, min_samples_split=100, min_samples_leaf=200, max_features=4000 \n",
      "[CV]  max_depth=10, min_samples_split=100, min_samples_leaf=200, max_features=4000, total=   2.0s\n",
      "[CV] max_depth=10, min_samples_split=100, min_samples_leaf=200, max_features=4000 \n",
      "[CV]  max_depth=10, min_samples_split=100, min_samples_leaf=200, max_features=4000, total=   1.8s\n",
      "[CV] max_depth=10, min_samples_split=100, min_samples_leaf=200, max_features=4000 \n",
      "[CV]  max_depth=10, min_samples_split=100, min_samples_leaf=200, max_features=4000, total=   2.1s\n",
      "[CV] max_depth=10, min_samples_split=400, min_samples_leaf=100, max_features=4000 \n",
      "[CV]  max_depth=10, min_samples_split=400, min_samples_leaf=100, max_features=4000, total=   2.0s\n",
      "[CV] max_depth=10, min_samples_split=400, min_samples_leaf=100, max_features=4000 \n",
      "[CV]  max_depth=10, min_samples_split=400, min_samples_leaf=100, max_features=4000, total=   2.1s\n",
      "[CV] max_depth=10, min_samples_split=400, min_samples_leaf=100, max_features=4000 \n",
      "[CV]  max_depth=10, min_samples_split=400, min_samples_leaf=100, max_features=4000, total=   2.2s\n",
      "[CV] max_depth=10, min_samples_split=200, min_samples_leaf=100, max_features=4000 \n",
      "[CV]  max_depth=10, min_samples_split=200, min_samples_leaf=100, max_features=4000, total=   2.3s\n",
      "[CV] max_depth=10, min_samples_split=200, min_samples_leaf=100, max_features=4000 \n",
      "[CV]  max_depth=10, min_samples_split=200, min_samples_leaf=100, max_features=4000, total=   2.4s\n",
      "[CV] max_depth=10, min_samples_split=200, min_samples_leaf=100, max_features=4000 \n",
      "[CV]  max_depth=10, min_samples_split=200, min_samples_leaf=100, max_features=4000, total=   2.3s\n",
      "[CV] max_depth=10, min_samples_split=100, min_samples_leaf=100, max_features=4000 \n",
      "[CV]  max_depth=10, min_samples_split=100, min_samples_leaf=100, max_features=4000, total=   2.2s\n",
      "[CV] max_depth=10, min_samples_split=100, min_samples_leaf=100, max_features=4000 \n",
      "[CV]  max_depth=10, min_samples_split=100, min_samples_leaf=100, max_features=4000, total=   2.3s\n",
      "[CV] max_depth=10, min_samples_split=100, min_samples_leaf=100, max_features=4000 \n",
      "[CV]  max_depth=10, min_samples_split=100, min_samples_leaf=100, max_features=4000, total=   2.2s\n",
      "[CV] max_depth=8, min_samples_split=400, min_samples_leaf=400, max_features=10000 \n",
      "[CV]  max_depth=8, min_samples_split=400, min_samples_leaf=400, max_features=10000, total=   3.0s\n",
      "[CV] max_depth=8, min_samples_split=400, min_samples_leaf=400, max_features=10000 \n",
      "[CV]  max_depth=8, min_samples_split=400, min_samples_leaf=400, max_features=10000, total=   3.0s\n",
      "[CV] max_depth=8, min_samples_split=400, min_samples_leaf=400, max_features=10000 \n",
      "[CV]  max_depth=8, min_samples_split=400, min_samples_leaf=400, max_features=10000, total=   3.0s\n",
      "[CV] max_depth=8, min_samples_split=200, min_samples_leaf=400, max_features=10000 \n",
      "[CV]  max_depth=8, min_samples_split=200, min_samples_leaf=400, max_features=10000, total=   3.0s\n",
      "[CV] max_depth=8, min_samples_split=200, min_samples_leaf=400, max_features=10000 \n",
      "[CV]  max_depth=8, min_samples_split=200, min_samples_leaf=400, max_features=10000, total=   3.4s\n",
      "[CV] max_depth=8, min_samples_split=200, min_samples_leaf=400, max_features=10000 \n",
      "[CV]  max_depth=8, min_samples_split=200, min_samples_leaf=400, max_features=10000, total=   3.6s\n",
      "[CV] max_depth=8, min_samples_split=100, min_samples_leaf=400, max_features=10000 \n",
      "[CV]  max_depth=8, min_samples_split=100, min_samples_leaf=400, max_features=10000, total=   3.1s\n",
      "[CV] max_depth=8, min_samples_split=100, min_samples_leaf=400, max_features=10000 \n",
      "[CV]  max_depth=8, min_samples_split=100, min_samples_leaf=400, max_features=10000, total=   3.0s\n",
      "[CV] max_depth=8, min_samples_split=100, min_samples_leaf=400, max_features=10000 \n",
      "[CV]  max_depth=8, min_samples_split=100, min_samples_leaf=400, max_features=10000, total=   3.0s\n",
      "[CV] max_depth=8, min_samples_split=400, min_samples_leaf=200, max_features=10000 \n",
      "[CV]  max_depth=8, min_samples_split=400, min_samples_leaf=200, max_features=10000, total=   3.8s\n",
      "[CV] max_depth=8, min_samples_split=400, min_samples_leaf=200, max_features=10000 \n",
      "[CV]  max_depth=8, min_samples_split=400, min_samples_leaf=200, max_features=10000, total=   3.9s\n",
      "[CV] max_depth=8, min_samples_split=400, min_samples_leaf=200, max_features=10000 \n"
     ]
    },
    {
     "name": "stdout",
     "output_type": "stream",
     "text": [
      "[CV]  max_depth=8, min_samples_split=400, min_samples_leaf=200, max_features=10000, total=   3.6s\n",
      "[CV] max_depth=8, min_samples_split=200, min_samples_leaf=200, max_features=10000 \n",
      "[CV]  max_depth=8, min_samples_split=200, min_samples_leaf=200, max_features=10000, total=   3.7s\n",
      "[CV] max_depth=8, min_samples_split=200, min_samples_leaf=200, max_features=10000 \n",
      "[CV]  max_depth=8, min_samples_split=200, min_samples_leaf=200, max_features=10000, total=   4.0s\n",
      "[CV] max_depth=8, min_samples_split=200, min_samples_leaf=200, max_features=10000 \n",
      "[CV]  max_depth=8, min_samples_split=200, min_samples_leaf=200, max_features=10000, total=   3.6s\n",
      "[CV] max_depth=8, min_samples_split=100, min_samples_leaf=200, max_features=10000 \n",
      "[CV]  max_depth=8, min_samples_split=100, min_samples_leaf=200, max_features=10000, total=   3.8s\n",
      "[CV] max_depth=8, min_samples_split=100, min_samples_leaf=200, max_features=10000 \n",
      "[CV]  max_depth=8, min_samples_split=100, min_samples_leaf=200, max_features=10000, total=   4.0s\n",
      "[CV] max_depth=8, min_samples_split=100, min_samples_leaf=200, max_features=10000 \n",
      "[CV]  max_depth=8, min_samples_split=100, min_samples_leaf=200, max_features=10000, total=   3.6s\n",
      "[CV] max_depth=8, min_samples_split=400, min_samples_leaf=100, max_features=10000 \n",
      "[CV]  max_depth=8, min_samples_split=400, min_samples_leaf=100, max_features=10000, total=   3.9s\n",
      "[CV] max_depth=8, min_samples_split=400, min_samples_leaf=100, max_features=10000 \n",
      "[CV]  max_depth=8, min_samples_split=400, min_samples_leaf=100, max_features=10000, total=   4.1s\n",
      "[CV] max_depth=8, min_samples_split=400, min_samples_leaf=100, max_features=10000 \n",
      "[CV]  max_depth=8, min_samples_split=400, min_samples_leaf=100, max_features=10000, total=   4.1s\n",
      "[CV] max_depth=8, min_samples_split=200, min_samples_leaf=100, max_features=10000 \n",
      "[CV]  max_depth=8, min_samples_split=200, min_samples_leaf=100, max_features=10000, total=   4.2s\n",
      "[CV] max_depth=8, min_samples_split=200, min_samples_leaf=100, max_features=10000 \n",
      "[CV]  max_depth=8, min_samples_split=200, min_samples_leaf=100, max_features=10000, total=   4.9s\n",
      "[CV] max_depth=8, min_samples_split=200, min_samples_leaf=100, max_features=10000 \n",
      "[CV]  max_depth=8, min_samples_split=200, min_samples_leaf=100, max_features=10000, total=   4.4s\n",
      "[CV] max_depth=8, min_samples_split=100, min_samples_leaf=100, max_features=10000 \n",
      "[CV]  max_depth=8, min_samples_split=100, min_samples_leaf=100, max_features=10000, total=   4.2s\n",
      "[CV] max_depth=8, min_samples_split=100, min_samples_leaf=100, max_features=10000 \n",
      "[CV]  max_depth=8, min_samples_split=100, min_samples_leaf=100, max_features=10000, total=   4.3s\n",
      "[CV] max_depth=8, min_samples_split=100, min_samples_leaf=100, max_features=10000 \n",
      "[CV]  max_depth=8, min_samples_split=100, min_samples_leaf=100, max_features=10000, total=   4.2s\n",
      "[CV] max_depth=8, min_samples_split=400, min_samples_leaf=400, max_features=8000 \n",
      "[CV]  max_depth=8, min_samples_split=400, min_samples_leaf=400, max_features=8000, total=   2.5s\n",
      "[CV] max_depth=8, min_samples_split=400, min_samples_leaf=400, max_features=8000 \n",
      "[CV]  max_depth=8, min_samples_split=400, min_samples_leaf=400, max_features=8000, total=   2.8s\n",
      "[CV] max_depth=8, min_samples_split=400, min_samples_leaf=400, max_features=8000 \n",
      "[CV]  max_depth=8, min_samples_split=400, min_samples_leaf=400, max_features=8000, total=   2.5s\n",
      "[CV] max_depth=8, min_samples_split=200, min_samples_leaf=400, max_features=8000 \n",
      "[CV]  max_depth=8, min_samples_split=200, min_samples_leaf=400, max_features=8000, total=   2.4s\n",
      "[CV] max_depth=8, min_samples_split=200, min_samples_leaf=400, max_features=8000 \n",
      "[CV]  max_depth=8, min_samples_split=200, min_samples_leaf=400, max_features=8000, total=   2.5s\n",
      "[CV] max_depth=8, min_samples_split=200, min_samples_leaf=400, max_features=8000 \n",
      "[CV]  max_depth=8, min_samples_split=200, min_samples_leaf=400, max_features=8000, total=   2.4s\n",
      "[CV] max_depth=8, min_samples_split=100, min_samples_leaf=400, max_features=8000 \n",
      "[CV]  max_depth=8, min_samples_split=100, min_samples_leaf=400, max_features=8000, total=   2.7s\n",
      "[CV] max_depth=8, min_samples_split=100, min_samples_leaf=400, max_features=8000 \n",
      "[CV]  max_depth=8, min_samples_split=100, min_samples_leaf=400, max_features=8000, total=   2.5s\n",
      "[CV] max_depth=8, min_samples_split=100, min_samples_leaf=400, max_features=8000 \n",
      "[CV]  max_depth=8, min_samples_split=100, min_samples_leaf=400, max_features=8000, total=   2.6s\n",
      "[CV] max_depth=8, min_samples_split=400, min_samples_leaf=200, max_features=8000 \n",
      "[CV]  max_depth=8, min_samples_split=400, min_samples_leaf=200, max_features=8000, total=   4.2s\n",
      "[CV] max_depth=8, min_samples_split=400, min_samples_leaf=200, max_features=8000 \n",
      "[CV]  max_depth=8, min_samples_split=400, min_samples_leaf=200, max_features=8000, total=   4.1s\n",
      "[CV] max_depth=8, min_samples_split=400, min_samples_leaf=200, max_features=8000 \n",
      "[CV]  max_depth=8, min_samples_split=400, min_samples_leaf=200, max_features=8000, total=   3.5s\n",
      "[CV] max_depth=8, min_samples_split=200, min_samples_leaf=200, max_features=8000 \n",
      "[CV]  max_depth=8, min_samples_split=200, min_samples_leaf=200, max_features=8000, total=   4.3s\n",
      "[CV] max_depth=8, min_samples_split=200, min_samples_leaf=200, max_features=8000 \n",
      "[CV]  max_depth=8, min_samples_split=200, min_samples_leaf=200, max_features=8000, total=   3.4s\n",
      "[CV] max_depth=8, min_samples_split=200, min_samples_leaf=200, max_features=8000 \n",
      "[CV]  max_depth=8, min_samples_split=200, min_samples_leaf=200, max_features=8000, total=   3.0s\n",
      "[CV] max_depth=8, min_samples_split=100, min_samples_leaf=200, max_features=8000 \n",
      "[CV]  max_depth=8, min_samples_split=100, min_samples_leaf=200, max_features=8000, total=   3.2s\n",
      "[CV] max_depth=8, min_samples_split=100, min_samples_leaf=200, max_features=8000 \n",
      "[CV]  max_depth=8, min_samples_split=100, min_samples_leaf=200, max_features=8000, total=   4.3s\n",
      "[CV] max_depth=8, min_samples_split=100, min_samples_leaf=200, max_features=8000 \n",
      "[CV]  max_depth=8, min_samples_split=100, min_samples_leaf=200, max_features=8000, total=   3.5s\n",
      "[CV] max_depth=8, min_samples_split=400, min_samples_leaf=100, max_features=8000 \n",
      "[CV]  max_depth=8, min_samples_split=400, min_samples_leaf=100, max_features=8000, total=   3.4s\n",
      "[CV] max_depth=8, min_samples_split=400, min_samples_leaf=100, max_features=8000 \n",
      "[CV]  max_depth=8, min_samples_split=400, min_samples_leaf=100, max_features=8000, total=   4.0s\n",
      "[CV] max_depth=8, min_samples_split=400, min_samples_leaf=100, max_features=8000 \n",
      "[CV]  max_depth=8, min_samples_split=400, min_samples_leaf=100, max_features=8000, total=   4.6s\n",
      "[CV] max_depth=8, min_samples_split=200, min_samples_leaf=100, max_features=8000 \n",
      "[CV]  max_depth=8, min_samples_split=200, min_samples_leaf=100, max_features=8000, total=   4.0s\n",
      "[CV] max_depth=8, min_samples_split=200, min_samples_leaf=100, max_features=8000 \n",
      "[CV]  max_depth=8, min_samples_split=200, min_samples_leaf=100, max_features=8000, total=   3.8s\n",
      "[CV] max_depth=8, min_samples_split=200, min_samples_leaf=100, max_features=8000 \n",
      "[CV]  max_depth=8, min_samples_split=200, min_samples_leaf=100, max_features=8000, total=   3.5s\n",
      "[CV] max_depth=8, min_samples_split=100, min_samples_leaf=100, max_features=8000 \n",
      "[CV]  max_depth=8, min_samples_split=100, min_samples_leaf=100, max_features=8000, total=   3.8s\n",
      "[CV] max_depth=8, min_samples_split=100, min_samples_leaf=100, max_features=8000 \n",
      "[CV]  max_depth=8, min_samples_split=100, min_samples_leaf=100, max_features=8000, total=   3.8s\n",
      "[CV] max_depth=8, min_samples_split=100, min_samples_leaf=100, max_features=8000 \n",
      "[CV]  max_depth=8, min_samples_split=100, min_samples_leaf=100, max_features=8000, total=   4.3s\n",
      "[CV] max_depth=8, min_samples_split=400, min_samples_leaf=400, max_features=4000 \n",
      "[CV]  max_depth=8, min_samples_split=400, min_samples_leaf=400, max_features=4000, total=   1.8s\n",
      "[CV] max_depth=8, min_samples_split=400, min_samples_leaf=400, max_features=4000 \n",
      "[CV]  max_depth=8, min_samples_split=400, min_samples_leaf=400, max_features=4000, total=   2.0s\n",
      "[CV] max_depth=8, min_samples_split=400, min_samples_leaf=400, max_features=4000 \n",
      "[CV]  max_depth=8, min_samples_split=400, min_samples_leaf=400, max_features=4000, total=   2.0s\n",
      "[CV] max_depth=8, min_samples_split=200, min_samples_leaf=400, max_features=4000 \n"
     ]
    },
    {
     "name": "stdout",
     "output_type": "stream",
     "text": [
      "[CV]  max_depth=8, min_samples_split=200, min_samples_leaf=400, max_features=4000, total=   1.8s\n",
      "[CV] max_depth=8, min_samples_split=200, min_samples_leaf=400, max_features=4000 \n",
      "[CV]  max_depth=8, min_samples_split=200, min_samples_leaf=400, max_features=4000, total=   2.0s\n",
      "[CV] max_depth=8, min_samples_split=200, min_samples_leaf=400, max_features=4000 \n",
      "[CV]  max_depth=8, min_samples_split=200, min_samples_leaf=400, max_features=4000, total=   1.8s\n",
      "[CV] max_depth=8, min_samples_split=100, min_samples_leaf=400, max_features=4000 \n",
      "[CV]  max_depth=8, min_samples_split=100, min_samples_leaf=400, max_features=4000, total=   1.8s\n",
      "[CV] max_depth=8, min_samples_split=100, min_samples_leaf=400, max_features=4000 \n",
      "[CV]  max_depth=8, min_samples_split=100, min_samples_leaf=400, max_features=4000, total=   1.7s\n",
      "[CV] max_depth=8, min_samples_split=100, min_samples_leaf=400, max_features=4000 \n",
      "[CV]  max_depth=8, min_samples_split=100, min_samples_leaf=400, max_features=4000, total=   2.3s\n",
      "[CV] max_depth=8, min_samples_split=400, min_samples_leaf=200, max_features=4000 \n",
      "[CV]  max_depth=8, min_samples_split=400, min_samples_leaf=200, max_features=4000, total=   2.3s\n",
      "[CV] max_depth=8, min_samples_split=400, min_samples_leaf=200, max_features=4000 \n",
      "[CV]  max_depth=8, min_samples_split=400, min_samples_leaf=200, max_features=4000, total=   2.4s\n",
      "[CV] max_depth=8, min_samples_split=400, min_samples_leaf=200, max_features=4000 \n",
      "[CV]  max_depth=8, min_samples_split=400, min_samples_leaf=200, max_features=4000, total=   2.2s\n",
      "[CV] max_depth=8, min_samples_split=200, min_samples_leaf=200, max_features=4000 \n",
      "[CV]  max_depth=8, min_samples_split=200, min_samples_leaf=200, max_features=4000, total=   2.0s\n",
      "[CV] max_depth=8, min_samples_split=200, min_samples_leaf=200, max_features=4000 \n",
      "[CV]  max_depth=8, min_samples_split=200, min_samples_leaf=200, max_features=4000, total=   1.9s\n",
      "[CV] max_depth=8, min_samples_split=200, min_samples_leaf=200, max_features=4000 \n",
      "[CV]  max_depth=8, min_samples_split=200, min_samples_leaf=200, max_features=4000, total=   2.1s\n",
      "[CV] max_depth=8, min_samples_split=100, min_samples_leaf=200, max_features=4000 \n",
      "[CV]  max_depth=8, min_samples_split=100, min_samples_leaf=200, max_features=4000, total=   2.0s\n",
      "[CV] max_depth=8, min_samples_split=100, min_samples_leaf=200, max_features=4000 \n",
      "[CV]  max_depth=8, min_samples_split=100, min_samples_leaf=200, max_features=4000, total=   2.0s\n",
      "[CV] max_depth=8, min_samples_split=100, min_samples_leaf=200, max_features=4000 \n",
      "[CV]  max_depth=8, min_samples_split=100, min_samples_leaf=200, max_features=4000, total=   1.9s\n",
      "[CV] max_depth=8, min_samples_split=400, min_samples_leaf=100, max_features=4000 \n",
      "[CV]  max_depth=8, min_samples_split=400, min_samples_leaf=100, max_features=4000, total=   2.3s\n",
      "[CV] max_depth=8, min_samples_split=400, min_samples_leaf=100, max_features=4000 \n",
      "[CV]  max_depth=8, min_samples_split=400, min_samples_leaf=100, max_features=4000, total=   2.0s\n",
      "[CV] max_depth=8, min_samples_split=400, min_samples_leaf=100, max_features=4000 \n",
      "[CV]  max_depth=8, min_samples_split=400, min_samples_leaf=100, max_features=4000, total=   2.0s\n",
      "[CV] max_depth=8, min_samples_split=200, min_samples_leaf=100, max_features=4000 \n",
      "[CV]  max_depth=8, min_samples_split=200, min_samples_leaf=100, max_features=4000, total=   2.1s\n",
      "[CV] max_depth=8, min_samples_split=200, min_samples_leaf=100, max_features=4000 \n",
      "[CV]  max_depth=8, min_samples_split=200, min_samples_leaf=100, max_features=4000, total=   2.4s\n",
      "[CV] max_depth=8, min_samples_split=200, min_samples_leaf=100, max_features=4000 \n",
      "[CV]  max_depth=8, min_samples_split=200, min_samples_leaf=100, max_features=4000, total=   2.3s\n",
      "[CV] max_depth=8, min_samples_split=100, min_samples_leaf=100, max_features=4000 \n",
      "[CV]  max_depth=8, min_samples_split=100, min_samples_leaf=100, max_features=4000, total=   2.3s\n",
      "[CV] max_depth=8, min_samples_split=100, min_samples_leaf=100, max_features=4000 \n",
      "[CV]  max_depth=8, min_samples_split=100, min_samples_leaf=100, max_features=4000, total=   2.4s\n",
      "[CV] max_depth=8, min_samples_split=100, min_samples_leaf=100, max_features=4000 \n",
      "[CV]  max_depth=8, min_samples_split=100, min_samples_leaf=100, max_features=4000, total=   2.3s\n",
      "[CV] max_depth=6, min_samples_split=400, min_samples_leaf=400, max_features=10000 \n",
      "[CV]  max_depth=6, min_samples_split=400, min_samples_leaf=400, max_features=10000, total=   3.8s\n",
      "[CV] max_depth=6, min_samples_split=400, min_samples_leaf=400, max_features=10000 \n",
      "[CV]  max_depth=6, min_samples_split=400, min_samples_leaf=400, max_features=10000, total=   3.2s\n",
      "[CV] max_depth=6, min_samples_split=400, min_samples_leaf=400, max_features=10000 \n",
      "[CV]  max_depth=6, min_samples_split=400, min_samples_leaf=400, max_features=10000, total=   3.2s\n",
      "[CV] max_depth=6, min_samples_split=200, min_samples_leaf=400, max_features=10000 \n",
      "[CV]  max_depth=6, min_samples_split=200, min_samples_leaf=400, max_features=10000, total=   3.2s\n",
      "[CV] max_depth=6, min_samples_split=200, min_samples_leaf=400, max_features=10000 \n",
      "[CV]  max_depth=6, min_samples_split=200, min_samples_leaf=400, max_features=10000, total=   3.6s\n",
      "[CV] max_depth=6, min_samples_split=200, min_samples_leaf=400, max_features=10000 \n",
      "[CV]  max_depth=6, min_samples_split=200, min_samples_leaf=400, max_features=10000, total=   3.7s\n",
      "[CV] max_depth=6, min_samples_split=100, min_samples_leaf=400, max_features=10000 \n",
      "[CV]  max_depth=6, min_samples_split=100, min_samples_leaf=400, max_features=10000, total=   3.4s\n",
      "[CV] max_depth=6, min_samples_split=100, min_samples_leaf=400, max_features=10000 \n",
      "[CV]  max_depth=6, min_samples_split=100, min_samples_leaf=400, max_features=10000, total=   2.9s\n",
      "[CV] max_depth=6, min_samples_split=100, min_samples_leaf=400, max_features=10000 \n",
      "[CV]  max_depth=6, min_samples_split=100, min_samples_leaf=400, max_features=10000, total=   3.0s\n",
      "[CV] max_depth=6, min_samples_split=400, min_samples_leaf=200, max_features=10000 \n",
      "[CV]  max_depth=6, min_samples_split=400, min_samples_leaf=200, max_features=10000, total=   3.7s\n",
      "[CV] max_depth=6, min_samples_split=400, min_samples_leaf=200, max_features=10000 \n",
      "[CV]  max_depth=6, min_samples_split=400, min_samples_leaf=200, max_features=10000, total=   3.9s\n",
      "[CV] max_depth=6, min_samples_split=400, min_samples_leaf=200, max_features=10000 \n",
      "[CV]  max_depth=6, min_samples_split=400, min_samples_leaf=200, max_features=10000, total=   3.5s\n",
      "[CV] max_depth=6, min_samples_split=200, min_samples_leaf=200, max_features=10000 \n",
      "[CV]  max_depth=6, min_samples_split=200, min_samples_leaf=200, max_features=10000, total=   3.7s\n",
      "[CV] max_depth=6, min_samples_split=200, min_samples_leaf=200, max_features=10000 \n",
      "[CV]  max_depth=6, min_samples_split=200, min_samples_leaf=200, max_features=10000, total=   3.8s\n",
      "[CV] max_depth=6, min_samples_split=200, min_samples_leaf=200, max_features=10000 \n",
      "[CV]  max_depth=6, min_samples_split=200, min_samples_leaf=200, max_features=10000, total=   3.8s\n",
      "[CV] max_depth=6, min_samples_split=100, min_samples_leaf=200, max_features=10000 \n",
      "[CV]  max_depth=6, min_samples_split=100, min_samples_leaf=200, max_features=10000, total=   3.6s\n",
      "[CV] max_depth=6, min_samples_split=100, min_samples_leaf=200, max_features=10000 \n",
      "[CV]  max_depth=6, min_samples_split=100, min_samples_leaf=200, max_features=10000, total=   3.9s\n",
      "[CV] max_depth=6, min_samples_split=100, min_samples_leaf=200, max_features=10000 \n",
      "[CV]  max_depth=6, min_samples_split=100, min_samples_leaf=200, max_features=10000, total=   3.6s\n",
      "[CV] max_depth=6, min_samples_split=400, min_samples_leaf=100, max_features=10000 \n",
      "[CV]  max_depth=6, min_samples_split=400, min_samples_leaf=100, max_features=10000, total=   3.7s\n",
      "[CV] max_depth=6, min_samples_split=400, min_samples_leaf=100, max_features=10000 \n",
      "[CV]  max_depth=6, min_samples_split=400, min_samples_leaf=100, max_features=10000, total=   4.0s\n",
      "[CV] max_depth=6, min_samples_split=400, min_samples_leaf=100, max_features=10000 \n",
      "[CV]  max_depth=6, min_samples_split=400, min_samples_leaf=100, max_features=10000, total=   3.8s\n",
      "[CV] max_depth=6, min_samples_split=200, min_samples_leaf=100, max_features=10000 \n",
      "[CV]  max_depth=6, min_samples_split=200, min_samples_leaf=100, max_features=10000, total=   3.9s\n",
      "[CV] max_depth=6, min_samples_split=200, min_samples_leaf=100, max_features=10000 \n"
     ]
    },
    {
     "name": "stdout",
     "output_type": "stream",
     "text": [
      "[CV]  max_depth=6, min_samples_split=200, min_samples_leaf=100, max_features=10000, total=   4.1s\n",
      "[CV] max_depth=6, min_samples_split=200, min_samples_leaf=100, max_features=10000 \n",
      "[CV]  max_depth=6, min_samples_split=200, min_samples_leaf=100, max_features=10000, total=   4.0s\n",
      "[CV] max_depth=6, min_samples_split=100, min_samples_leaf=100, max_features=10000 \n",
      "[CV]  max_depth=6, min_samples_split=100, min_samples_leaf=100, max_features=10000, total=   3.9s\n",
      "[CV] max_depth=6, min_samples_split=100, min_samples_leaf=100, max_features=10000 \n",
      "[CV]  max_depth=6, min_samples_split=100, min_samples_leaf=100, max_features=10000, total=   4.2s\n",
      "[CV] max_depth=6, min_samples_split=100, min_samples_leaf=100, max_features=10000 \n",
      "[CV]  max_depth=6, min_samples_split=100, min_samples_leaf=100, max_features=10000, total=   4.0s\n",
      "[CV] max_depth=6, min_samples_split=400, min_samples_leaf=400, max_features=8000 \n",
      "[CV]  max_depth=6, min_samples_split=400, min_samples_leaf=400, max_features=8000, total=   2.4s\n",
      "[CV] max_depth=6, min_samples_split=400, min_samples_leaf=400, max_features=8000 \n",
      "[CV]  max_depth=6, min_samples_split=400, min_samples_leaf=400, max_features=8000, total=   2.5s\n",
      "[CV] max_depth=6, min_samples_split=400, min_samples_leaf=400, max_features=8000 \n",
      "[CV]  max_depth=6, min_samples_split=400, min_samples_leaf=400, max_features=8000, total=   2.5s\n",
      "[CV] max_depth=6, min_samples_split=200, min_samples_leaf=400, max_features=8000 \n",
      "[CV]  max_depth=6, min_samples_split=200, min_samples_leaf=400, max_features=8000, total=   2.6s\n",
      "[CV] max_depth=6, min_samples_split=200, min_samples_leaf=400, max_features=8000 \n",
      "[CV]  max_depth=6, min_samples_split=200, min_samples_leaf=400, max_features=8000, total=   2.6s\n",
      "[CV] max_depth=6, min_samples_split=200, min_samples_leaf=400, max_features=8000 \n",
      "[CV]  max_depth=6, min_samples_split=200, min_samples_leaf=400, max_features=8000, total=   2.5s\n",
      "[CV] max_depth=6, min_samples_split=100, min_samples_leaf=400, max_features=8000 \n",
      "[CV]  max_depth=6, min_samples_split=100, min_samples_leaf=400, max_features=8000, total=   2.7s\n",
      "[CV] max_depth=6, min_samples_split=100, min_samples_leaf=400, max_features=8000 \n",
      "[CV]  max_depth=6, min_samples_split=100, min_samples_leaf=400, max_features=8000, total=   2.5s\n",
      "[CV] max_depth=6, min_samples_split=100, min_samples_leaf=400, max_features=8000 \n",
      "[CV]  max_depth=6, min_samples_split=100, min_samples_leaf=400, max_features=8000, total=   2.9s\n",
      "[CV] max_depth=6, min_samples_split=400, min_samples_leaf=200, max_features=8000 \n",
      "[CV]  max_depth=6, min_samples_split=400, min_samples_leaf=200, max_features=8000, total=   3.5s\n",
      "[CV] max_depth=6, min_samples_split=400, min_samples_leaf=200, max_features=8000 \n",
      "[CV]  max_depth=6, min_samples_split=400, min_samples_leaf=200, max_features=8000, total=   2.8s\n",
      "[CV] max_depth=6, min_samples_split=400, min_samples_leaf=200, max_features=8000 \n",
      "[CV]  max_depth=6, min_samples_split=400, min_samples_leaf=200, max_features=8000, total=   3.1s\n",
      "[CV] max_depth=6, min_samples_split=200, min_samples_leaf=200, max_features=8000 \n",
      "[CV]  max_depth=6, min_samples_split=200, min_samples_leaf=200, max_features=8000, total=   3.1s\n",
      "[CV] max_depth=6, min_samples_split=200, min_samples_leaf=200, max_features=8000 \n",
      "[CV]  max_depth=6, min_samples_split=200, min_samples_leaf=200, max_features=8000, total=   3.2s\n",
      "[CV] max_depth=6, min_samples_split=200, min_samples_leaf=200, max_features=8000 \n",
      "[CV]  max_depth=6, min_samples_split=200, min_samples_leaf=200, max_features=8000, total=   3.0s\n",
      "[CV] max_depth=6, min_samples_split=100, min_samples_leaf=200, max_features=8000 \n",
      "[CV]  max_depth=6, min_samples_split=100, min_samples_leaf=200, max_features=8000, total=   3.2s\n",
      "[CV] max_depth=6, min_samples_split=100, min_samples_leaf=200, max_features=8000 \n",
      "[CV]  max_depth=6, min_samples_split=100, min_samples_leaf=200, max_features=8000, total=   3.2s\n",
      "[CV] max_depth=6, min_samples_split=100, min_samples_leaf=200, max_features=8000 \n",
      "[CV]  max_depth=6, min_samples_split=100, min_samples_leaf=200, max_features=8000, total=   3.0s\n",
      "[CV] max_depth=6, min_samples_split=400, min_samples_leaf=100, max_features=8000 \n",
      "[CV]  max_depth=6, min_samples_split=400, min_samples_leaf=100, max_features=8000, total=   3.2s\n",
      "[CV] max_depth=6, min_samples_split=400, min_samples_leaf=100, max_features=8000 \n",
      "[CV]  max_depth=6, min_samples_split=400, min_samples_leaf=100, max_features=8000, total=   3.3s\n",
      "[CV] max_depth=6, min_samples_split=400, min_samples_leaf=100, max_features=8000 \n",
      "[CV]  max_depth=6, min_samples_split=400, min_samples_leaf=100, max_features=8000, total=   3.4s\n",
      "[CV] max_depth=6, min_samples_split=200, min_samples_leaf=100, max_features=8000 \n",
      "[CV]  max_depth=6, min_samples_split=200, min_samples_leaf=100, max_features=8000, total=   3.2s\n",
      "[CV] max_depth=6, min_samples_split=200, min_samples_leaf=100, max_features=8000 \n",
      "[CV]  max_depth=6, min_samples_split=200, min_samples_leaf=100, max_features=8000, total=   3.5s\n",
      "[CV] max_depth=6, min_samples_split=200, min_samples_leaf=100, max_features=8000 \n",
      "[CV]  max_depth=6, min_samples_split=200, min_samples_leaf=100, max_features=8000, total=   3.4s\n",
      "[CV] max_depth=6, min_samples_split=100, min_samples_leaf=100, max_features=8000 \n",
      "[CV]  max_depth=6, min_samples_split=100, min_samples_leaf=100, max_features=8000, total=   4.0s\n",
      "[CV] max_depth=6, min_samples_split=100, min_samples_leaf=100, max_features=8000 \n",
      "[CV]  max_depth=6, min_samples_split=100, min_samples_leaf=100, max_features=8000, total=   3.5s\n",
      "[CV] max_depth=6, min_samples_split=100, min_samples_leaf=100, max_features=8000 \n",
      "[CV]  max_depth=6, min_samples_split=100, min_samples_leaf=100, max_features=8000, total=   3.3s\n",
      "[CV] max_depth=6, min_samples_split=400, min_samples_leaf=400, max_features=4000 \n",
      "[CV]  max_depth=6, min_samples_split=400, min_samples_leaf=400, max_features=4000, total=   1.6s\n",
      "[CV] max_depth=6, min_samples_split=400, min_samples_leaf=400, max_features=4000 \n",
      "[CV]  max_depth=6, min_samples_split=400, min_samples_leaf=400, max_features=4000, total=   1.6s\n",
      "[CV] max_depth=6, min_samples_split=400, min_samples_leaf=400, max_features=4000 \n",
      "[CV]  max_depth=6, min_samples_split=400, min_samples_leaf=400, max_features=4000, total=   1.5s\n",
      "[CV] max_depth=6, min_samples_split=200, min_samples_leaf=400, max_features=4000 \n",
      "[CV]  max_depth=6, min_samples_split=200, min_samples_leaf=400, max_features=4000, total=   1.7s\n",
      "[CV] max_depth=6, min_samples_split=200, min_samples_leaf=400, max_features=4000 \n",
      "[CV]  max_depth=6, min_samples_split=200, min_samples_leaf=400, max_features=4000, total=   1.8s\n",
      "[CV] max_depth=6, min_samples_split=200, min_samples_leaf=400, max_features=4000 \n",
      "[CV]  max_depth=6, min_samples_split=200, min_samples_leaf=400, max_features=4000, total=   1.7s\n",
      "[CV] max_depth=6, min_samples_split=100, min_samples_leaf=400, max_features=4000 \n",
      "[CV]  max_depth=6, min_samples_split=100, min_samples_leaf=400, max_features=4000, total=   1.6s\n",
      "[CV] max_depth=6, min_samples_split=100, min_samples_leaf=400, max_features=4000 \n",
      "[CV]  max_depth=6, min_samples_split=100, min_samples_leaf=400, max_features=4000, total=   1.7s\n",
      "[CV] max_depth=6, min_samples_split=100, min_samples_leaf=400, max_features=4000 \n",
      "[CV]  max_depth=6, min_samples_split=100, min_samples_leaf=400, max_features=4000, total=   1.6s\n",
      "[CV] max_depth=6, min_samples_split=400, min_samples_leaf=200, max_features=4000 \n",
      "[CV]  max_depth=6, min_samples_split=400, min_samples_leaf=200, max_features=4000, total=   2.2s\n",
      "[CV] max_depth=6, min_samples_split=400, min_samples_leaf=200, max_features=4000 \n",
      "[CV]  max_depth=6, min_samples_split=400, min_samples_leaf=200, max_features=4000, total=   2.1s\n",
      "[CV] max_depth=6, min_samples_split=400, min_samples_leaf=200, max_features=4000 \n",
      "[CV]  max_depth=6, min_samples_split=400, min_samples_leaf=200, max_features=4000, total=   1.9s\n",
      "[CV] max_depth=6, min_samples_split=200, min_samples_leaf=200, max_features=4000 \n",
      "[CV]  max_depth=6, min_samples_split=200, min_samples_leaf=200, max_features=4000, total=   1.9s\n",
      "[CV] max_depth=6, min_samples_split=200, min_samples_leaf=200, max_features=4000 \n",
      "[CV]  max_depth=6, min_samples_split=200, min_samples_leaf=200, max_features=4000, total=   2.1s\n",
      "[CV] max_depth=6, min_samples_split=200, min_samples_leaf=200, max_features=4000 \n"
     ]
    },
    {
     "name": "stdout",
     "output_type": "stream",
     "text": [
      "[CV]  max_depth=6, min_samples_split=200, min_samples_leaf=200, max_features=4000, total=   2.6s\n",
      "[CV] max_depth=6, min_samples_split=100, min_samples_leaf=200, max_features=4000 \n",
      "[CV]  max_depth=6, min_samples_split=100, min_samples_leaf=200, max_features=4000, total=   2.6s\n",
      "[CV] max_depth=6, min_samples_split=100, min_samples_leaf=200, max_features=4000 \n",
      "[CV]  max_depth=6, min_samples_split=100, min_samples_leaf=200, max_features=4000, total=   2.8s\n",
      "[CV] max_depth=6, min_samples_split=100, min_samples_leaf=200, max_features=4000 \n",
      "[CV]  max_depth=6, min_samples_split=100, min_samples_leaf=200, max_features=4000, total=   2.5s\n",
      "[CV] max_depth=6, min_samples_split=400, min_samples_leaf=100, max_features=4000 \n",
      "[CV]  max_depth=6, min_samples_split=400, min_samples_leaf=100, max_features=4000, total=   3.5s\n",
      "[CV] max_depth=6, min_samples_split=400, min_samples_leaf=100, max_features=4000 \n",
      "[CV]  max_depth=6, min_samples_split=400, min_samples_leaf=100, max_features=4000, total=   2.6s\n",
      "[CV] max_depth=6, min_samples_split=400, min_samples_leaf=100, max_features=4000 \n",
      "[CV]  max_depth=6, min_samples_split=400, min_samples_leaf=100, max_features=4000, total=   2.4s\n",
      "[CV] max_depth=6, min_samples_split=200, min_samples_leaf=100, max_features=4000 \n",
      "[CV]  max_depth=6, min_samples_split=200, min_samples_leaf=100, max_features=4000, total=   2.2s\n",
      "[CV] max_depth=6, min_samples_split=200, min_samples_leaf=100, max_features=4000 \n",
      "[CV]  max_depth=6, min_samples_split=200, min_samples_leaf=100, max_features=4000, total=   2.4s\n",
      "[CV] max_depth=6, min_samples_split=200, min_samples_leaf=100, max_features=4000 \n",
      "[CV]  max_depth=6, min_samples_split=200, min_samples_leaf=100, max_features=4000, total=   2.8s\n",
      "[CV] max_depth=6, min_samples_split=100, min_samples_leaf=100, max_features=4000 \n",
      "[CV]  max_depth=6, min_samples_split=100, min_samples_leaf=100, max_features=4000, total=   2.7s\n",
      "[CV] max_depth=6, min_samples_split=100, min_samples_leaf=100, max_features=4000 \n",
      "[CV]  max_depth=6, min_samples_split=100, min_samples_leaf=100, max_features=4000, total=   2.3s\n",
      "[CV] max_depth=6, min_samples_split=100, min_samples_leaf=100, max_features=4000 \n",
      "[CV]  max_depth=6, min_samples_split=100, min_samples_leaf=100, max_features=4000, total=   2.6s\n",
      "[CV] max_depth=4, min_samples_split=400, min_samples_leaf=400, max_features=10000 \n",
      "[CV]  max_depth=4, min_samples_split=400, min_samples_leaf=400, max_features=10000, total=   3.5s\n",
      "[CV] max_depth=4, min_samples_split=400, min_samples_leaf=400, max_features=10000 \n",
      "[CV]  max_depth=4, min_samples_split=400, min_samples_leaf=400, max_features=10000, total=   3.2s\n",
      "[CV] max_depth=4, min_samples_split=400, min_samples_leaf=400, max_features=10000 \n",
      "[CV]  max_depth=4, min_samples_split=400, min_samples_leaf=400, max_features=10000, total=   3.3s\n",
      "[CV] max_depth=4, min_samples_split=200, min_samples_leaf=400, max_features=10000 \n",
      "[CV]  max_depth=4, min_samples_split=200, min_samples_leaf=400, max_features=10000, total=   3.0s\n",
      "[CV] max_depth=4, min_samples_split=200, min_samples_leaf=400, max_features=10000 \n",
      "[CV]  max_depth=4, min_samples_split=200, min_samples_leaf=400, max_features=10000, total=   3.0s\n",
      "[CV] max_depth=4, min_samples_split=200, min_samples_leaf=400, max_features=10000 \n",
      "[CV]  max_depth=4, min_samples_split=200, min_samples_leaf=400, max_features=10000, total=   3.7s\n",
      "[CV] max_depth=4, min_samples_split=100, min_samples_leaf=400, max_features=10000 \n",
      "[CV]  max_depth=4, min_samples_split=100, min_samples_leaf=400, max_features=10000, total=   4.2s\n",
      "[CV] max_depth=4, min_samples_split=100, min_samples_leaf=400, max_features=10000 \n",
      "[CV]  max_depth=4, min_samples_split=100, min_samples_leaf=400, max_features=10000, total=   3.2s\n",
      "[CV] max_depth=4, min_samples_split=100, min_samples_leaf=400, max_features=10000 \n",
      "[CV]  max_depth=4, min_samples_split=100, min_samples_leaf=400, max_features=10000, total=   3.7s\n",
      "[CV] max_depth=4, min_samples_split=400, min_samples_leaf=200, max_features=10000 \n",
      "[CV]  max_depth=4, min_samples_split=400, min_samples_leaf=200, max_features=10000, total=   3.6s\n",
      "[CV] max_depth=4, min_samples_split=400, min_samples_leaf=200, max_features=10000 \n",
      "[CV]  max_depth=4, min_samples_split=400, min_samples_leaf=200, max_features=10000, total=   3.6s\n",
      "[CV] max_depth=4, min_samples_split=400, min_samples_leaf=200, max_features=10000 \n",
      "[CV]  max_depth=4, min_samples_split=400, min_samples_leaf=200, max_features=10000, total=   4.0s\n",
      "[CV] max_depth=4, min_samples_split=200, min_samples_leaf=200, max_features=10000 \n",
      "[CV]  max_depth=4, min_samples_split=200, min_samples_leaf=200, max_features=10000, total=   3.4s\n",
      "[CV] max_depth=4, min_samples_split=200, min_samples_leaf=200, max_features=10000 \n",
      "[CV]  max_depth=4, min_samples_split=200, min_samples_leaf=200, max_features=10000, total=   3.9s\n",
      "[CV] max_depth=4, min_samples_split=200, min_samples_leaf=200, max_features=10000 \n",
      "[CV]  max_depth=4, min_samples_split=200, min_samples_leaf=200, max_features=10000, total=   3.5s\n",
      "[CV] max_depth=4, min_samples_split=100, min_samples_leaf=200, max_features=10000 \n",
      "[CV]  max_depth=4, min_samples_split=100, min_samples_leaf=200, max_features=10000, total=   3.4s\n",
      "[CV] max_depth=4, min_samples_split=100, min_samples_leaf=200, max_features=10000 \n",
      "[CV]  max_depth=4, min_samples_split=100, min_samples_leaf=200, max_features=10000, total=   3.3s\n",
      "[CV] max_depth=4, min_samples_split=100, min_samples_leaf=200, max_features=10000 \n",
      "[CV]  max_depth=4, min_samples_split=100, min_samples_leaf=200, max_features=10000, total=   3.3s\n",
      "[CV] max_depth=4, min_samples_split=400, min_samples_leaf=100, max_features=10000 \n",
      "[CV]  max_depth=4, min_samples_split=400, min_samples_leaf=100, max_features=10000, total=   3.3s\n",
      "[CV] max_depth=4, min_samples_split=400, min_samples_leaf=100, max_features=10000 \n",
      "[CV]  max_depth=4, min_samples_split=400, min_samples_leaf=100, max_features=10000, total=   3.3s\n",
      "[CV] max_depth=4, min_samples_split=400, min_samples_leaf=100, max_features=10000 \n",
      "[CV]  max_depth=4, min_samples_split=400, min_samples_leaf=100, max_features=10000, total=   3.3s\n",
      "[CV] max_depth=4, min_samples_split=200, min_samples_leaf=100, max_features=10000 \n",
      "[CV]  max_depth=4, min_samples_split=200, min_samples_leaf=100, max_features=10000, total=   3.3s\n",
      "[CV] max_depth=4, min_samples_split=200, min_samples_leaf=100, max_features=10000 \n",
      "[CV]  max_depth=4, min_samples_split=200, min_samples_leaf=100, max_features=10000, total=   3.4s\n",
      "[CV] max_depth=4, min_samples_split=200, min_samples_leaf=100, max_features=10000 \n",
      "[CV]  max_depth=4, min_samples_split=200, min_samples_leaf=100, max_features=10000, total=   4.1s\n",
      "[CV] max_depth=4, min_samples_split=100, min_samples_leaf=100, max_features=10000 \n",
      "[CV]  max_depth=4, min_samples_split=100, min_samples_leaf=100, max_features=10000, total=   3.9s\n",
      "[CV] max_depth=4, min_samples_split=100, min_samples_leaf=100, max_features=10000 \n",
      "[CV]  max_depth=4, min_samples_split=100, min_samples_leaf=100, max_features=10000, total=   4.5s\n",
      "[CV] max_depth=4, min_samples_split=100, min_samples_leaf=100, max_features=10000 \n",
      "[CV]  max_depth=4, min_samples_split=100, min_samples_leaf=100, max_features=10000, total=   3.8s\n",
      "[CV] max_depth=4, min_samples_split=400, min_samples_leaf=400, max_features=8000 \n",
      "[CV]  max_depth=4, min_samples_split=400, min_samples_leaf=400, max_features=8000, total=   3.2s\n",
      "[CV] max_depth=4, min_samples_split=400, min_samples_leaf=400, max_features=8000 \n",
      "[CV]  max_depth=4, min_samples_split=400, min_samples_leaf=400, max_features=8000, total=   3.4s\n",
      "[CV] max_depth=4, min_samples_split=400, min_samples_leaf=400, max_features=8000 \n",
      "[CV]  max_depth=4, min_samples_split=400, min_samples_leaf=400, max_features=8000, total=   3.1s\n",
      "[CV] max_depth=4, min_samples_split=200, min_samples_leaf=400, max_features=8000 \n",
      "[CV]  max_depth=4, min_samples_split=200, min_samples_leaf=400, max_features=8000, total=   3.4s\n",
      "[CV] max_depth=4, min_samples_split=200, min_samples_leaf=400, max_features=8000 \n",
      "[CV]  max_depth=4, min_samples_split=200, min_samples_leaf=400, max_features=8000, total=   3.4s\n",
      "[CV] max_depth=4, min_samples_split=200, min_samples_leaf=400, max_features=8000 \n",
      "[CV]  max_depth=4, min_samples_split=200, min_samples_leaf=400, max_features=8000, total=   3.0s\n",
      "[CV] max_depth=4, min_samples_split=100, min_samples_leaf=400, max_features=8000 \n"
     ]
    },
    {
     "name": "stdout",
     "output_type": "stream",
     "text": [
      "[CV]  max_depth=4, min_samples_split=100, min_samples_leaf=400, max_features=8000, total=   2.8s\n",
      "[CV] max_depth=4, min_samples_split=100, min_samples_leaf=400, max_features=8000 \n",
      "[CV]  max_depth=4, min_samples_split=100, min_samples_leaf=400, max_features=8000, total=   2.6s\n",
      "[CV] max_depth=4, min_samples_split=100, min_samples_leaf=400, max_features=8000 \n",
      "[CV]  max_depth=4, min_samples_split=100, min_samples_leaf=400, max_features=8000, total=   3.0s\n",
      "[CV] max_depth=4, min_samples_split=400, min_samples_leaf=200, max_features=8000 \n",
      "[CV]  max_depth=4, min_samples_split=400, min_samples_leaf=200, max_features=8000, total=   2.9s\n",
      "[CV] max_depth=4, min_samples_split=400, min_samples_leaf=200, max_features=8000 \n",
      "[CV]  max_depth=4, min_samples_split=400, min_samples_leaf=200, max_features=8000, total=   3.3s\n",
      "[CV] max_depth=4, min_samples_split=400, min_samples_leaf=200, max_features=8000 \n",
      "[CV]  max_depth=4, min_samples_split=400, min_samples_leaf=200, max_features=8000, total=   3.4s\n",
      "[CV] max_depth=4, min_samples_split=200, min_samples_leaf=200, max_features=8000 \n",
      "[CV]  max_depth=4, min_samples_split=200, min_samples_leaf=200, max_features=8000, total=   3.2s\n",
      "[CV] max_depth=4, min_samples_split=200, min_samples_leaf=200, max_features=8000 \n",
      "[CV]  max_depth=4, min_samples_split=200, min_samples_leaf=200, max_features=8000, total=   2.9s\n",
      "[CV] max_depth=4, min_samples_split=200, min_samples_leaf=200, max_features=8000 \n",
      "[CV]  max_depth=4, min_samples_split=200, min_samples_leaf=200, max_features=8000, total=   3.1s\n",
      "[CV] max_depth=4, min_samples_split=100, min_samples_leaf=200, max_features=8000 \n",
      "[CV]  max_depth=4, min_samples_split=100, min_samples_leaf=200, max_features=8000, total=   3.1s\n",
      "[CV] max_depth=4, min_samples_split=100, min_samples_leaf=200, max_features=8000 \n",
      "[CV]  max_depth=4, min_samples_split=100, min_samples_leaf=200, max_features=8000, total=   2.9s\n",
      "[CV] max_depth=4, min_samples_split=100, min_samples_leaf=200, max_features=8000 \n",
      "[CV]  max_depth=4, min_samples_split=100, min_samples_leaf=200, max_features=8000, total=   2.9s\n",
      "[CV] max_depth=4, min_samples_split=400, min_samples_leaf=100, max_features=8000 \n",
      "[CV]  max_depth=4, min_samples_split=400, min_samples_leaf=100, max_features=8000, total=   3.0s\n",
      "[CV] max_depth=4, min_samples_split=400, min_samples_leaf=100, max_features=8000 \n",
      "[CV]  max_depth=4, min_samples_split=400, min_samples_leaf=100, max_features=8000, total=   2.9s\n",
      "[CV] max_depth=4, min_samples_split=400, min_samples_leaf=100, max_features=8000 \n",
      "[CV]  max_depth=4, min_samples_split=400, min_samples_leaf=100, max_features=8000, total=   2.9s\n",
      "[CV] max_depth=4, min_samples_split=200, min_samples_leaf=100, max_features=8000 \n",
      "[CV]  max_depth=4, min_samples_split=200, min_samples_leaf=100, max_features=8000, total=   3.1s\n",
      "[CV] max_depth=4, min_samples_split=200, min_samples_leaf=100, max_features=8000 \n",
      "[CV]  max_depth=4, min_samples_split=200, min_samples_leaf=100, max_features=8000, total=   3.3s\n",
      "[CV] max_depth=4, min_samples_split=200, min_samples_leaf=100, max_features=8000 \n",
      "[CV]  max_depth=4, min_samples_split=200, min_samples_leaf=100, max_features=8000, total=   3.6s\n",
      "[CV] max_depth=4, min_samples_split=100, min_samples_leaf=100, max_features=8000 \n",
      "[CV]  max_depth=4, min_samples_split=100, min_samples_leaf=100, max_features=8000, total=   3.5s\n",
      "[CV] max_depth=4, min_samples_split=100, min_samples_leaf=100, max_features=8000 \n",
      "[CV]  max_depth=4, min_samples_split=100, min_samples_leaf=100, max_features=8000, total=   3.7s\n",
      "[CV] max_depth=4, min_samples_split=100, min_samples_leaf=100, max_features=8000 \n",
      "[CV]  max_depth=4, min_samples_split=100, min_samples_leaf=100, max_features=8000, total=   3.2s\n",
      "[CV] max_depth=4, min_samples_split=400, min_samples_leaf=400, max_features=4000 \n",
      "[CV]  max_depth=4, min_samples_split=400, min_samples_leaf=400, max_features=4000, total=   1.6s\n",
      "[CV] max_depth=4, min_samples_split=400, min_samples_leaf=400, max_features=4000 \n",
      "[CV]  max_depth=4, min_samples_split=400, min_samples_leaf=400, max_features=4000, total=   1.8s\n",
      "[CV] max_depth=4, min_samples_split=400, min_samples_leaf=400, max_features=4000 \n",
      "[CV]  max_depth=4, min_samples_split=400, min_samples_leaf=400, max_features=4000, total=   1.9s\n",
      "[CV] max_depth=4, min_samples_split=200, min_samples_leaf=400, max_features=4000 \n",
      "[CV]  max_depth=4, min_samples_split=200, min_samples_leaf=400, max_features=4000, total=   1.8s\n",
      "[CV] max_depth=4, min_samples_split=200, min_samples_leaf=400, max_features=4000 \n",
      "[CV]  max_depth=4, min_samples_split=200, min_samples_leaf=400, max_features=4000, total=   1.8s\n",
      "[CV] max_depth=4, min_samples_split=200, min_samples_leaf=400, max_features=4000 \n",
      "[CV]  max_depth=4, min_samples_split=200, min_samples_leaf=400, max_features=4000, total=   1.8s\n",
      "[CV] max_depth=4, min_samples_split=100, min_samples_leaf=400, max_features=4000 \n",
      "[CV]  max_depth=4, min_samples_split=100, min_samples_leaf=400, max_features=4000, total=   1.9s\n",
      "[CV] max_depth=4, min_samples_split=100, min_samples_leaf=400, max_features=4000 \n",
      "[CV]  max_depth=4, min_samples_split=100, min_samples_leaf=400, max_features=4000, total=   1.8s\n",
      "[CV] max_depth=4, min_samples_split=100, min_samples_leaf=400, max_features=4000 \n",
      "[CV]  max_depth=4, min_samples_split=100, min_samples_leaf=400, max_features=4000, total=   1.8s\n",
      "[CV] max_depth=4, min_samples_split=400, min_samples_leaf=200, max_features=4000 \n",
      "[CV]  max_depth=4, min_samples_split=400, min_samples_leaf=200, max_features=4000, total=   2.0s\n",
      "[CV] max_depth=4, min_samples_split=400, min_samples_leaf=200, max_features=4000 \n",
      "[CV]  max_depth=4, min_samples_split=400, min_samples_leaf=200, max_features=4000, total=   1.9s\n",
      "[CV] max_depth=4, min_samples_split=400, min_samples_leaf=200, max_features=4000 \n",
      "[CV]  max_depth=4, min_samples_split=400, min_samples_leaf=200, max_features=4000, total=   2.0s\n",
      "[CV] max_depth=4, min_samples_split=200, min_samples_leaf=200, max_features=4000 \n",
      "[CV]  max_depth=4, min_samples_split=200, min_samples_leaf=200, max_features=4000, total=   2.0s\n",
      "[CV] max_depth=4, min_samples_split=200, min_samples_leaf=200, max_features=4000 \n",
      "[CV]  max_depth=4, min_samples_split=200, min_samples_leaf=200, max_features=4000, total=   2.0s\n",
      "[CV] max_depth=4, min_samples_split=200, min_samples_leaf=200, max_features=4000 \n",
      "[CV]  max_depth=4, min_samples_split=200, min_samples_leaf=200, max_features=4000, total=   2.3s\n",
      "[CV] max_depth=4, min_samples_split=100, min_samples_leaf=200, max_features=4000 \n",
      "[CV]  max_depth=4, min_samples_split=100, min_samples_leaf=200, max_features=4000, total=   2.0s\n",
      "[CV] max_depth=4, min_samples_split=100, min_samples_leaf=200, max_features=4000 \n",
      "[CV]  max_depth=4, min_samples_split=100, min_samples_leaf=200, max_features=4000, total=   2.0s\n",
      "[CV] max_depth=4, min_samples_split=100, min_samples_leaf=200, max_features=4000 \n",
      "[CV]  max_depth=4, min_samples_split=100, min_samples_leaf=200, max_features=4000, total=   1.8s\n",
      "[CV] max_depth=4, min_samples_split=400, min_samples_leaf=100, max_features=4000 \n",
      "[CV]  max_depth=4, min_samples_split=400, min_samples_leaf=100, max_features=4000, total=   1.9s\n",
      "[CV] max_depth=4, min_samples_split=400, min_samples_leaf=100, max_features=4000 \n",
      "[CV]  max_depth=4, min_samples_split=400, min_samples_leaf=100, max_features=4000, total=   2.6s\n",
      "[CV] max_depth=4, min_samples_split=400, min_samples_leaf=100, max_features=4000 \n",
      "[CV]  max_depth=4, min_samples_split=400, min_samples_leaf=100, max_features=4000, total=   2.0s\n",
      "[CV] max_depth=4, min_samples_split=200, min_samples_leaf=100, max_features=4000 \n",
      "[CV]  max_depth=4, min_samples_split=200, min_samples_leaf=100, max_features=4000, total=   3.0s\n",
      "[CV] max_depth=4, min_samples_split=200, min_samples_leaf=100, max_features=4000 \n",
      "[CV]  max_depth=4, min_samples_split=200, min_samples_leaf=100, max_features=4000, total=   1.8s\n",
      "[CV] max_depth=4, min_samples_split=200, min_samples_leaf=100, max_features=4000 \n",
      "[CV]  max_depth=4, min_samples_split=200, min_samples_leaf=100, max_features=4000, total=   1.8s\n",
      "[CV] max_depth=4, min_samples_split=100, min_samples_leaf=100, max_features=4000 \n",
      "[CV]  max_depth=4, min_samples_split=100, min_samples_leaf=100, max_features=4000, total=   1.8s\n",
      "[CV] max_depth=4, min_samples_split=100, min_samples_leaf=100, max_features=4000 \n"
     ]
    },
    {
     "name": "stdout",
     "output_type": "stream",
     "text": [
      "[CV]  max_depth=4, min_samples_split=100, min_samples_leaf=100, max_features=4000, total=   1.9s\n",
      "[CV] max_depth=4, min_samples_split=100, min_samples_leaf=100, max_features=4000 \n",
      "[CV]  max_depth=4, min_samples_split=100, min_samples_leaf=100, max_features=4000, total=   1.7s\n"
     ]
    },
    {
     "name": "stderr",
     "output_type": "stream",
     "text": [
      "[Parallel(n_jobs=1)]: Done 324 out of 324 | elapsed: 17.5min finished\n"
     ]
    }
   ],
   "source": [
    "yelp_bbow_decisiontree_clf = yelp_bbow_decisiontree_clf.fit(yelp_vectors_train_binary, yelp_train_output)"
   ]
  },
  {
   "cell_type": "code",
   "execution_count": 136,
   "metadata": {},
   "outputs": [],
   "source": [
    "yelp_binary_dt_best_params = yelp_bbow_decisiontree_clf.best_params_"
   ]
  },
  {
   "cell_type": "code",
   "execution_count": 137,
   "metadata": {},
   "outputs": [
    {
     "data": {
      "text/plain": [
       "{'max_depth': 10,\n",
       " 'max_features': 4000,\n",
       " 'min_samples_leaf': 100,\n",
       " 'min_samples_split': 400}"
      ]
     },
     "execution_count": 137,
     "metadata": {},
     "output_type": "execute_result"
    }
   ],
   "source": [
    "yelp_binary_dt_best_params"
   ]
  },
  {
   "cell_type": "code",
   "execution_count": 138,
   "metadata": {},
   "outputs": [],
   "source": [
    "yelp_bbow_decisiontree_clf = DecisionTreeClassifier(max_depth=yelp_binary_dt_best_params['max_depth'],\n",
    "                                                    max_features=yelp_binary_dt_best_params['max_features'], \n",
    "                                                    min_samples_leaf=yelp_binary_dt_best_params['min_samples_leaf'], \n",
    "                                                    min_samples_split=yelp_binary_dt_best_params['min_samples_split'])"
   ]
  },
  {
   "cell_type": "code",
   "execution_count": 139,
   "metadata": {},
   "outputs": [],
   "source": [
    "yelp_bbow_decisiontree_clf = yelp_bbow_decisiontree_clf.fit(yelp_vectors_train_binary, yelp_train_output)\n",
    "\n",
    "yelp_bbow_decisiontree_train_pred = yelp_bbow_decisiontree_clf.predict(yelp_vectors_train_binary)\n",
    "yelp_bbow_decisiontree_valid_pred = yelp_bbow_decisiontree_clf.predict(yelp_vectors_valid_binary)\n",
    "yelp_bbow_decisiontree_test_pred = yelp_bbow_decisiontree_clf.predict(yelp_vectors_test_binary)\n",
    "\n",
    "yelp_bbow_decisiontree_train_f1 = f1_score(yelp_train_output, yelp_bbow_decisiontree_train_pred, average='micro')\n",
    "yelp_bbow_decisiontree_valid_f1 = f1_score(yelp_valid_output, yelp_bbow_decisiontree_valid_pred, average='micro')\n",
    "yelp_bbow_decisiontree_test_f1 = f1_score(yelp_test_output, yelp_bbow_decisiontree_test_pred, average='micro')"
   ]
  },
  {
   "cell_type": "code",
   "execution_count": 140,
   "metadata": {},
   "outputs": [
    {
     "name": "stdout",
     "output_type": "stream",
     "text": [
      "Yelp Binary BoW Decision Trees Train F1 Score: 0.4277142857142857\n",
      "Yelp Binary BoW Decision Trees Valid F1 Score: 0.38499999999999995\n",
      "Yelp Binary BoW Decision Trees Test F1 Score: 0.425\n",
      "Yelp Best Binary BoW Decision Trees Parameters:  {'max_depth': 10, 'min_samples_split': 400, 'min_samples_leaf': 100, 'max_features': 4000}\n"
     ]
    }
   ],
   "source": [
    "print(\"Yelp Binary BoW Decision Trees Train F1 Score:\", yelp_bbow_decisiontree_train_f1)\n",
    "print(\"Yelp Binary BoW Decision Trees Valid F1 Score:\", yelp_bbow_decisiontree_valid_f1)\n",
    "print(\"Yelp Binary BoW Decision Trees Test F1 Score:\", yelp_bbow_decisiontree_test_f1)\n",
    "print(\"Yelp Best Binary BoW Decision Trees Parameters: \", yelp_binary_dt_best_params)"
   ]
  },
  {
   "cell_type": "code",
   "execution_count": 107,
   "metadata": {},
   "outputs": [
    {
     "data": {
      "text/plain": [
       "'\\nYelp Binary BoW Linear SVM\\n'"
      ]
     },
     "execution_count": 107,
     "metadata": {},
     "output_type": "execute_result"
    }
   ],
   "source": [
    "\"\"\"\n",
    "Yelp Binary BoW Linear SVM\n",
    "\"\"\""
   ]
  },
  {
   "cell_type": "code",
   "execution_count": 119,
   "metadata": {},
   "outputs": [],
   "source": [
    "yelp_bbow_linearsvm_clf = LinearSVC(max_iter=5000)\n",
    "\n",
    "# list_penalties = ['l1', 'l2']\n",
    "# list_losses = ['hinge', 'squared_hinge']\n",
    "list_dual = [True]\n",
    "# list_dual = [True, False]\n",
    "list_C = [2*i for i in range(1, 6)]\n",
    "list_tol = [10**(-i*2) for i in range(1, 6)]\n",
    "\n",
    "# {'penalty': ['l1'], 'loss': ['hinge'], 'dual': list_dual, 'C': list_C, 'tol': list_tol}\n",
    "# {'penalty': ['l2'], 'loss': ['squared_hinge'], 'dual': list_dual, 'C': list_C, 'tol': list_tol}\n",
    "tuned_parameters = [{'C': list_C, 'tol': list_tol}]\n",
    "yelp_bbow_linearsvm_clf = GridSearchCV(yelp_bbow_linearsvm_clf, tuned_parameters, scoring='f1_micro', cv=3, \n",
    "                                       error_score='raise', verbose=2)"
   ]
  },
  {
   "cell_type": "code",
   "execution_count": 120,
   "metadata": {},
   "outputs": [
    {
     "name": "stdout",
     "output_type": "stream",
     "text": [
      "Fitting 3 folds for each of 25 candidates, totalling 75 fits\n",
      "[CV] tol=0.01, C=2 ...................................................\n"
     ]
    },
    {
     "name": "stderr",
     "output_type": "stream",
     "text": [
      "[Parallel(n_jobs=1)]: Using backend SequentialBackend with 1 concurrent workers.\n"
     ]
    },
    {
     "name": "stdout",
     "output_type": "stream",
     "text": [
      "[CV] .................................... tol=0.01, C=2, total=   1.8s\n",
      "[CV] tol=0.01, C=2 ...................................................\n"
     ]
    },
    {
     "name": "stderr",
     "output_type": "stream",
     "text": [
      "[Parallel(n_jobs=1)]: Done   1 out of   1 | elapsed:    2.2s remaining:    0.0s\n"
     ]
    },
    {
     "name": "stdout",
     "output_type": "stream",
     "text": [
      "[CV] .................................... tol=0.01, C=2, total=   1.5s\n",
      "[CV] tol=0.01, C=2 ...................................................\n",
      "[CV] .................................... tol=0.01, C=2, total=   1.4s\n",
      "[CV] tol=0.0001, C=2 .................................................\n",
      "[CV] .................................. tol=0.0001, C=2, total=   2.1s\n",
      "[CV] tol=0.0001, C=2 .................................................\n",
      "[CV] .................................. tol=0.0001, C=2, total=   2.2s\n",
      "[CV] tol=0.0001, C=2 .................................................\n",
      "[CV] .................................. tol=0.0001, C=2, total=   2.2s\n",
      "[CV] tol=1e-06, C=2 ..................................................\n",
      "[CV] ................................... tol=1e-06, C=2, total=   2.9s\n",
      "[CV] tol=1e-06, C=2 ..................................................\n",
      "[CV] ................................... tol=1e-06, C=2, total=   2.9s\n",
      "[CV] tol=1e-06, C=2 ..................................................\n",
      "[CV] ................................... tol=1e-06, C=2, total=   2.7s\n",
      "[CV] tol=1e-08, C=2 ..................................................\n",
      "[CV] ................................... tol=1e-08, C=2, total=   3.8s\n",
      "[CV] tol=1e-08, C=2 ..................................................\n",
      "[CV] ................................... tol=1e-08, C=2, total=   4.2s\n",
      "[CV] tol=1e-08, C=2 ..................................................\n",
      "[CV] ................................... tol=1e-08, C=2, total=   4.1s\n",
      "[CV] tol=1e-10, C=2 ..................................................\n",
      "[CV] ................................... tol=1e-10, C=2, total=   4.8s\n",
      "[CV] tol=1e-10, C=2 ..................................................\n",
      "[CV] ................................... tol=1e-10, C=2, total=   5.0s\n",
      "[CV] tol=1e-10, C=2 ..................................................\n",
      "[CV] ................................... tol=1e-10, C=2, total=   4.1s\n",
      "[CV] tol=0.01, C=4 ...................................................\n",
      "[CV] .................................... tol=0.01, C=4, total=   1.7s\n",
      "[CV] tol=0.01, C=4 ...................................................\n",
      "[CV] .................................... tol=0.01, C=4, total=   2.1s\n",
      "[CV] tol=0.01, C=4 ...................................................\n",
      "[CV] .................................... tol=0.01, C=4, total=   2.0s\n",
      "[CV] tol=0.0001, C=4 .................................................\n",
      "[CV] .................................. tol=0.0001, C=4, total=   3.1s\n",
      "[CV] tol=0.0001, C=4 .................................................\n",
      "[CV] .................................. tol=0.0001, C=4, total=   3.2s\n",
      "[CV] tol=0.0001, C=4 .................................................\n",
      "[CV] .................................. tol=0.0001, C=4, total=   2.4s\n",
      "[CV] tol=1e-06, C=4 ..................................................\n",
      "[CV] ................................... tol=1e-06, C=4, total=   4.0s\n",
      "[CV] tol=1e-06, C=4 ..................................................\n",
      "[CV] ................................... tol=1e-06, C=4, total=   4.2s\n",
      "[CV] tol=1e-06, C=4 ..................................................\n",
      "[CV] ................................... tol=1e-06, C=4, total=   4.3s\n",
      "[CV] tol=1e-08, C=4 ..................................................\n",
      "[CV] ................................... tol=1e-08, C=4, total=   5.9s\n",
      "[CV] tol=1e-08, C=4 ..................................................\n",
      "[CV] ................................... tol=1e-08, C=4, total=   5.1s\n",
      "[CV] tol=1e-08, C=4 ..................................................\n",
      "[CV] ................................... tol=1e-08, C=4, total=   4.3s\n",
      "[CV] tol=1e-10, C=4 ..................................................\n",
      "[CV] ................................... tol=1e-10, C=4, total=   5.5s\n",
      "[CV] tol=1e-10, C=4 ..................................................\n",
      "[CV] ................................... tol=1e-10, C=4, total=   5.7s\n",
      "[CV] tol=1e-10, C=4 ..................................................\n",
      "[CV] ................................... tol=1e-10, C=4, total=   7.0s\n",
      "[CV] tol=0.01, C=6 ...................................................\n",
      "[CV] .................................... tol=0.01, C=6, total=   2.0s\n",
      "[CV] tol=0.01, C=6 ...................................................\n",
      "[CV] .................................... tol=0.01, C=6, total=   1.9s\n",
      "[CV] tol=0.01, C=6 ...................................................\n",
      "[CV] .................................... tol=0.01, C=6, total=   1.9s\n",
      "[CV] tol=0.0001, C=6 .................................................\n",
      "[CV] .................................. tol=0.0001, C=6, total=   3.0s\n",
      "[CV] tol=0.0001, C=6 .................................................\n",
      "[CV] .................................. tol=0.0001, C=6, total=   3.3s\n",
      "[CV] tol=0.0001, C=6 .................................................\n",
      "[CV] .................................. tol=0.0001, C=6, total=   2.5s\n",
      "[CV] tol=1e-06, C=6 ..................................................\n",
      "[CV] ................................... tol=1e-06, C=6, total=   4.2s\n",
      "[CV] tol=1e-06, C=6 ..................................................\n",
      "[CV] ................................... tol=1e-06, C=6, total=   4.9s\n",
      "[CV] tol=1e-06, C=6 ..................................................\n",
      "[CV] ................................... tol=1e-06, C=6, total=   3.7s\n",
      "[CV] tol=1e-08, C=6 ..................................................\n",
      "[CV] ................................... tol=1e-08, C=6, total=   5.1s\n",
      "[CV] tol=1e-08, C=6 ..................................................\n",
      "[CV] ................................... tol=1e-08, C=6, total=   5.2s\n",
      "[CV] tol=1e-08, C=6 ..................................................\n",
      "[CV] ................................... tol=1e-08, C=6, total=   5.0s\n",
      "[CV] tol=1e-10, C=6 ..................................................\n",
      "[CV] ................................... tol=1e-10, C=6, total=   6.6s\n",
      "[CV] tol=1e-10, C=6 ..................................................\n",
      "[CV] ................................... tol=1e-10, C=6, total=   6.6s\n",
      "[CV] tol=1e-10, C=6 ..................................................\n",
      "[CV] ................................... tol=1e-10, C=6, total=   6.6s\n",
      "[CV] tol=0.01, C=8 ...................................................\n",
      "[CV] .................................... tol=0.01, C=8, total=   2.2s\n",
      "[CV] tol=0.01, C=8 ...................................................\n",
      "[CV] .................................... tol=0.01, C=8, total=   2.0s\n",
      "[CV] tol=0.01, C=8 ...................................................\n",
      "[CV] .................................... tol=0.01, C=8, total=   2.4s\n",
      "[CV] tol=0.0001, C=8 .................................................\n",
      "[CV] .................................. tol=0.0001, C=8, total=   3.4s\n",
      "[CV] tol=0.0001, C=8 .................................................\n",
      "[CV] .................................. tol=0.0001, C=8, total=   3.0s\n",
      "[CV] tol=0.0001, C=8 .................................................\n",
      "[CV] .................................. tol=0.0001, C=8, total=   2.9s\n",
      "[CV] tol=1e-06, C=8 ..................................................\n",
      "[CV] ................................... tol=1e-06, C=8, total=   5.7s\n",
      "[CV] tol=1e-06, C=8 ..................................................\n",
      "[CV] ................................... tol=1e-06, C=8, total=   5.4s\n",
      "[CV] tol=1e-06, C=8 ..................................................\n",
      "[CV] ................................... tol=1e-06, C=8, total=   5.8s\n",
      "[CV] tol=1e-08, C=8 ..................................................\n",
      "[CV] ................................... tol=1e-08, C=8, total=   6.9s\n",
      "[CV] tol=1e-08, C=8 ..................................................\n",
      "[CV] ................................... tol=1e-08, C=8, total=   6.4s\n",
      "[CV] tol=1e-08, C=8 ..................................................\n",
      "[CV] ................................... tol=1e-08, C=8, total=   5.6s\n",
      "[CV] tol=1e-10, C=8 ..................................................\n",
      "[CV] ................................... tol=1e-10, C=8, total=   8.9s\n",
      "[CV] tol=1e-10, C=8 ..................................................\n",
      "[CV] ................................... tol=1e-10, C=8, total=   8.0s\n",
      "[CV] tol=1e-10, C=8 ..................................................\n"
     ]
    },
    {
     "name": "stdout",
     "output_type": "stream",
     "text": [
      "[CV] ................................... tol=1e-10, C=8, total=   7.3s\n",
      "[CV] tol=0.01, C=10 ..................................................\n",
      "[CV] ................................... tol=0.01, C=10, total=   2.1s\n",
      "[CV] tol=0.01, C=10 ..................................................\n",
      "[CV] ................................... tol=0.01, C=10, total=   2.2s\n",
      "[CV] tol=0.01, C=10 ..................................................\n",
      "[CV] ................................... tol=0.01, C=10, total=   2.2s\n",
      "[CV] tol=0.0001, C=10 ................................................\n",
      "[CV] ................................. tol=0.0001, C=10, total=   3.4s\n",
      "[CV] tol=0.0001, C=10 ................................................\n",
      "[CV] ................................. tol=0.0001, C=10, total=   3.4s\n",
      "[CV] tol=0.0001, C=10 ................................................\n",
      "[CV] ................................. tol=0.0001, C=10, total=   3.2s\n",
      "[CV] tol=1e-06, C=10 .................................................\n",
      "[CV] .................................. tol=1e-06, C=10, total=   5.2s\n",
      "[CV] tol=1e-06, C=10 .................................................\n",
      "[CV] .................................. tol=1e-06, C=10, total=   4.8s\n",
      "[CV] tol=1e-06, C=10 .................................................\n",
      "[CV] .................................. tol=1e-06, C=10, total=   5.0s\n",
      "[CV] tol=1e-08, C=10 .................................................\n",
      "[CV] .................................. tol=1e-08, C=10, total=   7.3s\n",
      "[CV] tol=1e-08, C=10 .................................................\n",
      "[CV] .................................. tol=1e-08, C=10, total=   6.8s\n",
      "[CV] tol=1e-08, C=10 .................................................\n",
      "[CV] .................................. tol=1e-08, C=10, total=   6.6s\n",
      "[CV] tol=1e-10, C=10 .................................................\n",
      "[CV] .................................. tol=1e-10, C=10, total=   9.2s\n",
      "[CV] tol=1e-10, C=10 .................................................\n",
      "[CV] .................................. tol=1e-10, C=10, total=   8.3s\n",
      "[CV] tol=1e-10, C=10 .................................................\n",
      "[CV] .................................. tol=1e-10, C=10, total=   8.1s\n"
     ]
    },
    {
     "name": "stderr",
     "output_type": "stream",
     "text": [
      "[Parallel(n_jobs=1)]: Done  75 out of  75 | elapsed:  5.9min finished\n"
     ]
    },
    {
     "name": "stdout",
     "output_type": "stream",
     "text": [
      "354.1900939941406\n"
     ]
    }
   ],
   "source": [
    "starttime = time.time()\n",
    "yelp_bbow_linearsvm_clf = yelp_bbow_linearsvm_clf.fit(yelp_vectors_train_binary, yelp_train_output)\n",
    "endtime = time.time()\n",
    "print(endtime - starttime)"
   ]
  },
  {
   "cell_type": "code",
   "execution_count": 121,
   "metadata": {},
   "outputs": [],
   "source": [
    "yelp_binary_linearsvm_best_params = yelp_bbow_linearsvm_clf.best_params_"
   ]
  },
  {
   "cell_type": "code",
   "execution_count": 122,
   "metadata": {},
   "outputs": [
    {
     "data": {
      "text/plain": [
       "{'C': 2, 'tol': 0.01}"
      ]
     },
     "execution_count": 122,
     "metadata": {},
     "output_type": "execute_result"
    }
   ],
   "source": [
    "yelp_binary_linearsvm_best_params"
   ]
  },
  {
   "cell_type": "code",
   "execution_count": null,
   "metadata": {},
   "outputs": [],
   "source": [
    "yelp_bbow_linearsvm_clf = LinearSVC(penalty=yelp_binary_linearsvm_best_params['penalty'],\n",
    "                                    dual=yelp_binary_linearsvm_best_params['dual'], \n",
    "                                    C=yelp_binary_linearsvm_best_params['C'])"
   ]
  },
  {
   "cell_type": "code",
   "execution_count": null,
   "metadata": {},
   "outputs": [],
   "source": [
    "yelp_bbow_linearsvm_clf = yelp_bbow_linearsvm_clf.fit(yelp_vectors_train_binary, yelp_train_output)\n",
    "\n",
    "yelp_bbow_linearsvm_train_pred = yelp_bbow_linearsvm_clf.predict(yelp_vectors_train_binary)\n",
    "yelp_bbow_linearsvm_valid_pred = yelp_bbow_linearsvm_clf.predict(yelp_vectors_valid_binary)\n",
    "yelp_bbow_linearsvm_test_pred = yelp_bbow_linearsvm_clf.predict(yelp_vectors_test_binary)\n",
    "\n",
    "yelp_bbow_linearsvm_train_f1 = f1_score(yelp_train_output, yelp_bbow_linearsvm_train_pred, average='micro')\n",
    "yelp_bbow_linearsvm_valid_f1 = f1_score(yelp_valid_output, yelp_bbow_linearsvm_valid_pred, average='micro')\n",
    "yelp_bbow_linearsvm_test_f1 = f1_score(yelp_test_output, yelp_bbow_linearsvm_test_pred, average='micro')"
   ]
  },
  {
   "cell_type": "code",
   "execution_count": null,
   "metadata": {},
   "outputs": [],
   "source": [
    "print(\"Yelp Binary BoW Linear SVM Train F1 Score:\", yelp_bbow_linearsvm_train_f1)\n",
    "print(\"Yelp Binary BoW Linear SVM Valid F1 Score:\", yelp_bbow_linearsvm_valid_f1)\n",
    "print(\"Yelp Binary BoW Linear SVM Test F1 Score:\", yelp_bbow_linearsvm_test_f1)\n",
    "print(\"Yelp Best Binary BoW Linear SVM Parameters: \", yelp_binary_linearsvm_best_params)"
   ]
  },
  {
   "cell_type": "code",
   "execution_count": null,
   "metadata": {},
   "outputs": [],
   "source": []
  },
  {
   "cell_type": "code",
   "execution_count": null,
   "metadata": {},
   "outputs": [],
   "source": []
  },
  {
   "cell_type": "code",
   "execution_count": null,
   "metadata": {},
   "outputs": [],
   "source": []
  },
  {
   "cell_type": "code",
   "execution_count": null,
   "metadata": {},
   "outputs": [],
   "source": [
    "##### PART 3 #####"
   ]
  },
  {
   "cell_type": "code",
   "execution_count": null,
   "metadata": {},
   "outputs": [],
   "source": [
    "### 3.a ###"
   ]
  },
  {
   "cell_type": "code",
   "execution_count": null,
   "metadata": {},
   "outputs": [],
   "source": [
    "\"\"\"\n",
    "Yelp Gaussian Naive Bayes\n",
    "\"\"\""
   ]
  },
  {
   "cell_type": "code",
   "execution_count": null,
   "metadata": {},
   "outputs": [],
   "source": [
    "smooth_vals = []\n",
    "yelp_fbow_gaussiannb_valid_f1_scores = []\n",
    "for val_smooth in tqdm(smooth_vals):\n",
    "    yelp_fbow_gaussiannb_clf = GaussianNB(var_smoothing=val_smooth)\n",
    "    yelp_fbow_gaussiannb_clf = yelp_fbow_gaussiannb_clf.fit(yelp_vectors_train_frequency, yelp_train_output)\n",
    "    yelp_fbow_gaussiannb_valid_pred = yelp_fbow_gaussiannb_clf.predict(yelp_vectors_valid_frequency)\n",
    "    f1 = f1_score(yelp_valid_output, yelp_fbow_gaussiannb_valid_pred, average='micro')\n",
    "    yelp_fbow_gaussiannb_valid_f1_scores.append(f1)"
   ]
  },
  {
   "cell_type": "code",
   "execution_count": null,
   "metadata": {},
   "outputs": [],
   "source": [
    "plt.plot(smooth_vals, yelp_fbow_gaussiannb_valid_f1_scores, 'g', label='F1 Scores')\n",
    "plt.xlabel('Smooth values')\n",
    "plt.ylabel('F1 Scores')\n",
    "plt.legend()\n",
    "plt.show()"
   ]
  },
  {
   "cell_type": "code",
   "execution_count": null,
   "metadata": {},
   "outputs": [],
   "source": [
    "max_index = yelp_fbow_gaussiannb_valid_f1_scores.index(max(yelp_fbow_gaussiannb_valid_f1_scores))\n",
    "yelp_best_fbow_gaussiannb_smooth = smooth_vals[max_index]"
   ]
  },
  {
   "cell_type": "code",
   "execution_count": null,
   "metadata": {},
   "outputs": [],
   "source": [
    "yelp_best_fbow_gaussiannb_smooth"
   ]
  },
  {
   "cell_type": "code",
   "execution_count": null,
   "metadata": {},
   "outputs": [],
   "source": [
    "def get_fbow_gaussiannb_f1(train_vectors, train_output, best_fbow_gaussiannb_smooth, dataset_vectors, dataset_output):\n",
    "    best_fbow_gaussiannb_clf = GaussianNB(var_smoothing=best_fbow_gaussiannb_smooth)\n",
    "    best_fbow_gaussiannb_clf = best_fbow_gaussiannb_clf.fit(train_vectors, train_output)\n",
    "    fbow_gaussiannb_dataset_pred = best_fbow_gaussiannb_clf.predict(dataset_vectors)\n",
    "    fbow_gaussiannb_dataset_f1 = f1_score(dataset_output, fbow_gaussiannb_dataset_pred, average='micro')\n",
    "\n",
    "    return fbow_gaussiannb_dataset_f1"
   ]
  },
  {
   "cell_type": "code",
   "execution_count": null,
   "metadata": {},
   "outputs": [],
   "source": [
    "yelp_fbow_gaussiannb_train_f1 = get_fbow_gaussiannb_f1(yelp_vectors_train_frequency, yelp_train_output, yelp_best_fbow_gaussiannb_smooth, yelp_vectors_train_frequency, yelp_train_output)\n",
    "yelp_fbow_gaussiannb_valid_f1 = get_fbow_gaussiannb_f1(yelp_vectors_train_frequency, yelp_train_output, yelp_best_fbow_gaussiannb_smooth, yelp_vectors_valid_frequency, yelp_valid_output)\n",
    "yelp_fbow_gaussiannb_test_f1 = get_fbow_gaussiannb_f1(yelp_vectors_train_frequency, yelp_train_output, yelp_best_fbow_gaussiannb_smooth, yelp_vectors_test_frequency, yelp_test_output)"
   ]
  },
  {
   "cell_type": "code",
   "execution_count": null,
   "metadata": {},
   "outputs": [],
   "source": [
    "print(\"Yelp Frequency BoW GaussianNB Train F1 Score:\", yelp_fbow_gaussiannb_train_f1)\n",
    "print(\"Yelp Frequency BoW GaussianNB Valid F1 Score:\", yelp_fbow_gaussiannb_valid_f1)\n",
    "print(\"Yelp Frequency BoW GaussianNB Test F1 Score:\", yelp_fbow_gaussiannb_test_f1)\n",
    "print(\"Yelp Best Frequency BoW GaussianNB Smooth Value: \", yelp_best_fbow_gaussiannb_smooth)"
   ]
  },
  {
   "cell_type": "code",
   "execution_count": 141,
   "metadata": {},
   "outputs": [
    {
     "data": {
      "text/plain": [
       "'\\nYelp Frequency BoW Decision Trees\\n'"
      ]
     },
     "execution_count": 141,
     "metadata": {},
     "output_type": "execute_result"
    }
   ],
   "source": [
    "\"\"\"\n",
    "Yelp Frequency BoW Decision Trees\n",
    "\"\"\""
   ]
  },
  {
   "cell_type": "code",
   "execution_count": 142,
   "metadata": {},
   "outputs": [],
   "source": [
    "yelp_fbow_decisiontree_clf = DecisionTreeClassifier()\n",
    "list_max_depths = [10, 8, 6, 4]\n",
    "list_min_samples_splits = [400, 200, 100]\n",
    "list_min_samples_leaf = [400, 200, 100]\n",
    "list_max_features = [10000, 8000, 4000]\n",
    "\n",
    "tuned_parameters = [{'max_depth': list_max_depths, 'min_samples_split': list_min_samples_splits,\n",
    "                     'min_samples_leaf': list_min_samples_leaf, 'max_features': list_max_features}]\n",
    "yelp_fbow_decisiontree_clf = GridSearchCV(yelp_fbow_decisiontree_clf, tuned_parameters, scoring='f1_micro',\n",
    "                                          cv=3, verbose=2)"
   ]
  },
  {
   "cell_type": "code",
   "execution_count": 143,
   "metadata": {
    "scrolled": true
   },
   "outputs": [
    {
     "name": "stdout",
     "output_type": "stream",
     "text": [
      "Fitting 3 folds for each of 108 candidates, totalling 324 fits\n",
      "[CV] max_depth=10, min_samples_split=400, min_samples_leaf=400, max_features=10000 \n"
     ]
    },
    {
     "name": "stderr",
     "output_type": "stream",
     "text": [
      "[Parallel(n_jobs=1)]: Using backend SequentialBackend with 1 concurrent workers.\n"
     ]
    },
    {
     "name": "stdout",
     "output_type": "stream",
     "text": [
      "[CV]  max_depth=10, min_samples_split=400, min_samples_leaf=400, max_features=10000, total=   5.3s\n",
      "[CV] max_depth=10, min_samples_split=400, min_samples_leaf=400, max_features=10000 \n"
     ]
    },
    {
     "name": "stderr",
     "output_type": "stream",
     "text": [
      "[Parallel(n_jobs=1)]: Done   1 out of   1 | elapsed:    5.7s remaining:    0.0s\n"
     ]
    },
    {
     "name": "stdout",
     "output_type": "stream",
     "text": [
      "[CV]  max_depth=10, min_samples_split=400, min_samples_leaf=400, max_features=10000, total=   3.1s\n",
      "[CV] max_depth=10, min_samples_split=400, min_samples_leaf=400, max_features=10000 \n",
      "[CV]  max_depth=10, min_samples_split=400, min_samples_leaf=400, max_features=10000, total=   3.1s\n",
      "[CV] max_depth=10, min_samples_split=200, min_samples_leaf=400, max_features=10000 \n",
      "[CV]  max_depth=10, min_samples_split=200, min_samples_leaf=400, max_features=10000, total=   3.7s\n",
      "[CV] max_depth=10, min_samples_split=200, min_samples_leaf=400, max_features=10000 \n",
      "[CV]  max_depth=10, min_samples_split=200, min_samples_leaf=400, max_features=10000, total=   3.6s\n",
      "[CV] max_depth=10, min_samples_split=200, min_samples_leaf=400, max_features=10000 \n",
      "[CV]  max_depth=10, min_samples_split=200, min_samples_leaf=400, max_features=10000, total=   3.9s\n",
      "[CV] max_depth=10, min_samples_split=100, min_samples_leaf=400, max_features=10000 \n",
      "[CV]  max_depth=10, min_samples_split=100, min_samples_leaf=400, max_features=10000, total=   3.6s\n",
      "[CV] max_depth=10, min_samples_split=100, min_samples_leaf=400, max_features=10000 \n",
      "[CV]  max_depth=10, min_samples_split=100, min_samples_leaf=400, max_features=10000, total=   4.1s\n",
      "[CV] max_depth=10, min_samples_split=100, min_samples_leaf=400, max_features=10000 \n",
      "[CV]  max_depth=10, min_samples_split=100, min_samples_leaf=400, max_features=10000, total=   3.6s\n",
      "[CV] max_depth=10, min_samples_split=400, min_samples_leaf=200, max_features=10000 \n",
      "[CV]  max_depth=10, min_samples_split=400, min_samples_leaf=200, max_features=10000, total=   3.9s\n",
      "[CV] max_depth=10, min_samples_split=400, min_samples_leaf=200, max_features=10000 \n",
      "[CV]  max_depth=10, min_samples_split=400, min_samples_leaf=200, max_features=10000, total=   4.6s\n",
      "[CV] max_depth=10, min_samples_split=400, min_samples_leaf=200, max_features=10000 \n",
      "[CV]  max_depth=10, min_samples_split=400, min_samples_leaf=200, max_features=10000, total=   4.4s\n",
      "[CV] max_depth=10, min_samples_split=200, min_samples_leaf=200, max_features=10000 \n",
      "[CV]  max_depth=10, min_samples_split=200, min_samples_leaf=200, max_features=10000, total=   3.6s\n",
      "[CV] max_depth=10, min_samples_split=200, min_samples_leaf=200, max_features=10000 \n",
      "[CV]  max_depth=10, min_samples_split=200, min_samples_leaf=200, max_features=10000, total=   4.5s\n",
      "[CV] max_depth=10, min_samples_split=200, min_samples_leaf=200, max_features=10000 \n",
      "[CV]  max_depth=10, min_samples_split=200, min_samples_leaf=200, max_features=10000, total=   4.4s\n",
      "[CV] max_depth=10, min_samples_split=100, min_samples_leaf=200, max_features=10000 \n",
      "[CV]  max_depth=10, min_samples_split=100, min_samples_leaf=200, max_features=10000, total=   4.6s\n",
      "[CV] max_depth=10, min_samples_split=100, min_samples_leaf=200, max_features=10000 \n",
      "[CV]  max_depth=10, min_samples_split=100, min_samples_leaf=200, max_features=10000, total=   4.6s\n",
      "[CV] max_depth=10, min_samples_split=100, min_samples_leaf=200, max_features=10000 \n",
      "[CV]  max_depth=10, min_samples_split=100, min_samples_leaf=200, max_features=10000, total=   4.8s\n",
      "[CV] max_depth=10, min_samples_split=400, min_samples_leaf=100, max_features=10000 \n",
      "[CV]  max_depth=10, min_samples_split=400, min_samples_leaf=100, max_features=10000, total=   4.5s\n",
      "[CV] max_depth=10, min_samples_split=400, min_samples_leaf=100, max_features=10000 \n",
      "[CV]  max_depth=10, min_samples_split=400, min_samples_leaf=100, max_features=10000, total=   4.8s\n",
      "[CV] max_depth=10, min_samples_split=400, min_samples_leaf=100, max_features=10000 \n",
      "[CV]  max_depth=10, min_samples_split=400, min_samples_leaf=100, max_features=10000, total=   5.1s\n",
      "[CV] max_depth=10, min_samples_split=200, min_samples_leaf=100, max_features=10000 \n",
      "[CV]  max_depth=10, min_samples_split=200, min_samples_leaf=100, max_features=10000, total=   4.7s\n",
      "[CV] max_depth=10, min_samples_split=200, min_samples_leaf=100, max_features=10000 \n",
      "[CV]  max_depth=10, min_samples_split=200, min_samples_leaf=100, max_features=10000, total=   5.0s\n",
      "[CV] max_depth=10, min_samples_split=200, min_samples_leaf=100, max_features=10000 \n",
      "[CV]  max_depth=10, min_samples_split=200, min_samples_leaf=100, max_features=10000, total=   5.2s\n",
      "[CV] max_depth=10, min_samples_split=100, min_samples_leaf=100, max_features=10000 \n",
      "[CV]  max_depth=10, min_samples_split=100, min_samples_leaf=100, max_features=10000, total=   4.5s\n",
      "[CV] max_depth=10, min_samples_split=100, min_samples_leaf=100, max_features=10000 \n",
      "[CV]  max_depth=10, min_samples_split=100, min_samples_leaf=100, max_features=10000, total=   5.6s\n",
      "[CV] max_depth=10, min_samples_split=100, min_samples_leaf=100, max_features=10000 \n",
      "[CV]  max_depth=10, min_samples_split=100, min_samples_leaf=100, max_features=10000, total=   4.9s\n",
      "[CV] max_depth=10, min_samples_split=400, min_samples_leaf=400, max_features=8000 \n",
      "[CV]  max_depth=10, min_samples_split=400, min_samples_leaf=400, max_features=8000, total=   2.7s\n",
      "[CV] max_depth=10, min_samples_split=400, min_samples_leaf=400, max_features=8000 \n",
      "[CV]  max_depth=10, min_samples_split=400, min_samples_leaf=400, max_features=8000, total=   2.6s\n",
      "[CV] max_depth=10, min_samples_split=400, min_samples_leaf=400, max_features=8000 \n",
      "[CV]  max_depth=10, min_samples_split=400, min_samples_leaf=400, max_features=8000, total=   2.7s\n",
      "[CV] max_depth=10, min_samples_split=200, min_samples_leaf=400, max_features=8000 \n",
      "[CV]  max_depth=10, min_samples_split=200, min_samples_leaf=400, max_features=8000, total=   2.6s\n",
      "[CV] max_depth=10, min_samples_split=200, min_samples_leaf=400, max_features=8000 \n",
      "[CV]  max_depth=10, min_samples_split=200, min_samples_leaf=400, max_features=8000, total=   2.6s\n",
      "[CV] max_depth=10, min_samples_split=200, min_samples_leaf=400, max_features=8000 \n",
      "[CV]  max_depth=10, min_samples_split=200, min_samples_leaf=400, max_features=8000, total=   2.9s\n",
      "[CV] max_depth=10, min_samples_split=100, min_samples_leaf=400, max_features=8000 \n",
      "[CV]  max_depth=10, min_samples_split=100, min_samples_leaf=400, max_features=8000, total=   2.9s\n",
      "[CV] max_depth=10, min_samples_split=100, min_samples_leaf=400, max_features=8000 \n",
      "[CV]  max_depth=10, min_samples_split=100, min_samples_leaf=400, max_features=8000, total=   3.2s\n",
      "[CV] max_depth=10, min_samples_split=100, min_samples_leaf=400, max_features=8000 \n",
      "[CV]  max_depth=10, min_samples_split=100, min_samples_leaf=400, max_features=8000, total=   3.1s\n",
      "[CV] max_depth=10, min_samples_split=400, min_samples_leaf=200, max_features=8000 \n",
      "[CV]  max_depth=10, min_samples_split=400, min_samples_leaf=200, max_features=8000, total=   3.3s\n",
      "[CV] max_depth=10, min_samples_split=400, min_samples_leaf=200, max_features=8000 \n",
      "[CV]  max_depth=10, min_samples_split=400, min_samples_leaf=200, max_features=8000, total=   3.9s\n",
      "[CV] max_depth=10, min_samples_split=400, min_samples_leaf=200, max_features=8000 \n",
      "[CV]  max_depth=10, min_samples_split=400, min_samples_leaf=200, max_features=8000, total=   4.2s\n",
      "[CV] max_depth=10, min_samples_split=200, min_samples_leaf=200, max_features=8000 \n",
      "[CV]  max_depth=10, min_samples_split=200, min_samples_leaf=200, max_features=8000, total=   4.0s\n",
      "[CV] max_depth=10, min_samples_split=200, min_samples_leaf=200, max_features=8000 \n",
      "[CV]  max_depth=10, min_samples_split=200, min_samples_leaf=200, max_features=8000, total=   4.5s\n",
      "[CV] max_depth=10, min_samples_split=200, min_samples_leaf=200, max_features=8000 \n",
      "[CV]  max_depth=10, min_samples_split=200, min_samples_leaf=200, max_features=8000, total=   4.6s\n",
      "[CV] max_depth=10, min_samples_split=100, min_samples_leaf=200, max_features=8000 \n",
      "[CV]  max_depth=10, min_samples_split=100, min_samples_leaf=200, max_features=8000, total=   3.4s\n",
      "[CV] max_depth=10, min_samples_split=100, min_samples_leaf=200, max_features=8000 \n",
      "[CV]  max_depth=10, min_samples_split=100, min_samples_leaf=200, max_features=8000, total=   3.9s\n",
      "[CV] max_depth=10, min_samples_split=100, min_samples_leaf=200, max_features=8000 \n",
      "[CV]  max_depth=10, min_samples_split=100, min_samples_leaf=200, max_features=8000, total=   3.4s\n",
      "[CV] max_depth=10, min_samples_split=400, min_samples_leaf=100, max_features=8000 \n",
      "[CV]  max_depth=10, min_samples_split=400, min_samples_leaf=100, max_features=8000, total=   4.0s\n",
      "[CV] max_depth=10, min_samples_split=400, min_samples_leaf=100, max_features=8000 \n"
     ]
    },
    {
     "name": "stdout",
     "output_type": "stream",
     "text": [
      "[CV]  max_depth=10, min_samples_split=400, min_samples_leaf=100, max_features=8000, total=   4.0s\n",
      "[CV] max_depth=10, min_samples_split=400, min_samples_leaf=100, max_features=8000 \n",
      "[CV]  max_depth=10, min_samples_split=400, min_samples_leaf=100, max_features=8000, total=   4.3s\n",
      "[CV] max_depth=10, min_samples_split=200, min_samples_leaf=100, max_features=8000 \n",
      "[CV]  max_depth=10, min_samples_split=200, min_samples_leaf=100, max_features=8000, total=   4.1s\n",
      "[CV] max_depth=10, min_samples_split=200, min_samples_leaf=100, max_features=8000 \n",
      "[CV]  max_depth=10, min_samples_split=200, min_samples_leaf=100, max_features=8000, total=   4.3s\n",
      "[CV] max_depth=10, min_samples_split=200, min_samples_leaf=100, max_features=8000 \n",
      "[CV]  max_depth=10, min_samples_split=200, min_samples_leaf=100, max_features=8000, total=   4.3s\n",
      "[CV] max_depth=10, min_samples_split=100, min_samples_leaf=100, max_features=8000 \n",
      "[CV]  max_depth=10, min_samples_split=100, min_samples_leaf=100, max_features=8000, total=   3.9s\n",
      "[CV] max_depth=10, min_samples_split=100, min_samples_leaf=100, max_features=8000 \n",
      "[CV]  max_depth=10, min_samples_split=100, min_samples_leaf=100, max_features=8000, total=   4.0s\n",
      "[CV] max_depth=10, min_samples_split=100, min_samples_leaf=100, max_features=8000 \n",
      "[CV]  max_depth=10, min_samples_split=100, min_samples_leaf=100, max_features=8000, total=   4.4s\n",
      "[CV] max_depth=10, min_samples_split=400, min_samples_leaf=400, max_features=4000 \n",
      "[CV]  max_depth=10, min_samples_split=400, min_samples_leaf=400, max_features=4000, total=   1.8s\n",
      "[CV] max_depth=10, min_samples_split=400, min_samples_leaf=400, max_features=4000 \n",
      "[CV]  max_depth=10, min_samples_split=400, min_samples_leaf=400, max_features=4000, total=   1.7s\n",
      "[CV] max_depth=10, min_samples_split=400, min_samples_leaf=400, max_features=4000 \n",
      "[CV]  max_depth=10, min_samples_split=400, min_samples_leaf=400, max_features=4000, total=   1.9s\n",
      "[CV] max_depth=10, min_samples_split=200, min_samples_leaf=400, max_features=4000 \n",
      "[CV]  max_depth=10, min_samples_split=200, min_samples_leaf=400, max_features=4000, total=   2.1s\n",
      "[CV] max_depth=10, min_samples_split=200, min_samples_leaf=400, max_features=4000 \n",
      "[CV]  max_depth=10, min_samples_split=200, min_samples_leaf=400, max_features=4000, total=   1.7s\n",
      "[CV] max_depth=10, min_samples_split=200, min_samples_leaf=400, max_features=4000 \n",
      "[CV]  max_depth=10, min_samples_split=200, min_samples_leaf=400, max_features=4000, total=   1.8s\n",
      "[CV] max_depth=10, min_samples_split=100, min_samples_leaf=400, max_features=4000 \n",
      "[CV]  max_depth=10, min_samples_split=100, min_samples_leaf=400, max_features=4000, total=   1.9s\n",
      "[CV] max_depth=10, min_samples_split=100, min_samples_leaf=400, max_features=4000 \n",
      "[CV]  max_depth=10, min_samples_split=100, min_samples_leaf=400, max_features=4000, total=   1.8s\n",
      "[CV] max_depth=10, min_samples_split=100, min_samples_leaf=400, max_features=4000 \n",
      "[CV]  max_depth=10, min_samples_split=100, min_samples_leaf=400, max_features=4000, total=   1.7s\n",
      "[CV] max_depth=10, min_samples_split=400, min_samples_leaf=200, max_features=4000 \n",
      "[CV]  max_depth=10, min_samples_split=400, min_samples_leaf=200, max_features=4000, total=   1.9s\n",
      "[CV] max_depth=10, min_samples_split=400, min_samples_leaf=200, max_features=4000 \n",
      "[CV]  max_depth=10, min_samples_split=400, min_samples_leaf=200, max_features=4000, total=   2.6s\n",
      "[CV] max_depth=10, min_samples_split=400, min_samples_leaf=200, max_features=4000 \n",
      "[CV]  max_depth=10, min_samples_split=400, min_samples_leaf=200, max_features=4000, total=   2.2s\n",
      "[CV] max_depth=10, min_samples_split=200, min_samples_leaf=200, max_features=4000 \n",
      "[CV]  max_depth=10, min_samples_split=200, min_samples_leaf=200, max_features=4000, total=   2.3s\n",
      "[CV] max_depth=10, min_samples_split=200, min_samples_leaf=200, max_features=4000 \n",
      "[CV]  max_depth=10, min_samples_split=200, min_samples_leaf=200, max_features=4000, total=   2.6s\n",
      "[CV] max_depth=10, min_samples_split=200, min_samples_leaf=200, max_features=4000 \n",
      "[CV]  max_depth=10, min_samples_split=200, min_samples_leaf=200, max_features=4000, total=   2.3s\n",
      "[CV] max_depth=10, min_samples_split=100, min_samples_leaf=200, max_features=4000 \n",
      "[CV]  max_depth=10, min_samples_split=100, min_samples_leaf=200, max_features=4000, total=   2.8s\n",
      "[CV] max_depth=10, min_samples_split=100, min_samples_leaf=200, max_features=4000 \n",
      "[CV]  max_depth=10, min_samples_split=100, min_samples_leaf=200, max_features=4000, total=   2.6s\n",
      "[CV] max_depth=10, min_samples_split=100, min_samples_leaf=200, max_features=4000 \n",
      "[CV]  max_depth=10, min_samples_split=100, min_samples_leaf=200, max_features=4000, total=   2.2s\n",
      "[CV] max_depth=10, min_samples_split=400, min_samples_leaf=100, max_features=4000 \n",
      "[CV]  max_depth=10, min_samples_split=400, min_samples_leaf=100, max_features=4000, total=   2.2s\n",
      "[CV] max_depth=10, min_samples_split=400, min_samples_leaf=100, max_features=4000 \n",
      "[CV]  max_depth=10, min_samples_split=400, min_samples_leaf=100, max_features=4000, total=   2.4s\n",
      "[CV] max_depth=10, min_samples_split=400, min_samples_leaf=100, max_features=4000 \n",
      "[CV]  max_depth=10, min_samples_split=400, min_samples_leaf=100, max_features=4000, total=   2.1s\n",
      "[CV] max_depth=10, min_samples_split=200, min_samples_leaf=100, max_features=4000 \n",
      "[CV]  max_depth=10, min_samples_split=200, min_samples_leaf=100, max_features=4000, total=   2.3s\n",
      "[CV] max_depth=10, min_samples_split=200, min_samples_leaf=100, max_features=4000 \n",
      "[CV]  max_depth=10, min_samples_split=200, min_samples_leaf=100, max_features=4000, total=   2.4s\n",
      "[CV] max_depth=10, min_samples_split=200, min_samples_leaf=100, max_features=4000 \n",
      "[CV]  max_depth=10, min_samples_split=200, min_samples_leaf=100, max_features=4000, total=   2.4s\n",
      "[CV] max_depth=10, min_samples_split=100, min_samples_leaf=100, max_features=4000 \n",
      "[CV]  max_depth=10, min_samples_split=100, min_samples_leaf=100, max_features=4000, total=   2.7s\n",
      "[CV] max_depth=10, min_samples_split=100, min_samples_leaf=100, max_features=4000 \n",
      "[CV]  max_depth=10, min_samples_split=100, min_samples_leaf=100, max_features=4000, total=   2.6s\n",
      "[CV] max_depth=10, min_samples_split=100, min_samples_leaf=100, max_features=4000 \n",
      "[CV]  max_depth=10, min_samples_split=100, min_samples_leaf=100, max_features=4000, total=   2.7s\n",
      "[CV] max_depth=8, min_samples_split=400, min_samples_leaf=400, max_features=10000 \n",
      "[CV]  max_depth=8, min_samples_split=400, min_samples_leaf=400, max_features=10000, total=   3.4s\n",
      "[CV] max_depth=8, min_samples_split=400, min_samples_leaf=400, max_features=10000 \n",
      "[CV]  max_depth=8, min_samples_split=400, min_samples_leaf=400, max_features=10000, total=   3.3s\n",
      "[CV] max_depth=8, min_samples_split=400, min_samples_leaf=400, max_features=10000 \n",
      "[CV]  max_depth=8, min_samples_split=400, min_samples_leaf=400, max_features=10000, total=   3.2s\n",
      "[CV] max_depth=8, min_samples_split=200, min_samples_leaf=400, max_features=10000 \n",
      "[CV]  max_depth=8, min_samples_split=200, min_samples_leaf=400, max_features=10000, total=   3.2s\n",
      "[CV] max_depth=8, min_samples_split=200, min_samples_leaf=400, max_features=10000 \n",
      "[CV]  max_depth=8, min_samples_split=200, min_samples_leaf=400, max_features=10000, total=   3.1s\n",
      "[CV] max_depth=8, min_samples_split=200, min_samples_leaf=400, max_features=10000 \n",
      "[CV]  max_depth=8, min_samples_split=200, min_samples_leaf=400, max_features=10000, total=   3.2s\n",
      "[CV] max_depth=8, min_samples_split=100, min_samples_leaf=400, max_features=10000 \n",
      "[CV]  max_depth=8, min_samples_split=100, min_samples_leaf=400, max_features=10000, total=   3.7s\n",
      "[CV] max_depth=8, min_samples_split=100, min_samples_leaf=400, max_features=10000 \n",
      "[CV]  max_depth=8, min_samples_split=100, min_samples_leaf=400, max_features=10000, total=   3.2s\n",
      "[CV] max_depth=8, min_samples_split=100, min_samples_leaf=400, max_features=10000 \n",
      "[CV]  max_depth=8, min_samples_split=100, min_samples_leaf=400, max_features=10000, total=   3.3s\n",
      "[CV] max_depth=8, min_samples_split=400, min_samples_leaf=200, max_features=10000 \n",
      "[CV]  max_depth=8, min_samples_split=400, min_samples_leaf=200, max_features=10000, total=   3.7s\n",
      "[CV] max_depth=8, min_samples_split=400, min_samples_leaf=200, max_features=10000 \n",
      "[CV]  max_depth=8, min_samples_split=400, min_samples_leaf=200, max_features=10000, total=   4.5s\n",
      "[CV] max_depth=8, min_samples_split=400, min_samples_leaf=200, max_features=10000 \n"
     ]
    },
    {
     "name": "stdout",
     "output_type": "stream",
     "text": [
      "[CV]  max_depth=8, min_samples_split=400, min_samples_leaf=200, max_features=10000, total=   4.3s\n",
      "[CV] max_depth=8, min_samples_split=200, min_samples_leaf=200, max_features=10000 \n",
      "[CV]  max_depth=8, min_samples_split=200, min_samples_leaf=200, max_features=10000, total=   3.8s\n",
      "[CV] max_depth=8, min_samples_split=200, min_samples_leaf=200, max_features=10000 \n",
      "[CV]  max_depth=8, min_samples_split=200, min_samples_leaf=200, max_features=10000, total=   4.5s\n",
      "[CV] max_depth=8, min_samples_split=200, min_samples_leaf=200, max_features=10000 \n",
      "[CV]  max_depth=8, min_samples_split=200, min_samples_leaf=200, max_features=10000, total=   4.4s\n",
      "[CV] max_depth=8, min_samples_split=100, min_samples_leaf=200, max_features=10000 \n",
      "[CV]  max_depth=8, min_samples_split=100, min_samples_leaf=200, max_features=10000, total=   3.8s\n",
      "[CV] max_depth=8, min_samples_split=100, min_samples_leaf=200, max_features=10000 \n",
      "[CV]  max_depth=8, min_samples_split=100, min_samples_leaf=200, max_features=10000, total=   4.7s\n",
      "[CV] max_depth=8, min_samples_split=100, min_samples_leaf=200, max_features=10000 \n",
      "[CV]  max_depth=8, min_samples_split=100, min_samples_leaf=200, max_features=10000, total=   4.4s\n",
      "[CV] max_depth=8, min_samples_split=400, min_samples_leaf=100, max_features=10000 \n",
      "[CV]  max_depth=8, min_samples_split=400, min_samples_leaf=100, max_features=10000, total=   4.1s\n",
      "[CV] max_depth=8, min_samples_split=400, min_samples_leaf=100, max_features=10000 \n",
      "[CV]  max_depth=8, min_samples_split=400, min_samples_leaf=100, max_features=10000, total=   4.4s\n",
      "[CV] max_depth=8, min_samples_split=400, min_samples_leaf=100, max_features=10000 \n",
      "[CV]  max_depth=8, min_samples_split=400, min_samples_leaf=100, max_features=10000, total=   4.6s\n",
      "[CV] max_depth=8, min_samples_split=200, min_samples_leaf=100, max_features=10000 \n",
      "[CV]  max_depth=8, min_samples_split=200, min_samples_leaf=100, max_features=10000, total=   4.3s\n",
      "[CV] max_depth=8, min_samples_split=200, min_samples_leaf=100, max_features=10000 \n",
      "[CV]  max_depth=8, min_samples_split=200, min_samples_leaf=100, max_features=10000, total=   5.0s\n",
      "[CV] max_depth=8, min_samples_split=200, min_samples_leaf=100, max_features=10000 \n",
      "[CV]  max_depth=8, min_samples_split=200, min_samples_leaf=100, max_features=10000, total=   5.2s\n",
      "[CV] max_depth=8, min_samples_split=100, min_samples_leaf=100, max_features=10000 \n",
      "[CV]  max_depth=8, min_samples_split=100, min_samples_leaf=100, max_features=10000, total=   4.7s\n",
      "[CV] max_depth=8, min_samples_split=100, min_samples_leaf=100, max_features=10000 \n",
      "[CV]  max_depth=8, min_samples_split=100, min_samples_leaf=100, max_features=10000, total=   5.1s\n",
      "[CV] max_depth=8, min_samples_split=100, min_samples_leaf=100, max_features=10000 \n",
      "[CV]  max_depth=8, min_samples_split=100, min_samples_leaf=100, max_features=10000, total=   5.0s\n",
      "[CV] max_depth=8, min_samples_split=400, min_samples_leaf=400, max_features=8000 \n",
      "[CV]  max_depth=8, min_samples_split=400, min_samples_leaf=400, max_features=8000, total=   3.3s\n",
      "[CV] max_depth=8, min_samples_split=400, min_samples_leaf=400, max_features=8000 \n",
      "[CV]  max_depth=8, min_samples_split=400, min_samples_leaf=400, max_features=8000, total=   2.8s\n",
      "[CV] max_depth=8, min_samples_split=400, min_samples_leaf=400, max_features=8000 \n",
      "[CV]  max_depth=8, min_samples_split=400, min_samples_leaf=400, max_features=8000, total=   3.0s\n",
      "[CV] max_depth=8, min_samples_split=200, min_samples_leaf=400, max_features=8000 \n",
      "[CV]  max_depth=8, min_samples_split=200, min_samples_leaf=400, max_features=8000, total=   3.1s\n",
      "[CV] max_depth=8, min_samples_split=200, min_samples_leaf=400, max_features=8000 \n",
      "[CV]  max_depth=8, min_samples_split=200, min_samples_leaf=400, max_features=8000, total=   2.7s\n",
      "[CV] max_depth=8, min_samples_split=200, min_samples_leaf=400, max_features=8000 \n",
      "[CV]  max_depth=8, min_samples_split=200, min_samples_leaf=400, max_features=8000, total=   2.9s\n",
      "[CV] max_depth=8, min_samples_split=100, min_samples_leaf=400, max_features=8000 \n",
      "[CV]  max_depth=8, min_samples_split=100, min_samples_leaf=400, max_features=8000, total=   2.8s\n",
      "[CV] max_depth=8, min_samples_split=100, min_samples_leaf=400, max_features=8000 \n",
      "[CV]  max_depth=8, min_samples_split=100, min_samples_leaf=400, max_features=8000, total=   3.1s\n",
      "[CV] max_depth=8, min_samples_split=100, min_samples_leaf=400, max_features=8000 \n",
      "[CV]  max_depth=8, min_samples_split=100, min_samples_leaf=400, max_features=8000, total=   3.1s\n",
      "[CV] max_depth=8, min_samples_split=400, min_samples_leaf=200, max_features=8000 \n",
      "[CV]  max_depth=8, min_samples_split=400, min_samples_leaf=200, max_features=8000, total=   3.3s\n",
      "[CV] max_depth=8, min_samples_split=400, min_samples_leaf=200, max_features=8000 \n",
      "[CV]  max_depth=8, min_samples_split=400, min_samples_leaf=200, max_features=8000, total=   3.8s\n",
      "[CV] max_depth=8, min_samples_split=400, min_samples_leaf=200, max_features=8000 \n",
      "[CV]  max_depth=8, min_samples_split=400, min_samples_leaf=200, max_features=8000, total=   4.0s\n",
      "[CV] max_depth=8, min_samples_split=200, min_samples_leaf=200, max_features=8000 \n",
      "[CV]  max_depth=8, min_samples_split=200, min_samples_leaf=200, max_features=8000, total=   3.4s\n",
      "[CV] max_depth=8, min_samples_split=200, min_samples_leaf=200, max_features=8000 \n",
      "[CV]  max_depth=8, min_samples_split=200, min_samples_leaf=200, max_features=8000, total=   3.8s\n",
      "[CV] max_depth=8, min_samples_split=200, min_samples_leaf=200, max_features=8000 \n",
      "[CV]  max_depth=8, min_samples_split=200, min_samples_leaf=200, max_features=8000, total=   3.7s\n",
      "[CV] max_depth=8, min_samples_split=100, min_samples_leaf=200, max_features=8000 \n",
      "[CV]  max_depth=8, min_samples_split=100, min_samples_leaf=200, max_features=8000, total=   3.6s\n",
      "[CV] max_depth=8, min_samples_split=100, min_samples_leaf=200, max_features=8000 \n",
      "[CV]  max_depth=8, min_samples_split=100, min_samples_leaf=200, max_features=8000, total=   4.0s\n",
      "[CV] max_depth=8, min_samples_split=100, min_samples_leaf=200, max_features=8000 \n",
      "[CV]  max_depth=8, min_samples_split=100, min_samples_leaf=200, max_features=8000, total=   3.8s\n",
      "[CV] max_depth=8, min_samples_split=400, min_samples_leaf=100, max_features=8000 \n",
      "[CV]  max_depth=8, min_samples_split=400, min_samples_leaf=100, max_features=8000, total=   3.6s\n",
      "[CV] max_depth=8, min_samples_split=400, min_samples_leaf=100, max_features=8000 \n",
      "[CV]  max_depth=8, min_samples_split=400, min_samples_leaf=100, max_features=8000, total=   4.3s\n",
      "[CV] max_depth=8, min_samples_split=400, min_samples_leaf=100, max_features=8000 \n",
      "[CV]  max_depth=8, min_samples_split=400, min_samples_leaf=100, max_features=8000, total=   4.3s\n",
      "[CV] max_depth=8, min_samples_split=200, min_samples_leaf=100, max_features=8000 \n",
      "[CV]  max_depth=8, min_samples_split=200, min_samples_leaf=100, max_features=8000, total=   4.1s\n",
      "[CV] max_depth=8, min_samples_split=200, min_samples_leaf=100, max_features=8000 \n",
      "[CV]  max_depth=8, min_samples_split=200, min_samples_leaf=100, max_features=8000, total=   4.4s\n",
      "[CV] max_depth=8, min_samples_split=200, min_samples_leaf=100, max_features=8000 \n",
      "[CV]  max_depth=8, min_samples_split=200, min_samples_leaf=100, max_features=8000, total=   4.5s\n",
      "[CV] max_depth=8, min_samples_split=100, min_samples_leaf=100, max_features=8000 \n",
      "[CV]  max_depth=8, min_samples_split=100, min_samples_leaf=100, max_features=8000, total=   3.8s\n",
      "[CV] max_depth=8, min_samples_split=100, min_samples_leaf=100, max_features=8000 \n",
      "[CV]  max_depth=8, min_samples_split=100, min_samples_leaf=100, max_features=8000, total=   4.4s\n",
      "[CV] max_depth=8, min_samples_split=100, min_samples_leaf=100, max_features=8000 \n",
      "[CV]  max_depth=8, min_samples_split=100, min_samples_leaf=100, max_features=8000, total=   4.4s\n",
      "[CV] max_depth=8, min_samples_split=400, min_samples_leaf=400, max_features=4000 \n",
      "[CV]  max_depth=8, min_samples_split=400, min_samples_leaf=400, max_features=4000, total=   1.8s\n",
      "[CV] max_depth=8, min_samples_split=400, min_samples_leaf=400, max_features=4000 \n",
      "[CV]  max_depth=8, min_samples_split=400, min_samples_leaf=400, max_features=4000, total=   1.8s\n",
      "[CV] max_depth=8, min_samples_split=400, min_samples_leaf=400, max_features=4000 \n",
      "[CV]  max_depth=8, min_samples_split=400, min_samples_leaf=400, max_features=4000, total=   1.9s\n",
      "[CV] max_depth=8, min_samples_split=200, min_samples_leaf=400, max_features=4000 \n"
     ]
    },
    {
     "name": "stdout",
     "output_type": "stream",
     "text": [
      "[CV]  max_depth=8, min_samples_split=200, min_samples_leaf=400, max_features=4000, total=   1.8s\n",
      "[CV] max_depth=8, min_samples_split=200, min_samples_leaf=400, max_features=4000 \n",
      "[CV]  max_depth=8, min_samples_split=200, min_samples_leaf=400, max_features=4000, total=   1.7s\n",
      "[CV] max_depth=8, min_samples_split=200, min_samples_leaf=400, max_features=4000 \n",
      "[CV]  max_depth=8, min_samples_split=200, min_samples_leaf=400, max_features=4000, total=   2.1s\n",
      "[CV] max_depth=8, min_samples_split=100, min_samples_leaf=400, max_features=4000 \n",
      "[CV]  max_depth=8, min_samples_split=100, min_samples_leaf=400, max_features=4000, total=   1.8s\n",
      "[CV] max_depth=8, min_samples_split=100, min_samples_leaf=400, max_features=4000 \n",
      "[CV]  max_depth=8, min_samples_split=100, min_samples_leaf=400, max_features=4000, total=   1.6s\n",
      "[CV] max_depth=8, min_samples_split=100, min_samples_leaf=400, max_features=4000 \n",
      "[CV]  max_depth=8, min_samples_split=100, min_samples_leaf=400, max_features=4000, total=   1.9s\n",
      "[CV] max_depth=8, min_samples_split=400, min_samples_leaf=200, max_features=4000 \n",
      "[CV]  max_depth=8, min_samples_split=400, min_samples_leaf=200, max_features=4000, total=   2.3s\n",
      "[CV] max_depth=8, min_samples_split=400, min_samples_leaf=200, max_features=4000 \n",
      "[CV]  max_depth=8, min_samples_split=400, min_samples_leaf=200, max_features=4000, total=   2.3s\n",
      "[CV] max_depth=8, min_samples_split=400, min_samples_leaf=200, max_features=4000 \n",
      "[CV]  max_depth=8, min_samples_split=400, min_samples_leaf=200, max_features=4000, total=   2.3s\n",
      "[CV] max_depth=8, min_samples_split=200, min_samples_leaf=200, max_features=4000 \n",
      "[CV]  max_depth=8, min_samples_split=200, min_samples_leaf=200, max_features=4000, total=   2.3s\n",
      "[CV] max_depth=8, min_samples_split=200, min_samples_leaf=200, max_features=4000 \n",
      "[CV]  max_depth=8, min_samples_split=200, min_samples_leaf=200, max_features=4000, total=   2.2s\n",
      "[CV] max_depth=8, min_samples_split=200, min_samples_leaf=200, max_features=4000 \n",
      "[CV]  max_depth=8, min_samples_split=200, min_samples_leaf=200, max_features=4000, total=   2.1s\n",
      "[CV] max_depth=8, min_samples_split=100, min_samples_leaf=200, max_features=4000 \n",
      "[CV]  max_depth=8, min_samples_split=100, min_samples_leaf=200, max_features=4000, total=   2.0s\n",
      "[CV] max_depth=8, min_samples_split=100, min_samples_leaf=200, max_features=4000 \n",
      "[CV]  max_depth=8, min_samples_split=100, min_samples_leaf=200, max_features=4000, total=   2.3s\n",
      "[CV] max_depth=8, min_samples_split=100, min_samples_leaf=200, max_features=4000 \n",
      "[CV]  max_depth=8, min_samples_split=100, min_samples_leaf=200, max_features=4000, total=   2.3s\n",
      "[CV] max_depth=8, min_samples_split=400, min_samples_leaf=100, max_features=4000 \n",
      "[CV]  max_depth=8, min_samples_split=400, min_samples_leaf=100, max_features=4000, total=   2.3s\n",
      "[CV] max_depth=8, min_samples_split=400, min_samples_leaf=100, max_features=4000 \n",
      "[CV]  max_depth=8, min_samples_split=400, min_samples_leaf=100, max_features=4000, total=   2.6s\n",
      "[CV] max_depth=8, min_samples_split=400, min_samples_leaf=100, max_features=4000 \n",
      "[CV]  max_depth=8, min_samples_split=400, min_samples_leaf=100, max_features=4000, total=   2.9s\n",
      "[CV] max_depth=8, min_samples_split=200, min_samples_leaf=100, max_features=4000 \n",
      "[CV]  max_depth=8, min_samples_split=200, min_samples_leaf=100, max_features=4000, total=   2.2s\n",
      "[CV] max_depth=8, min_samples_split=200, min_samples_leaf=100, max_features=4000 \n",
      "[CV]  max_depth=8, min_samples_split=200, min_samples_leaf=100, max_features=4000, total=   2.4s\n",
      "[CV] max_depth=8, min_samples_split=200, min_samples_leaf=100, max_features=4000 \n",
      "[CV]  max_depth=8, min_samples_split=200, min_samples_leaf=100, max_features=4000, total=   2.5s\n",
      "[CV] max_depth=8, min_samples_split=100, min_samples_leaf=100, max_features=4000 \n",
      "[CV]  max_depth=8, min_samples_split=100, min_samples_leaf=100, max_features=4000, total=   2.2s\n",
      "[CV] max_depth=8, min_samples_split=100, min_samples_leaf=100, max_features=4000 \n",
      "[CV]  max_depth=8, min_samples_split=100, min_samples_leaf=100, max_features=4000, total=   2.6s\n",
      "[CV] max_depth=8, min_samples_split=100, min_samples_leaf=100, max_features=4000 \n",
      "[CV]  max_depth=8, min_samples_split=100, min_samples_leaf=100, max_features=4000, total=   2.9s\n",
      "[CV] max_depth=6, min_samples_split=400, min_samples_leaf=400, max_features=10000 \n",
      "[CV]  max_depth=6, min_samples_split=400, min_samples_leaf=400, max_features=10000, total=   3.7s\n",
      "[CV] max_depth=6, min_samples_split=400, min_samples_leaf=400, max_features=10000 \n",
      "[CV]  max_depth=6, min_samples_split=400, min_samples_leaf=400, max_features=10000, total=   3.1s\n",
      "[CV] max_depth=6, min_samples_split=400, min_samples_leaf=400, max_features=10000 \n",
      "[CV]  max_depth=6, min_samples_split=400, min_samples_leaf=400, max_features=10000, total=   3.0s\n",
      "[CV] max_depth=6, min_samples_split=200, min_samples_leaf=400, max_features=10000 \n",
      "[CV]  max_depth=6, min_samples_split=200, min_samples_leaf=400, max_features=10000, total=   3.3s\n",
      "[CV] max_depth=6, min_samples_split=200, min_samples_leaf=400, max_features=10000 \n",
      "[CV]  max_depth=6, min_samples_split=200, min_samples_leaf=400, max_features=10000, total=   3.7s\n",
      "[CV] max_depth=6, min_samples_split=200, min_samples_leaf=400, max_features=10000 \n",
      "[CV]  max_depth=6, min_samples_split=200, min_samples_leaf=400, max_features=10000, total=   3.7s\n",
      "[CV] max_depth=6, min_samples_split=100, min_samples_leaf=400, max_features=10000 \n",
      "[CV]  max_depth=6, min_samples_split=100, min_samples_leaf=400, max_features=10000, total=   4.2s\n",
      "[CV] max_depth=6, min_samples_split=100, min_samples_leaf=400, max_features=10000 \n",
      "[CV]  max_depth=6, min_samples_split=100, min_samples_leaf=400, max_features=10000, total=   4.0s\n",
      "[CV] max_depth=6, min_samples_split=100, min_samples_leaf=400, max_features=10000 \n",
      "[CV]  max_depth=6, min_samples_split=100, min_samples_leaf=400, max_features=10000, total=   3.3s\n",
      "[CV] max_depth=6, min_samples_split=400, min_samples_leaf=200, max_features=10000 \n",
      "[CV]  max_depth=6, min_samples_split=400, min_samples_leaf=200, max_features=10000, total=   3.7s\n",
      "[CV] max_depth=6, min_samples_split=400, min_samples_leaf=200, max_features=10000 \n",
      "[CV]  max_depth=6, min_samples_split=400, min_samples_leaf=200, max_features=10000, total=   4.2s\n",
      "[CV] max_depth=6, min_samples_split=400, min_samples_leaf=200, max_features=10000 \n",
      "[CV]  max_depth=6, min_samples_split=400, min_samples_leaf=200, max_features=10000, total=   4.3s\n",
      "[CV] max_depth=6, min_samples_split=200, min_samples_leaf=200, max_features=10000 \n",
      "[CV]  max_depth=6, min_samples_split=200, min_samples_leaf=200, max_features=10000, total=   4.5s\n",
      "[CV] max_depth=6, min_samples_split=200, min_samples_leaf=200, max_features=10000 \n",
      "[CV]  max_depth=6, min_samples_split=200, min_samples_leaf=200, max_features=10000, total=   5.0s\n",
      "[CV] max_depth=6, min_samples_split=200, min_samples_leaf=200, max_features=10000 \n",
      "[CV]  max_depth=6, min_samples_split=200, min_samples_leaf=200, max_features=10000, total=   4.9s\n",
      "[CV] max_depth=6, min_samples_split=100, min_samples_leaf=200, max_features=10000 \n",
      "[CV]  max_depth=6, min_samples_split=100, min_samples_leaf=200, max_features=10000, total=   3.6s\n",
      "[CV] max_depth=6, min_samples_split=100, min_samples_leaf=200, max_features=10000 \n",
      "[CV]  max_depth=6, min_samples_split=100, min_samples_leaf=200, max_features=10000, total=   4.6s\n",
      "[CV] max_depth=6, min_samples_split=100, min_samples_leaf=200, max_features=10000 \n",
      "[CV]  max_depth=6, min_samples_split=100, min_samples_leaf=200, max_features=10000, total=   4.6s\n",
      "[CV] max_depth=6, min_samples_split=400, min_samples_leaf=100, max_features=10000 \n",
      "[CV]  max_depth=6, min_samples_split=400, min_samples_leaf=100, max_features=10000, total=   4.3s\n",
      "[CV] max_depth=6, min_samples_split=400, min_samples_leaf=100, max_features=10000 \n",
      "[CV]  max_depth=6, min_samples_split=400, min_samples_leaf=100, max_features=10000, total=   4.6s\n",
      "[CV] max_depth=6, min_samples_split=400, min_samples_leaf=100, max_features=10000 \n",
      "[CV]  max_depth=6, min_samples_split=400, min_samples_leaf=100, max_features=10000, total=   4.3s\n",
      "[CV] max_depth=6, min_samples_split=200, min_samples_leaf=100, max_features=10000 \n",
      "[CV]  max_depth=6, min_samples_split=200, min_samples_leaf=100, max_features=10000, total=   4.2s\n",
      "[CV] max_depth=6, min_samples_split=200, min_samples_leaf=100, max_features=10000 \n"
     ]
    },
    {
     "name": "stdout",
     "output_type": "stream",
     "text": [
      "[CV]  max_depth=6, min_samples_split=200, min_samples_leaf=100, max_features=10000, total=   5.0s\n",
      "[CV] max_depth=6, min_samples_split=200, min_samples_leaf=100, max_features=10000 \n",
      "[CV]  max_depth=6, min_samples_split=200, min_samples_leaf=100, max_features=10000, total=   5.3s\n",
      "[CV] max_depth=6, min_samples_split=100, min_samples_leaf=100, max_features=10000 \n",
      "[CV]  max_depth=6, min_samples_split=100, min_samples_leaf=100, max_features=10000, total=   4.5s\n",
      "[CV] max_depth=6, min_samples_split=100, min_samples_leaf=100, max_features=10000 \n",
      "[CV]  max_depth=6, min_samples_split=100, min_samples_leaf=100, max_features=10000, total=   4.8s\n",
      "[CV] max_depth=6, min_samples_split=100, min_samples_leaf=100, max_features=10000 \n",
      "[CV]  max_depth=6, min_samples_split=100, min_samples_leaf=100, max_features=10000, total=   5.0s\n",
      "[CV] max_depth=6, min_samples_split=400, min_samples_leaf=400, max_features=8000 \n",
      "[CV]  max_depth=6, min_samples_split=400, min_samples_leaf=400, max_features=8000, total=   3.1s\n",
      "[CV] max_depth=6, min_samples_split=400, min_samples_leaf=400, max_features=8000 \n",
      "[CV]  max_depth=6, min_samples_split=400, min_samples_leaf=400, max_features=8000, total=   2.7s\n",
      "[CV] max_depth=6, min_samples_split=400, min_samples_leaf=400, max_features=8000 \n",
      "[CV]  max_depth=6, min_samples_split=400, min_samples_leaf=400, max_features=8000, total=   3.0s\n",
      "[CV] max_depth=6, min_samples_split=200, min_samples_leaf=400, max_features=8000 \n",
      "[CV]  max_depth=6, min_samples_split=200, min_samples_leaf=400, max_features=8000, total=   2.8s\n",
      "[CV] max_depth=6, min_samples_split=200, min_samples_leaf=400, max_features=8000 \n",
      "[CV]  max_depth=6, min_samples_split=200, min_samples_leaf=400, max_features=8000, total=   2.8s\n",
      "[CV] max_depth=6, min_samples_split=200, min_samples_leaf=400, max_features=8000 \n",
      "[CV]  max_depth=6, min_samples_split=200, min_samples_leaf=400, max_features=8000, total=   2.7s\n",
      "[CV] max_depth=6, min_samples_split=100, min_samples_leaf=400, max_features=8000 \n",
      "[CV]  max_depth=6, min_samples_split=100, min_samples_leaf=400, max_features=8000, total=   2.9s\n",
      "[CV] max_depth=6, min_samples_split=100, min_samples_leaf=400, max_features=8000 \n",
      "[CV]  max_depth=6, min_samples_split=100, min_samples_leaf=400, max_features=8000, total=   2.8s\n",
      "[CV] max_depth=6, min_samples_split=100, min_samples_leaf=400, max_features=8000 \n",
      "[CV]  max_depth=6, min_samples_split=100, min_samples_leaf=400, max_features=8000, total=   3.0s\n",
      "[CV] max_depth=6, min_samples_split=400, min_samples_leaf=200, max_features=8000 \n",
      "[CV]  max_depth=6, min_samples_split=400, min_samples_leaf=200, max_features=8000, total=   3.3s\n",
      "[CV] max_depth=6, min_samples_split=400, min_samples_leaf=200, max_features=8000 \n",
      "[CV]  max_depth=6, min_samples_split=400, min_samples_leaf=200, max_features=8000, total=   3.0s\n",
      "[CV] max_depth=6, min_samples_split=400, min_samples_leaf=200, max_features=8000 \n",
      "[CV]  max_depth=6, min_samples_split=400, min_samples_leaf=200, max_features=8000, total=   3.4s\n",
      "[CV] max_depth=6, min_samples_split=200, min_samples_leaf=200, max_features=8000 \n",
      "[CV]  max_depth=6, min_samples_split=200, min_samples_leaf=200, max_features=8000, total=   3.2s\n",
      "[CV] max_depth=6, min_samples_split=200, min_samples_leaf=200, max_features=8000 \n",
      "[CV]  max_depth=6, min_samples_split=200, min_samples_leaf=200, max_features=8000, total=   3.6s\n",
      "[CV] max_depth=6, min_samples_split=200, min_samples_leaf=200, max_features=8000 \n",
      "[CV]  max_depth=6, min_samples_split=200, min_samples_leaf=200, max_features=8000, total=   3.6s\n",
      "[CV] max_depth=6, min_samples_split=100, min_samples_leaf=200, max_features=8000 \n",
      "[CV]  max_depth=6, min_samples_split=100, min_samples_leaf=200, max_features=8000, total=   3.2s\n",
      "[CV] max_depth=6, min_samples_split=100, min_samples_leaf=200, max_features=8000 \n",
      "[CV]  max_depth=6, min_samples_split=100, min_samples_leaf=200, max_features=8000, total=   3.3s\n",
      "[CV] max_depth=6, min_samples_split=100, min_samples_leaf=200, max_features=8000 \n",
      "[CV]  max_depth=6, min_samples_split=100, min_samples_leaf=200, max_features=8000, total=   3.6s\n",
      "[CV] max_depth=6, min_samples_split=400, min_samples_leaf=100, max_features=8000 \n",
      "[CV]  max_depth=6, min_samples_split=400, min_samples_leaf=100, max_features=8000, total=   3.3s\n",
      "[CV] max_depth=6, min_samples_split=400, min_samples_leaf=100, max_features=8000 \n",
      "[CV]  max_depth=6, min_samples_split=400, min_samples_leaf=100, max_features=8000, total=   4.0s\n",
      "[CV] max_depth=6, min_samples_split=400, min_samples_leaf=100, max_features=8000 \n",
      "[CV]  max_depth=6, min_samples_split=400, min_samples_leaf=100, max_features=8000, total=   4.1s\n",
      "[CV] max_depth=6, min_samples_split=200, min_samples_leaf=100, max_features=8000 \n",
      "[CV]  max_depth=6, min_samples_split=200, min_samples_leaf=100, max_features=8000, total=   4.1s\n",
      "[CV] max_depth=6, min_samples_split=200, min_samples_leaf=100, max_features=8000 \n",
      "[CV]  max_depth=6, min_samples_split=200, min_samples_leaf=100, max_features=8000, total=   4.5s\n",
      "[CV] max_depth=6, min_samples_split=200, min_samples_leaf=100, max_features=8000 \n",
      "[CV]  max_depth=6, min_samples_split=200, min_samples_leaf=100, max_features=8000, total=   3.7s\n",
      "[CV] max_depth=6, min_samples_split=100, min_samples_leaf=100, max_features=8000 \n",
      "[CV]  max_depth=6, min_samples_split=100, min_samples_leaf=100, max_features=8000, total=   3.8s\n",
      "[CV] max_depth=6, min_samples_split=100, min_samples_leaf=100, max_features=8000 \n",
      "[CV]  max_depth=6, min_samples_split=100, min_samples_leaf=100, max_features=8000, total=   4.1s\n",
      "[CV] max_depth=6, min_samples_split=100, min_samples_leaf=100, max_features=8000 \n",
      "[CV]  max_depth=6, min_samples_split=100, min_samples_leaf=100, max_features=8000, total=   3.8s\n",
      "[CV] max_depth=6, min_samples_split=400, min_samples_leaf=400, max_features=4000 \n",
      "[CV]  max_depth=6, min_samples_split=400, min_samples_leaf=400, max_features=4000, total=   1.6s\n",
      "[CV] max_depth=6, min_samples_split=400, min_samples_leaf=400, max_features=4000 \n",
      "[CV]  max_depth=6, min_samples_split=400, min_samples_leaf=400, max_features=4000, total=   1.7s\n",
      "[CV] max_depth=6, min_samples_split=400, min_samples_leaf=400, max_features=4000 \n",
      "[CV]  max_depth=6, min_samples_split=400, min_samples_leaf=400, max_features=4000, total=   1.7s\n",
      "[CV] max_depth=6, min_samples_split=200, min_samples_leaf=400, max_features=4000 \n",
      "[CV]  max_depth=6, min_samples_split=200, min_samples_leaf=400, max_features=4000, total=   1.8s\n",
      "[CV] max_depth=6, min_samples_split=200, min_samples_leaf=400, max_features=4000 \n",
      "[CV]  max_depth=6, min_samples_split=200, min_samples_leaf=400, max_features=4000, total=   1.7s\n",
      "[CV] max_depth=6, min_samples_split=200, min_samples_leaf=400, max_features=4000 \n",
      "[CV]  max_depth=6, min_samples_split=200, min_samples_leaf=400, max_features=4000, total=   1.7s\n",
      "[CV] max_depth=6, min_samples_split=100, min_samples_leaf=400, max_features=4000 \n",
      "[CV]  max_depth=6, min_samples_split=100, min_samples_leaf=400, max_features=4000, total=   1.7s\n",
      "[CV] max_depth=6, min_samples_split=100, min_samples_leaf=400, max_features=4000 \n",
      "[CV]  max_depth=6, min_samples_split=100, min_samples_leaf=400, max_features=4000, total=   2.0s\n",
      "[CV] max_depth=6, min_samples_split=100, min_samples_leaf=400, max_features=4000 \n",
      "[CV]  max_depth=6, min_samples_split=100, min_samples_leaf=400, max_features=4000, total=   1.7s\n",
      "[CV] max_depth=6, min_samples_split=400, min_samples_leaf=200, max_features=4000 \n",
      "[CV]  max_depth=6, min_samples_split=400, min_samples_leaf=200, max_features=4000, total=   2.1s\n",
      "[CV] max_depth=6, min_samples_split=400, min_samples_leaf=200, max_features=4000 \n",
      "[CV]  max_depth=6, min_samples_split=400, min_samples_leaf=200, max_features=4000, total=   2.4s\n",
      "[CV] max_depth=6, min_samples_split=400, min_samples_leaf=200, max_features=4000 \n",
      "[CV]  max_depth=6, min_samples_split=400, min_samples_leaf=200, max_features=4000, total=   2.2s\n",
      "[CV] max_depth=6, min_samples_split=200, min_samples_leaf=200, max_features=4000 \n",
      "[CV]  max_depth=6, min_samples_split=200, min_samples_leaf=200, max_features=4000, total=   2.1s\n",
      "[CV] max_depth=6, min_samples_split=200, min_samples_leaf=200, max_features=4000 \n",
      "[CV]  max_depth=6, min_samples_split=200, min_samples_leaf=200, max_features=4000, total=   2.2s\n",
      "[CV] max_depth=6, min_samples_split=200, min_samples_leaf=200, max_features=4000 \n"
     ]
    },
    {
     "name": "stdout",
     "output_type": "stream",
     "text": [
      "[CV]  max_depth=6, min_samples_split=200, min_samples_leaf=200, max_features=4000, total=   2.2s\n",
      "[CV] max_depth=6, min_samples_split=100, min_samples_leaf=200, max_features=4000 \n",
      "[CV]  max_depth=6, min_samples_split=100, min_samples_leaf=200, max_features=4000, total=   2.1s\n",
      "[CV] max_depth=6, min_samples_split=100, min_samples_leaf=200, max_features=4000 \n",
      "[CV]  max_depth=6, min_samples_split=100, min_samples_leaf=200, max_features=4000, total=   2.4s\n",
      "[CV] max_depth=6, min_samples_split=100, min_samples_leaf=200, max_features=4000 \n",
      "[CV]  max_depth=6, min_samples_split=100, min_samples_leaf=200, max_features=4000, total=   2.2s\n",
      "[CV] max_depth=6, min_samples_split=400, min_samples_leaf=100, max_features=4000 \n",
      "[CV]  max_depth=6, min_samples_split=400, min_samples_leaf=100, max_features=4000, total=   2.3s\n",
      "[CV] max_depth=6, min_samples_split=400, min_samples_leaf=100, max_features=4000 \n",
      "[CV]  max_depth=6, min_samples_split=400, min_samples_leaf=100, max_features=4000, total=   2.5s\n",
      "[CV] max_depth=6, min_samples_split=400, min_samples_leaf=100, max_features=4000 \n",
      "[CV]  max_depth=6, min_samples_split=400, min_samples_leaf=100, max_features=4000, total=   2.2s\n",
      "[CV] max_depth=6, min_samples_split=200, min_samples_leaf=100, max_features=4000 \n",
      "[CV]  max_depth=6, min_samples_split=200, min_samples_leaf=100, max_features=4000, total=   2.2s\n",
      "[CV] max_depth=6, min_samples_split=200, min_samples_leaf=100, max_features=4000 \n",
      "[CV]  max_depth=6, min_samples_split=200, min_samples_leaf=100, max_features=4000, total=   2.4s\n",
      "[CV] max_depth=6, min_samples_split=200, min_samples_leaf=100, max_features=4000 \n",
      "[CV]  max_depth=6, min_samples_split=200, min_samples_leaf=100, max_features=4000, total=   2.4s\n",
      "[CV] max_depth=6, min_samples_split=100, min_samples_leaf=100, max_features=4000 \n",
      "[CV]  max_depth=6, min_samples_split=100, min_samples_leaf=100, max_features=4000, total=   2.2s\n",
      "[CV] max_depth=6, min_samples_split=100, min_samples_leaf=100, max_features=4000 \n",
      "[CV]  max_depth=6, min_samples_split=100, min_samples_leaf=100, max_features=4000, total=   2.5s\n",
      "[CV] max_depth=6, min_samples_split=100, min_samples_leaf=100, max_features=4000 \n",
      "[CV]  max_depth=6, min_samples_split=100, min_samples_leaf=100, max_features=4000, total=   2.3s\n",
      "[CV] max_depth=4, min_samples_split=400, min_samples_leaf=400, max_features=10000 \n",
      "[CV]  max_depth=4, min_samples_split=400, min_samples_leaf=400, max_features=10000, total=   3.5s\n",
      "[CV] max_depth=4, min_samples_split=400, min_samples_leaf=400, max_features=10000 \n",
      "[CV]  max_depth=4, min_samples_split=400, min_samples_leaf=400, max_features=10000, total=   3.5s\n",
      "[CV] max_depth=4, min_samples_split=400, min_samples_leaf=400, max_features=10000 \n",
      "[CV]  max_depth=4, min_samples_split=400, min_samples_leaf=400, max_features=10000, total=   3.1s\n",
      "[CV] max_depth=4, min_samples_split=200, min_samples_leaf=400, max_features=10000 \n",
      "[CV]  max_depth=4, min_samples_split=200, min_samples_leaf=400, max_features=10000, total=   3.6s\n",
      "[CV] max_depth=4, min_samples_split=200, min_samples_leaf=400, max_features=10000 \n",
      "[CV]  max_depth=4, min_samples_split=200, min_samples_leaf=400, max_features=10000, total=   3.5s\n",
      "[CV] max_depth=4, min_samples_split=200, min_samples_leaf=400, max_features=10000 \n",
      "[CV]  max_depth=4, min_samples_split=200, min_samples_leaf=400, max_features=10000, total=   3.1s\n",
      "[CV] max_depth=4, min_samples_split=100, min_samples_leaf=400, max_features=10000 \n",
      "[CV]  max_depth=4, min_samples_split=100, min_samples_leaf=400, max_features=10000, total=   3.5s\n",
      "[CV] max_depth=4, min_samples_split=100, min_samples_leaf=400, max_features=10000 \n",
      "[CV]  max_depth=4, min_samples_split=100, min_samples_leaf=400, max_features=10000, total=   3.4s\n",
      "[CV] max_depth=4, min_samples_split=100, min_samples_leaf=400, max_features=10000 \n",
      "[CV]  max_depth=4, min_samples_split=100, min_samples_leaf=400, max_features=10000, total=   3.2s\n",
      "[CV] max_depth=4, min_samples_split=400, min_samples_leaf=200, max_features=10000 \n",
      "[CV]  max_depth=4, min_samples_split=400, min_samples_leaf=200, max_features=10000, total=   3.9s\n",
      "[CV] max_depth=4, min_samples_split=400, min_samples_leaf=200, max_features=10000 \n",
      "[CV]  max_depth=4, min_samples_split=400, min_samples_leaf=200, max_features=10000, total=   4.0s\n",
      "[CV] max_depth=4, min_samples_split=400, min_samples_leaf=200, max_features=10000 \n",
      "[CV]  max_depth=4, min_samples_split=400, min_samples_leaf=200, max_features=10000, total=   3.6s\n",
      "[CV] max_depth=4, min_samples_split=200, min_samples_leaf=200, max_features=10000 \n",
      "[CV]  max_depth=4, min_samples_split=200, min_samples_leaf=200, max_features=10000, total=   3.7s\n",
      "[CV] max_depth=4, min_samples_split=200, min_samples_leaf=200, max_features=10000 \n",
      "[CV]  max_depth=4, min_samples_split=200, min_samples_leaf=200, max_features=10000, total=   3.8s\n",
      "[CV] max_depth=4, min_samples_split=200, min_samples_leaf=200, max_features=10000 \n",
      "[CV]  max_depth=4, min_samples_split=200, min_samples_leaf=200, max_features=10000, total=   3.9s\n",
      "[CV] max_depth=4, min_samples_split=100, min_samples_leaf=200, max_features=10000 \n",
      "[CV]  max_depth=4, min_samples_split=100, min_samples_leaf=200, max_features=10000, total=   3.8s\n",
      "[CV] max_depth=4, min_samples_split=100, min_samples_leaf=200, max_features=10000 \n",
      "[CV]  max_depth=4, min_samples_split=100, min_samples_leaf=200, max_features=10000, total=   3.4s\n",
      "[CV] max_depth=4, min_samples_split=100, min_samples_leaf=200, max_features=10000 \n",
      "[CV]  max_depth=4, min_samples_split=100, min_samples_leaf=200, max_features=10000, total=   3.8s\n",
      "[CV] max_depth=4, min_samples_split=400, min_samples_leaf=100, max_features=10000 \n",
      "[CV]  max_depth=4, min_samples_split=400, min_samples_leaf=100, max_features=10000, total=   3.9s\n",
      "[CV] max_depth=4, min_samples_split=400, min_samples_leaf=100, max_features=10000 \n",
      "[CV]  max_depth=4, min_samples_split=400, min_samples_leaf=100, max_features=10000, total=   3.8s\n",
      "[CV] max_depth=4, min_samples_split=400, min_samples_leaf=100, max_features=10000 \n",
      "[CV]  max_depth=4, min_samples_split=400, min_samples_leaf=100, max_features=10000, total=   3.4s\n",
      "[CV] max_depth=4, min_samples_split=200, min_samples_leaf=100, max_features=10000 \n",
      "[CV]  max_depth=4, min_samples_split=200, min_samples_leaf=100, max_features=10000, total=   3.6s\n",
      "[CV] max_depth=4, min_samples_split=200, min_samples_leaf=100, max_features=10000 \n",
      "[CV]  max_depth=4, min_samples_split=200, min_samples_leaf=100, max_features=10000, total=   3.8s\n",
      "[CV] max_depth=4, min_samples_split=200, min_samples_leaf=100, max_features=10000 \n",
      "[CV]  max_depth=4, min_samples_split=200, min_samples_leaf=100, max_features=10000, total=   3.7s\n",
      "[CV] max_depth=4, min_samples_split=100, min_samples_leaf=100, max_features=10000 \n",
      "[CV]  max_depth=4, min_samples_split=100, min_samples_leaf=100, max_features=10000, total=   3.5s\n",
      "[CV] max_depth=4, min_samples_split=100, min_samples_leaf=100, max_features=10000 \n",
      "[CV]  max_depth=4, min_samples_split=100, min_samples_leaf=100, max_features=10000, total=   3.7s\n",
      "[CV] max_depth=4, min_samples_split=100, min_samples_leaf=100, max_features=10000 \n",
      "[CV]  max_depth=4, min_samples_split=100, min_samples_leaf=100, max_features=10000, total=   3.7s\n",
      "[CV] max_depth=4, min_samples_split=400, min_samples_leaf=400, max_features=8000 \n",
      "[CV]  max_depth=4, min_samples_split=400, min_samples_leaf=400, max_features=8000, total=   2.9s\n",
      "[CV] max_depth=4, min_samples_split=400, min_samples_leaf=400, max_features=8000 \n",
      "[CV]  max_depth=4, min_samples_split=400, min_samples_leaf=400, max_features=8000, total=   3.1s\n",
      "[CV] max_depth=4, min_samples_split=400, min_samples_leaf=400, max_features=8000 \n",
      "[CV]  max_depth=4, min_samples_split=400, min_samples_leaf=400, max_features=8000, total=   2.5s\n",
      "[CV] max_depth=4, min_samples_split=200, min_samples_leaf=400, max_features=8000 \n",
      "[CV]  max_depth=4, min_samples_split=200, min_samples_leaf=400, max_features=8000, total=   3.1s\n",
      "[CV] max_depth=4, min_samples_split=200, min_samples_leaf=400, max_features=8000 \n",
      "[CV]  max_depth=4, min_samples_split=200, min_samples_leaf=400, max_features=8000, total=   2.7s\n",
      "[CV] max_depth=4, min_samples_split=200, min_samples_leaf=400, max_features=8000 \n",
      "[CV]  max_depth=4, min_samples_split=200, min_samples_leaf=400, max_features=8000, total=   3.0s\n",
      "[CV] max_depth=4, min_samples_split=100, min_samples_leaf=400, max_features=8000 \n"
     ]
    },
    {
     "name": "stdout",
     "output_type": "stream",
     "text": [
      "[CV]  max_depth=4, min_samples_split=100, min_samples_leaf=400, max_features=8000, total=   2.8s\n",
      "[CV] max_depth=4, min_samples_split=100, min_samples_leaf=400, max_features=8000 \n",
      "[CV]  max_depth=4, min_samples_split=100, min_samples_leaf=400, max_features=8000, total=   2.7s\n",
      "[CV] max_depth=4, min_samples_split=100, min_samples_leaf=400, max_features=8000 \n",
      "[CV]  max_depth=4, min_samples_split=100, min_samples_leaf=400, max_features=8000, total=   2.7s\n",
      "[CV] max_depth=4, min_samples_split=400, min_samples_leaf=200, max_features=8000 \n",
      "[CV]  max_depth=4, min_samples_split=400, min_samples_leaf=200, max_features=8000, total=   3.1s\n",
      "[CV] max_depth=4, min_samples_split=400, min_samples_leaf=200, max_features=8000 \n",
      "[CV]  max_depth=4, min_samples_split=400, min_samples_leaf=200, max_features=8000, total=   3.0s\n",
      "[CV] max_depth=4, min_samples_split=400, min_samples_leaf=200, max_features=8000 \n",
      "[CV]  max_depth=4, min_samples_split=400, min_samples_leaf=200, max_features=8000, total=   3.1s\n",
      "[CV] max_depth=4, min_samples_split=200, min_samples_leaf=200, max_features=8000 \n",
      "[CV]  max_depth=4, min_samples_split=200, min_samples_leaf=200, max_features=8000, total=   3.1s\n",
      "[CV] max_depth=4, min_samples_split=200, min_samples_leaf=200, max_features=8000 \n",
      "[CV]  max_depth=4, min_samples_split=200, min_samples_leaf=200, max_features=8000, total=   3.0s\n",
      "[CV] max_depth=4, min_samples_split=200, min_samples_leaf=200, max_features=8000 \n",
      "[CV]  max_depth=4, min_samples_split=200, min_samples_leaf=200, max_features=8000, total=   3.0s\n",
      "[CV] max_depth=4, min_samples_split=100, min_samples_leaf=200, max_features=8000 \n",
      "[CV]  max_depth=4, min_samples_split=100, min_samples_leaf=200, max_features=8000, total=   2.9s\n",
      "[CV] max_depth=4, min_samples_split=100, min_samples_leaf=200, max_features=8000 \n",
      "[CV]  max_depth=4, min_samples_split=100, min_samples_leaf=200, max_features=8000, total=   3.0s\n",
      "[CV] max_depth=4, min_samples_split=100, min_samples_leaf=200, max_features=8000 \n",
      "[CV]  max_depth=4, min_samples_split=100, min_samples_leaf=200, max_features=8000, total=   3.1s\n",
      "[CV] max_depth=4, min_samples_split=400, min_samples_leaf=100, max_features=8000 \n",
      "[CV]  max_depth=4, min_samples_split=400, min_samples_leaf=100, max_features=8000, total=   2.9s\n",
      "[CV] max_depth=4, min_samples_split=400, min_samples_leaf=100, max_features=8000 \n",
      "[CV]  max_depth=4, min_samples_split=400, min_samples_leaf=100, max_features=8000, total=   3.0s\n",
      "[CV] max_depth=4, min_samples_split=400, min_samples_leaf=100, max_features=8000 \n",
      "[CV]  max_depth=4, min_samples_split=400, min_samples_leaf=100, max_features=8000, total=   3.2s\n",
      "[CV] max_depth=4, min_samples_split=200, min_samples_leaf=100, max_features=8000 \n",
      "[CV]  max_depth=4, min_samples_split=200, min_samples_leaf=100, max_features=8000, total=   2.9s\n",
      "[CV] max_depth=4, min_samples_split=200, min_samples_leaf=100, max_features=8000 \n",
      "[CV]  max_depth=4, min_samples_split=200, min_samples_leaf=100, max_features=8000, total=   3.2s\n",
      "[CV] max_depth=4, min_samples_split=200, min_samples_leaf=100, max_features=8000 \n",
      "[CV]  max_depth=4, min_samples_split=200, min_samples_leaf=100, max_features=8000, total=   3.1s\n",
      "[CV] max_depth=4, min_samples_split=100, min_samples_leaf=100, max_features=8000 \n",
      "[CV]  max_depth=4, min_samples_split=100, min_samples_leaf=100, max_features=8000, total=   3.3s\n",
      "[CV] max_depth=4, min_samples_split=100, min_samples_leaf=100, max_features=8000 \n",
      "[CV]  max_depth=4, min_samples_split=100, min_samples_leaf=100, max_features=8000, total=   3.1s\n",
      "[CV] max_depth=4, min_samples_split=100, min_samples_leaf=100, max_features=8000 \n",
      "[CV]  max_depth=4, min_samples_split=100, min_samples_leaf=100, max_features=8000, total=   3.2s\n",
      "[CV] max_depth=4, min_samples_split=400, min_samples_leaf=400, max_features=4000 \n",
      "[CV]  max_depth=4, min_samples_split=400, min_samples_leaf=400, max_features=4000, total=   1.8s\n",
      "[CV] max_depth=4, min_samples_split=400, min_samples_leaf=400, max_features=4000 \n",
      "[CV]  max_depth=4, min_samples_split=400, min_samples_leaf=400, max_features=4000, total=   1.8s\n",
      "[CV] max_depth=4, min_samples_split=400, min_samples_leaf=400, max_features=4000 \n",
      "[CV]  max_depth=4, min_samples_split=400, min_samples_leaf=400, max_features=4000, total=   1.7s\n",
      "[CV] max_depth=4, min_samples_split=200, min_samples_leaf=400, max_features=4000 \n",
      "[CV]  max_depth=4, min_samples_split=200, min_samples_leaf=400, max_features=4000, total=   1.7s\n",
      "[CV] max_depth=4, min_samples_split=200, min_samples_leaf=400, max_features=4000 \n",
      "[CV]  max_depth=4, min_samples_split=200, min_samples_leaf=400, max_features=4000, total=   1.9s\n",
      "[CV] max_depth=4, min_samples_split=200, min_samples_leaf=400, max_features=4000 \n",
      "[CV]  max_depth=4, min_samples_split=200, min_samples_leaf=400, max_features=4000, total=   1.6s\n",
      "[CV] max_depth=4, min_samples_split=100, min_samples_leaf=400, max_features=4000 \n",
      "[CV]  max_depth=4, min_samples_split=100, min_samples_leaf=400, max_features=4000, total=   2.0s\n",
      "[CV] max_depth=4, min_samples_split=100, min_samples_leaf=400, max_features=4000 \n",
      "[CV]  max_depth=4, min_samples_split=100, min_samples_leaf=400, max_features=4000, total=   1.9s\n",
      "[CV] max_depth=4, min_samples_split=100, min_samples_leaf=400, max_features=4000 \n",
      "[CV]  max_depth=4, min_samples_split=100, min_samples_leaf=400, max_features=4000, total=   2.0s\n",
      "[CV] max_depth=4, min_samples_split=400, min_samples_leaf=200, max_features=4000 \n",
      "[CV]  max_depth=4, min_samples_split=400, min_samples_leaf=200, max_features=4000, total=   2.2s\n",
      "[CV] max_depth=4, min_samples_split=400, min_samples_leaf=200, max_features=4000 \n",
      "[CV]  max_depth=4, min_samples_split=400, min_samples_leaf=200, max_features=4000, total=   1.9s\n",
      "[CV] max_depth=4, min_samples_split=400, min_samples_leaf=200, max_features=4000 \n",
      "[CV]  max_depth=4, min_samples_split=400, min_samples_leaf=200, max_features=4000, total=   1.8s\n",
      "[CV] max_depth=4, min_samples_split=200, min_samples_leaf=200, max_features=4000 \n",
      "[CV]  max_depth=4, min_samples_split=200, min_samples_leaf=200, max_features=4000, total=   1.8s\n",
      "[CV] max_depth=4, min_samples_split=200, min_samples_leaf=200, max_features=4000 \n",
      "[CV]  max_depth=4, min_samples_split=200, min_samples_leaf=200, max_features=4000, total=   1.8s\n",
      "[CV] max_depth=4, min_samples_split=200, min_samples_leaf=200, max_features=4000 \n",
      "[CV]  max_depth=4, min_samples_split=200, min_samples_leaf=200, max_features=4000, total=   1.8s\n",
      "[CV] max_depth=4, min_samples_split=100, min_samples_leaf=200, max_features=4000 \n",
      "[CV]  max_depth=4, min_samples_split=100, min_samples_leaf=200, max_features=4000, total=   1.8s\n",
      "[CV] max_depth=4, min_samples_split=100, min_samples_leaf=200, max_features=4000 \n",
      "[CV]  max_depth=4, min_samples_split=100, min_samples_leaf=200, max_features=4000, total=   1.8s\n",
      "[CV] max_depth=4, min_samples_split=100, min_samples_leaf=200, max_features=4000 \n",
      "[CV]  max_depth=4, min_samples_split=100, min_samples_leaf=200, max_features=4000, total=   1.8s\n",
      "[CV] max_depth=4, min_samples_split=400, min_samples_leaf=100, max_features=4000 \n",
      "[CV]  max_depth=4, min_samples_split=400, min_samples_leaf=100, max_features=4000, total=   2.1s\n",
      "[CV] max_depth=4, min_samples_split=400, min_samples_leaf=100, max_features=4000 \n",
      "[CV]  max_depth=4, min_samples_split=400, min_samples_leaf=100, max_features=4000, total=   2.0s\n",
      "[CV] max_depth=4, min_samples_split=400, min_samples_leaf=100, max_features=4000 \n",
      "[CV]  max_depth=4, min_samples_split=400, min_samples_leaf=100, max_features=4000, total=   2.0s\n",
      "[CV] max_depth=4, min_samples_split=200, min_samples_leaf=100, max_features=4000 \n",
      "[CV]  max_depth=4, min_samples_split=200, min_samples_leaf=100, max_features=4000, total=   1.9s\n",
      "[CV] max_depth=4, min_samples_split=200, min_samples_leaf=100, max_features=4000 \n",
      "[CV]  max_depth=4, min_samples_split=200, min_samples_leaf=100, max_features=4000, total=   2.1s\n",
      "[CV] max_depth=4, min_samples_split=200, min_samples_leaf=100, max_features=4000 \n",
      "[CV]  max_depth=4, min_samples_split=200, min_samples_leaf=100, max_features=4000, total=   2.2s\n",
      "[CV] max_depth=4, min_samples_split=100, min_samples_leaf=100, max_features=4000 \n",
      "[CV]  max_depth=4, min_samples_split=100, min_samples_leaf=100, max_features=4000, total=   1.9s\n",
      "[CV] max_depth=4, min_samples_split=100, min_samples_leaf=100, max_features=4000 \n"
     ]
    },
    {
     "name": "stdout",
     "output_type": "stream",
     "text": [
      "[CV]  max_depth=4, min_samples_split=100, min_samples_leaf=100, max_features=4000, total=   2.1s\n",
      "[CV] max_depth=4, min_samples_split=100, min_samples_leaf=100, max_features=4000 \n",
      "[CV]  max_depth=4, min_samples_split=100, min_samples_leaf=100, max_features=4000, total=   1.9s\n"
     ]
    },
    {
     "name": "stderr",
     "output_type": "stream",
     "text": [
      "[Parallel(n_jobs=1)]: Done 324 out of 324 | elapsed: 18.6min finished\n"
     ]
    }
   ],
   "source": [
    "yelp_fbow_decisiontree_clf = yelp_fbow_decisiontree_clf.fit(yelp_vectors_train_frequency, yelp_train_output)"
   ]
  },
  {
   "cell_type": "code",
   "execution_count": null,
   "metadata": {},
   "outputs": [],
   "source": [
    "yelp_frequency_dt_best_params = yelp_fbow_decisiontree_clf.best_params_"
   ]
  },
  {
   "cell_type": "code",
   "execution_count": null,
   "metadata": {},
   "outputs": [],
   "source": [
    "yelp_frequency_dt_best_params"
   ]
  },
  {
   "cell_type": "code",
   "execution_count": null,
   "metadata": {},
   "outputs": [],
   "source": [
    "yelp_fbow_decisiontree_clf = DecisionTreeClassifier(max_depth=yelp_frequency_dt_best_params['max_depth'],\n",
    "                                                    max_features=yelp_frequency_dt_best_params['max_features'],\n",
    "                                                    min_samples_leaf=yelp_frequency_dt_best_params['min_samples_leaf'],\n",
    "                                                    min_samples_split=yelp_frequency_dt_best_params['min_samples_split'])"
   ]
  },
  {
   "cell_type": "code",
   "execution_count": null,
   "metadata": {},
   "outputs": [],
   "source": [
    "yelp_fbow_decisiontree_clf = yelp_fbow_decisiontree_clf.fit(yelp_vectors_train_frequency, yelp_train_output)\n",
    "\n",
    "yelp_fbow_decisiontree_train_pred = yelp_fbow_decisiontree_clf.predict(yelp_vectors_train_frequency)\n",
    "yelp_fbow_decisiontree_valid_pred = yelp_fbow_decisiontree_clf.predict(yelp_vectors_valid_frequency)\n",
    "yelp_fbow_decisiontree_test_pred = yelp_fbow_decisiontree_clf.predict(yelp_vectors_test_frequency)\n",
    "\n",
    "yelp_fbow_decisiontree_train_f1 = f1_score(yelp_train_output, yelp_fbow_decisiontree_train_pred, average='micro')\n",
    "yelp_fbow_decisiontree_valid_f1 = f1_score(yelp_valid_output, yelp_fbow_decisiontree_valid_pred, average='micro')\n",
    "yelp_fbow_decisiontree_test_f1 = f1_score(yelp_test_output, yelp_fbow_decisiontree_test_pred, average='micro')"
   ]
  },
  {
   "cell_type": "code",
   "execution_count": null,
   "metadata": {},
   "outputs": [],
   "source": [
    "print(\"Yelp Frequency BoW Decision Trees Train F1 Score:\", yelp_fbow_decisiontree_train_f1)\n",
    "print(\"Yelp Frequency BoW Decision Trees Valid F1 Score:\", yelp_fbow_decisiontree_valid_f1)\n",
    "print(\"Yelp Frequency BoW Decision Trees Test F1 Score:\", yelp_fbow_decisiontree_test_f1)\n",
    "print(\"Yelp Best Frequency BoW Decision Trees Parameters: \", yelp_frequency_dt_best_params)"
   ]
  },
  {
   "cell_type": "code",
   "execution_count": null,
   "metadata": {},
   "outputs": [],
   "source": [
    "\"\"\"\n",
    "Yelp Frequency BoW Linear SVM\n",
    "\"\"\""
   ]
  },
  {
   "cell_type": "code",
   "execution_count": null,
   "metadata": {},
   "outputs": [],
   "source": [
    "yelp_fbow_linearsvm_clf = LinearSVC(max_iter=5000)\n",
    "list_C = [2*i for i in range(1, 6)]\n",
    "list_tol = [10**(-i*2) for i in range(1, 6)]\n",
    "\n",
    "tuned_parameters = [{'C': list_C, 'tol': list_tol}]\n",
    "yelp_fbow_linearsvm_clf = GridSearchCV(yelp_fbow_linearsvm_clf, tuned_parameters, scoring='f1_micro', cv=3,\n",
    "                                       error_score='raise', verbose=2)"
   ]
  },
  {
   "cell_type": "code",
   "execution_count": null,
   "metadata": {},
   "outputs": [],
   "source": [
    "yelp_fbow_linearsvm_clf = yelp_fbow_linearsvm_clf.fit(yelp_vectors_train_frequency, yelp_train_output)"
   ]
  },
  {
   "cell_type": "code",
   "execution_count": null,
   "metadata": {},
   "outputs": [],
   "source": [
    "yelp_frequency_linearsvm_best_params = yelp_fbow_linearsvm_clf.best_params_"
   ]
  },
  {
   "cell_type": "code",
   "execution_count": null,
   "metadata": {},
   "outputs": [],
   "source": [
    "yelp_frequency_linearsvm_best_params"
   ]
  },
  {
   "cell_type": "code",
   "execution_count": null,
   "metadata": {},
   "outputs": [],
   "source": [
    "yelp_fbow_linearsvm_clf = LinearSVC(tol=yelp_frequency_linearsvm_best_params['tol'],\n",
    "                                    C=yelp_frequency_linearsvm_best_params['C'])"
   ]
  },
  {
   "cell_type": "code",
   "execution_count": null,
   "metadata": {},
   "outputs": [],
   "source": [
    "yelp_fbow_linearsvm_clf = yelp_fbow_linearsvm_clf.fit(yelp_vectors_train_frequency, yelp_train_output)\n",
    "\n",
    "yelp_fbow_linearsvm_train_pred = yelp_fbow_linearsvm_clf.predict(yelp_vectors_train_frequency)\n",
    "yelp_fbow_linearsvm_valid_pred = yelp_fbow_linearsvm_clf.predict(yelp_vectors_valid_frequency)\n",
    "yelp_fbow_linearsvm_test_pred = yelp_fbow_linearsvm_clf.predict(yelp_vectors_test_frequency)\n",
    "\n",
    "yelp_fbow_linearsvm_train_f1 = f1_score(yelp_train_output, yelp_fbow_linearsvm_train_pred, average='micro')\n",
    "yelp_fbow_linearsvm_valid_f1 = f1_score(yelp_valid_output, yelp_fbow_linearsvm_valid_pred, average='micro')\n",
    "yelp_fbow_linearsvm_test_f1 = f1_score(yelp_test_output, yelp_fbow_linearsvm_test_pred, average='micro')"
   ]
  },
  {
   "cell_type": "code",
   "execution_count": null,
   "metadata": {},
   "outputs": [],
   "source": [
    "print(\"Yelp Frequency BoW Linear SVM Train F1 Score:\", yelp_fbow_linearsvm_train_f1)\n",
    "print(\"Yelp Frequency BoW Linear SVM Valid F1 Score:\", yelp_fbow_linearsvm_valid_f1)\n",
    "print(\"Yelp Frequency BoW Linear SVM Test F1 Score:\", yelp_fbow_linearsvm_test_f1)\n",
    "print(\"Yelp Best Frequency BoW Linear SVM Parameters: \", yelp_frequency_linearsvm_best_params)"
   ]
  },
  {
   "cell_type": "code",
   "execution_count": null,
   "metadata": {},
   "outputs": [],
   "source": [
    "##### PART 4 #####"
   ]
  },
  {
   "cell_type": "code",
   "execution_count": null,
   "metadata": {},
   "outputs": [],
   "source": [
    "### 4.a ###"
   ]
  },
  {
   "cell_type": "code",
   "execution_count": null,
   "metadata": {},
   "outputs": [],
   "source": [
    "\"\"\"\n",
    "IMDB Random Classifier\n",
    "\"\"\""
   ]
  },
  {
   "cell_type": "code",
   "execution_count": null,
   "metadata": {},
   "outputs": [],
   "source": [
    "imdb_test_random_pred = [randint(0,1) for i in range(len(imdb_test_output))]"
   ]
  },
  {
   "cell_type": "code",
   "execution_count": null,
   "metadata": {},
   "outputs": [],
   "source": [
    "imdb_test_random_f1_score = f1_score(imdb_test_output, imdb_test_random_pred, average='micro')"
   ]
  },
  {
   "cell_type": "code",
   "execution_count": null,
   "metadata": {},
   "outputs": [],
   "source": [
    "imdb_test_random_f1_score"
   ]
  },
  {
   "cell_type": "code",
   "execution_count": null,
   "metadata": {},
   "outputs": [],
   "source": [
    "### 4.b ###"
   ]
  },
  {
   "cell_type": "code",
   "execution_count": null,
   "metadata": {},
   "outputs": [],
   "source": [
    "\"\"\"\n",
    "IMDB Bernoulli Naive Bayes\n",
    "\"\"\""
   ]
  },
  {
   "cell_type": "code",
   "execution_count": null,
   "metadata": {},
   "outputs": [],
   "source": [
    "alpha_vals = [i/50 for i in range(1, 51)]\n",
    "imdb_bbow_bernoullinb_valid_f1_scores = []\n",
    "for val_alpha in tqdm(alpha_vals):\n",
    "    imdb_bbow_bernoullinb_clf = BernoulliNB(alpha=val_alpha)\n",
    "    imdb_bbow_bernoullinb_clf = imdb_bbow_bernoullinb_clf.fit(imdb_vectors_train_binary, imdb_train_output)\n",
    "    imdb_bbow_bernoullinb_valid_pred = imdb_bbow_bernoullinb_clf.predict(imdb_vectors_valid_binary)\n",
    "    f1 = f1_score(imdb_valid_output, imdb_bbow_bernoullinb_valid_pred, average='micro')\n",
    "    imdb_bbow_bernoullinb_valid_f1_scores.append(f1)"
   ]
  },
  {
   "cell_type": "code",
   "execution_count": null,
   "metadata": {},
   "outputs": [],
   "source": [
    "plt.plot(alpha_vals, imdb_bbow_bernoullinb_valid_f1_scores, 'g', label='F1 Scores')\n",
    "plt.xlabel('Alpha values')\n",
    "plt.ylabel('F1 Scores')\n",
    "plt.legend()\n",
    "plt.show()"
   ]
  },
  {
   "cell_type": "code",
   "execution_count": null,
   "metadata": {},
   "outputs": [],
   "source": [
    "imdb_max_index = imdb_bbow_bernoullinb_valid_f1_scores.index(max(imdb_bbow_bernoullinb_valid_f1_scores))\n",
    "imdb_best_bbow_bernoullinb_alpha = alpha_vals[max_index]"
   ]
  },
  {
   "cell_type": "code",
   "execution_count": null,
   "metadata": {},
   "outputs": [],
   "source": [
    "imdb_best_bbow_bernoullinb_alpha"
   ]
  },
  {
   "cell_type": "code",
   "execution_count": null,
   "metadata": {},
   "outputs": [],
   "source": [
    "imdb_bbow_bernoullinb_train_f1 = get_bbow_bernoullinb_f1(imdb_vectors_train_binary, imdb_train_output, imdb_best_bbow_bernoullinb_alpha, imdb_vectors_train_binary, imdb_train_output)\n",
    "imdb_bbow_bernoullinb_valid_f1 = get_bbow_bernoullinb_f1(imdb_vectors_train_binary, imdb_train_output, imdb_best_bbow_bernoullinb_alpha, imdb_vectors_valid_binary, imdb_valid_output)\n",
    "imdb_bbow_bernoullinb_test_f1 = get_bbow_bernoullinb_f1(imdb_vectors_train_binary, imdb_train_output, imdb_best_bbow_bernoullinb_alpha, imdb_vectors_test_binary, imdb_test_output)"
   ]
  },
  {
   "cell_type": "code",
   "execution_count": null,
   "metadata": {},
   "outputs": [],
   "source": [
    "print(\"IMDB Binary BoW BernoulliNB Train F1 Score:\", imdb_bbow_bernoullinb_train_f1)\n",
    "print(\"IMDB Binary BoW BernoulliNB Valid F1 Score:\", imdb_bbow_bernoullinb_valid_f1)\n",
    "print(\"IMDB Binary BoW BernoulliNB Test F1 Score:\", imdb_bbow_bernoullinb_test_f1)\n",
    "print(\"IMDB Best Binary BoW BernoulliNB Alpha Value: \", imdb_best_bbow_bernoullinb_alpha)"
   ]
  },
  {
   "cell_type": "code",
   "execution_count": null,
   "metadata": {},
   "outputs": [],
   "source": [
    "\"\"\"\n",
    "IMDB Binary BoW Decision Trees\n",
    "\"\"\""
   ]
  },
  {
   "cell_type": "code",
   "execution_count": null,
   "metadata": {},
   "outputs": [],
   "source": [
    "imdb_bbow_decisiontree_clf = DecisionTreeClassifier()\n",
    "\n",
    "list_max_depths = [10, 8, 6, 4]\n",
    "list_min_samples_splits = [400, 200, 100]\n",
    "list_min_samples_leaf = [400, 200, 100]\n",
    "list_max_features = [10000, 8000, 4000]\n",
    "\n",
    "tuned_parameters = [{'max_depth': list_max_depths, 'min_samples_split': list_min_samples_splits,\n",
    "                     'min_samples_leaf': list_min_samples_leaf, 'max_features': list_max_features}]\n",
    "\n",
    "imdb_bbow_decisiontree_clf = GridSearchCV(imdb_bbow_decisiontree_clf, tuned_parameters, scoring='f1_micro',\n",
    "                                          cv=3, verbose=2)"
   ]
  },
  {
   "cell_type": "code",
   "execution_count": null,
   "metadata": {},
   "outputs": [],
   "source": [
    "imdb_bbow_decisiontree_clf = imdb_bbow_decisiontree_clf.fit(imdb_vectors_train_binary, imdb_train_output)"
   ]
  },
  {
   "cell_type": "code",
   "execution_count": null,
   "metadata": {},
   "outputs": [],
   "source": [
    "imdb_binary_dt_best_params = imdb_bbow_decisiontree_clf.best_params_"
   ]
  },
  {
   "cell_type": "code",
   "execution_count": null,
   "metadata": {},
   "outputs": [],
   "source": [
    "imdb_binary_dt_best_params"
   ]
  },
  {
   "cell_type": "code",
   "execution_count": null,
   "metadata": {},
   "outputs": [],
   "source": [
    "imdb_bbow_decisiontree_clf = DecisionTreeClassifier(max_depth=imdb_binary_dt_best_params['max_depth'],\n",
    "                                                    max_features=imdb_binary_dt_best_params['max_features'],\n",
    "                                                    min_samples_leaf=imdb_binary_dt_best_params['min_samples_leaf'],\n",
    "                                                    min_samples_split=imdb_binary_dt_best_params['min_samples_split'])"
   ]
  },
  {
   "cell_type": "code",
   "execution_count": null,
   "metadata": {},
   "outputs": [],
   "source": [
    "imdb_bbow_decisiontree_clf = imdb_bbow_decisiontree_clf.fit(imdb_vectors_train_binary, imdb_train_output)\n",
    "\n",
    "imdb_bbow_decisiontree_train_pred = imdb_bbow_decisiontree_clf.predict(imdb_vectors_train_binary)\n",
    "imdb_bbow_decisiontree_valid_pred = imdb_bbow_decisiontree_clf.predict(imdb_vectors_valid_binary)\n",
    "imdb_bbow_decisiontree_test_pred = imdb_bbow_decisiontree_clf.predict(imdb_vectors_test_binary)\n",
    "\n",
    "imdb_bbow_decisiontree_train_f1 = f1_score(imdb_train_output, imdb_bbow_decisiontree_train_pred, average='micro')\n",
    "imdb_bbow_decisiontree_valid_f1 = f1_score(imdb_valid_output, imdb_bbow_decisiontree_valid_pred, average='micro')\n",
    "imdb_bbow_decisiontree_test_f1 = f1_score(imdb_test_output, imdb_bbow_decisiontree_test_pred, average='micro')"
   ]
  },
  {
   "cell_type": "code",
   "execution_count": null,
   "metadata": {},
   "outputs": [],
   "source": [
    "print(\"IMDB Binary BoW Decision Trees Train F1 Score:\", imdb_bbow_decisiontree_train_f1)\n",
    "print(\"IMDB Binary BoW Decision Trees Valid F1 Score:\", imdb_bbow_decisiontree_valid_f1)\n",
    "print(\"IMDB Binary BoW Decision Trees Test F1 Score:\", imdb_bbow_decisiontree_test_f1)\n",
    "print(\"IMDB Best Binary BoW Decision Trees Parameters: \", imdb_binary_dt_best_params)"
   ]
  },
  {
   "cell_type": "code",
   "execution_count": null,
   "metadata": {},
   "outputs": [],
   "source": [
    "\"\"\"\n",
    "IMDB Binary BoW Linear SVM\n",
    "\"\"\""
   ]
  },
  {
   "cell_type": "code",
   "execution_count": null,
   "metadata": {},
   "outputs": [],
   "source": [
    "imdb_bbow_linearsvm_clf = LinearSVC(max_iter=5000)\n",
    "list_C = [2*i for i in range(1, 6)]\n",
    "list_tol = [10**(-i*2) for i in range(1, 6)]\n",
    "\n",
    "tuned_parameters = [{'C': list_C, 'tol': list_tol}]\n",
    "imdb_bbow_linearsvm_clf = GridSearchCV(imdb_bbow_linearsvm_clf, tuned_parameters, scoring='f1_micro', cv=3,\n",
    "                                       error_score='raise', verbose=2)"
   ]
  },
  {
   "cell_type": "code",
   "execution_count": null,
   "metadata": {},
   "outputs": [],
   "source": [
    "imdb_bbow_linearsvm_clf = imdb_bbow_linearsvm_clf.fit(imdb_vectors_train_binary, imdb_train_output)"
   ]
  },
  {
   "cell_type": "code",
   "execution_count": null,
   "metadata": {},
   "outputs": [],
   "source": [
    "imdb_binary_linearsvm_best_params = imdb_bbow_linearsvm_clf.best_params_"
   ]
  },
  {
   "cell_type": "code",
   "execution_count": null,
   "metadata": {},
   "outputs": [],
   "source": [
    "imdb_binary_linearsvm_best_params"
   ]
  },
  {
   "cell_type": "code",
   "execution_count": null,
   "metadata": {},
   "outputs": [],
   "source": [
    "imdb_bbow_linearsvm_clf = LinearSVC(tol=imdb_binary_linearsvm_best_params['tol'],\n",
    "                                    C=imdb_binary_linearsvm_best_params['C'])"
   ]
  },
  {
   "cell_type": "code",
   "execution_count": null,
   "metadata": {},
   "outputs": [],
   "source": [
    "imdb_bbow_linearsvm_clf = imdb_bbow_linearsvm_clf.fit(imdb_vectors_train_binary, imdb_train_output)\n",
    "\n",
    "imdb_bbow_linearsvm_train_pred = imdb_bbow_linearsvm_clf.predict(imdb_vectors_train_binary)\n",
    "imdb_bbow_linearsvm_valid_pred = imdb_bbow_linearsvm_clf.predict(imdb_vectors_valid_binary)\n",
    "imdb_bbow_linearsvm_test_pred = imdb_bbow_linearsvm_clf.predict(imdb_vectors_test_binary)\n",
    "\n",
    "imdb_bbow_linearsvm_train_f1 = f1_score(imdb_train_output, imdb_bbow_linearsvm_train_pred, average='micro')\n",
    "imdb_bbow_linearsvm_valid_f1 = f1_score(imdb_valid_output, imdb_bbow_linearsvm_valid_pred, average='micro')\n",
    "imdb_bbow_linearsvm_test_f1 = f1_score(imdb_test_output, imdb_bbow_linearsvm_test_pred, average='micro')"
   ]
  },
  {
   "cell_type": "code",
   "execution_count": null,
   "metadata": {},
   "outputs": [],
   "source": [
    "print(\"IMDB Binary BoW Linear SVM Train F1 Score:\", imdb_bbow_linearsvm_train_f1)\n",
    "print(\"IMDB Binary BoW Linear SVM Valid F1 Score:\", imdb_bbow_linearsvm_valid_f1)\n",
    "print(\"IMDB Binary BoW Linear SVM Test F1 Score:\", imdb_bbow_linearsvm_test_f1)\n",
    "print(\"IMDB Best Binary BoW Linear SVM Parameters: \", imdb_binary_linearsvm_best_params)"
   ]
  },
  {
   "cell_type": "code",
   "execution_count": null,
   "metadata": {},
   "outputs": [],
   "source": []
  },
  {
   "cell_type": "code",
   "execution_count": null,
   "metadata": {},
   "outputs": [],
   "source": []
  },
  {
   "cell_type": "code",
   "execution_count": null,
   "metadata": {},
   "outputs": [],
   "source": [
    "##### PART 5 #####"
   ]
  },
  {
   "cell_type": "code",
   "execution_count": null,
   "metadata": {},
   "outputs": [],
   "source": [
    "### 5.a ###"
   ]
  },
  {
   "cell_type": "code",
   "execution_count": null,
   "metadata": {},
   "outputs": [],
   "source": [
    "\"\"\"\n",
    "IMDB Gaussian Naive Bayes\n",
    "\"\"\""
   ]
  },
  {
   "cell_type": "code",
   "execution_count": null,
   "metadata": {},
   "outputs": [],
   "source": [
    "smooth_vals = []\n",
    "imdb_fbow_gaussiannb_valid_f1_scores = []\n",
    "for val_smooth in tqdm(smooth_vals):\n",
    "    imdb_fbow_gaussiannb_clf = GaussianNB(var_smoothing=val_smooth)\n",
    "    imdb_fbow_gaussiannb_clf = imdb_fbow_gaussiannb_clf.fit(imdb_vectors_train_frequency, imdb_train_output)\n",
    "    imdb_fbow_gaussiannb_valid_pred = imdb_fbow_gaussiannb_clf.predict(imdb_vectors_valid_frequency)\n",
    "    f1 = f1_score(imdb_valid_output, imdb_fbow_gaussiannb_valid_pred, average='micro')\n",
    "    imdb_fbow_gaussiannb_valid_f1_scores.append(f1)"
   ]
  },
  {
   "cell_type": "code",
   "execution_count": null,
   "metadata": {},
   "outputs": [],
   "source": [
    "plt.plot(smooth_vals, imdb_fbow_gaussiannb_valid_f1_scores, 'g', label='F1 Scores')\n",
    "plt.xlabel('Smooth values')\n",
    "plt.ylabel('F1 Scores')\n",
    "plt.legend()\n",
    "plt.show()"
   ]
  },
  {
   "cell_type": "code",
   "execution_count": null,
   "metadata": {},
   "outputs": [],
   "source": [
    "max_index = imdb_fbow_gaussiannb_valid_f1_scores.index(max(imdb_fbow_gaussiannb_valid_f1_scores))\n",
    "imdb_best_fbow_gaussiannb_smooth = smooth_vals[max_index]"
   ]
  },
  {
   "cell_type": "code",
   "execution_count": null,
   "metadata": {},
   "outputs": [],
   "source": [
    "imdb_best_fbow_gaussiannb_smooth"
   ]
  },
  {
   "cell_type": "code",
   "execution_count": null,
   "metadata": {},
   "outputs": [],
   "source": [
    "imdb_fbow_gaussiannb_train_f1 = get_fbow_gaussiannb_f1(imdb_vectors_train_frequency, imdb_train_output, imdb_best_fbow_gaussiannb_smooth, imdb_vectors_train_frequency, imdb_train_output)\n",
    "imdb_fbow_gaussiannb_valid_f1 = get_fbow_gaussiannb_f1(imdb_vectors_train_frequency, imdb_train_output, imdb_best_fbow_gaussiannb_smooth, imdb_vectors_valid_frequency, imdb_valid_output)\n",
    "imdb_fbow_gaussiannb_test_f1 = get_fbow_gaussiannb_f1(imdb_vectors_train_frequency, imdb_train_output, imdb_best_fbow_gaussiannb_smooth, imdb_vectors_test_frequency, imdb_test_output)"
   ]
  },
  {
   "cell_type": "code",
   "execution_count": null,
   "metadata": {},
   "outputs": [],
   "source": [
    "print(\"IMDB Frequency BoW GaussianNB Train F1 Score:\", imdb_fbow_gaussiannb_train_f1)\n",
    "print(\"IMDB Frequency BoW GaussianNB Valid F1 Score:\", imdb_fbow_gaussiannb_valid_f1)\n",
    "print(\"IMDB Frequency BoW GaussianNB Test F1 Score:\", imdb_fbow_gaussiannb_test_f1)\n",
    "print(\"IMDB Best Frequency BoW GaussianNB Smooth Value: \", imdb_best_fbow_gaussiannb_smooth)"
   ]
  },
  {
   "cell_type": "code",
   "execution_count": null,
   "metadata": {},
   "outputs": [],
   "source": [
    "\"\"\"\n",
    "IMDB Frequency BoW Decision Trees\n",
    "\"\"\""
   ]
  },
  {
   "cell_type": "code",
   "execution_count": null,
   "metadata": {},
   "outputs": [],
   "source": [
    "imdb_fbow_decisiontree_clf = DecisionTreeClassifier()\n",
    "list_max_depths = [10, 8, 6, 4]\n",
    "list_min_samples_splits = [400, 200, 100]\n",
    "list_min_samples_leaf = [400, 200, 100]\n",
    "list_max_features = [10000, 8000, 4000]\n",
    "\n",
    "tuned_parameters = [{'max_depth': list_max_depths, 'min_samples_split': list_min_samples_splits,\n",
    "                     'min_samples_leaf': list_min_samples_leaf, 'max_features': list_max_features}]\n",
    "imdb_fbow_decisiontree_clf = GridSearchCV(imdb_fbow_decisiontree_clf, tuned_parameters, scoring='f1_micro',\n",
    "                                          cv=3, verbose=2)"
   ]
  },
  {
   "cell_type": "code",
   "execution_count": null,
   "metadata": {},
   "outputs": [],
   "source": [
    "imdb_fbow_decisiontree_clf = imdb_fbow_decisiontree_clf.fit(imdb_vectors_train_frequency, imdb_train_output)"
   ]
  },
  {
   "cell_type": "code",
   "execution_count": null,
   "metadata": {},
   "outputs": [],
   "source": [
    "imdb_frequency_dt_best_params = imdb_fbow_decisiontree_clf.best_params_"
   ]
  },
  {
   "cell_type": "code",
   "execution_count": null,
   "metadata": {},
   "outputs": [],
   "source": [
    "imdb_frequency_dt_best_params"
   ]
  },
  {
   "cell_type": "code",
   "execution_count": null,
   "metadata": {},
   "outputs": [],
   "source": [
    "imdb_fbow_decisiontree_clf = DecisionTreeClassifier(max_depth=imdb_frequency_dt_best_params['max_depth'],\n",
    "                                                    max_features=imdb_frequency_dt_best_params['max_features'],\n",
    "                                                    min_samples_leaf=imdb_frequency_dt_best_params['min_samples_leaf'],\n",
    "                                                    min_samples_split=imdb_frequency_dt_best_params['min_samples_split'])"
   ]
  },
  {
   "cell_type": "code",
   "execution_count": null,
   "metadata": {},
   "outputs": [],
   "source": [
    "imdb_fbow_decisiontree_clf = imdb_fbow_decisiontree_clf.fit(imdb_vectors_train_frequency, imdb_train_output)\n",
    "\n",
    "imdb_fbow_decisiontree_train_pred = imdb_fbow_decisiontree_clf.predict(imdb_vectors_train_frequency)\n",
    "imdb_fbow_decisiontree_valid_pred = imdb_fbow_decisiontree_clf.predict(imdb_vectors_valid_frequency)\n",
    "imdb_fbow_decisiontree_test_pred = imdb_fbow_decisiontree_clf.predict(imdb_vectors_test_frequency)\n",
    "\n",
    "imdb_fbow_decisiontree_train_f1 = f1_score(imdb_train_output, imdb_fbow_decisiontree_train_pred, average='micro')\n",
    "imdb_fbow_decisiontree_valid_f1 = f1_score(imdb_valid_output, imdb_fbow_decisiontree_valid_pred, average='micro')\n",
    "imdb_fbow_decisiontree_test_f1 = f1_score(imdb_test_output, imdb_fbow_decisiontree_test_pred, average='micro')"
   ]
  },
  {
   "cell_type": "code",
   "execution_count": null,
   "metadata": {},
   "outputs": [],
   "source": [
    "print(\"IMDB Frequency BoW Decision Trees Train F1 Score:\", imdb_fbow_decisiontree_train_f1)\n",
    "print(\"IMDB Frequency BoW Decision Trees Valid F1 Score:\", imdb_fbow_decisiontree_valid_f1)\n",
    "print(\"IMDB Frequency BoW Decision Trees Test F1 Score:\", imdb_fbow_decisiontree_test_f1)\n",
    "print(\"IMDB Best Frequency BoW Decision Trees Parameters: \", imdb_frequency_dt_best_params)"
   ]
  },
  {
   "cell_type": "code",
   "execution_count": null,
   "metadata": {},
   "outputs": [],
   "source": [
    "\"\"\"\n",
    "IMDB Frequency BoW Linear SVM\n",
    "\"\"\""
   ]
  },
  {
   "cell_type": "code",
   "execution_count": null,
   "metadata": {},
   "outputs": [],
   "source": [
    "imdb_fbow_linearsvm_clf = LinearSVC(max_iter=5000)\n",
    "list_C = [2*i for i in range(1, 6)]\n",
    "list_tol = [10**(-i*2) for i in range(1, 6)]\n",
    "\n",
    "tuned_parameters = [{'C': list_C, 'tol': list_tol}]\n",
    "imdb_fbow_linearsvm_clf = GridSearchCV(imdb_fbow_linearsvm_clf, tuned_parameters, scoring='f1_micro', cv=3,\n",
    "                                       error_score='raise', verbose=2)"
   ]
  },
  {
   "cell_type": "code",
   "execution_count": null,
   "metadata": {},
   "outputs": [],
   "source": [
    "imdb_fbow_linearsvm_clf = imdb_fbow_linearsvm_clf.fit(imdb_vectors_train_frequency, imdb_train_output)"
   ]
  },
  {
   "cell_type": "code",
   "execution_count": null,
   "metadata": {},
   "outputs": [],
   "source": [
    "imdb_frequency_linearsvm_best_params = imdb_fbow_linearsvm_clf.best_params_"
   ]
  },
  {
   "cell_type": "code",
   "execution_count": null,
   "metadata": {},
   "outputs": [],
   "source": [
    "imdb_frequency_linearsvm_best_params"
   ]
  },
  {
   "cell_type": "code",
   "execution_count": null,
   "metadata": {},
   "outputs": [],
   "source": [
    "imdb_fbow_linearsvm_clf = LinearSVC(tol=imdb_frequency_linearsvm_best_params['tol'],\n",
    "                                    C=imdb_frequency_linearsvm_best_params['C'])"
   ]
  },
  {
   "cell_type": "code",
   "execution_count": null,
   "metadata": {},
   "outputs": [],
   "source": [
    "imdb_fbow_linearsvm_clf = imdb_fbow_linearsvm_clf.fit(imdb_vectors_train_frequency, imdb_train_output)\n",
    "\n",
    "imdb_fbow_linearsvm_train_pred = imdb_fbow_linearsvm_clf.predict(imdb_vectors_train_frequency)\n",
    "imdb_fbow_linearsvm_valid_pred = imdb_fbow_linearsvm_clf.predict(imdb_vectors_valid_frequency)\n",
    "imdb_fbow_linearsvm_test_pred = imdb_fbow_linearsvm_clf.predict(imdb_vectors_test_frequency)\n",
    "\n",
    "imdb_fbow_linearsvm_train_f1 = f1_score(imdb_train_output, imdb_fbow_linearsvm_train_pred, average='micro')\n",
    "imdb_fbow_linearsvm_valid_f1 = f1_score(imdb_valid_output, imdb_fbow_linearsvm_valid_pred, average='micro')\n",
    "imdb_fbow_linearsvm_test_f1 = f1_score(imdb_test_output, imdb_fbow_linearsvm_test_pred, average='micro')"
   ]
  },
  {
   "cell_type": "code",
   "execution_count": null,
   "metadata": {},
   "outputs": [],
   "source": [
    "print(\"IMDB Frequency BoW Linear SVM Train F1 Score:\", imdb_fbow_linearsvm_train_f1)\n",
    "print(\"IMDB Frequency BoW Linear SVM Valid F1 Score:\", imdb_fbow_linearsvm_valid_f1)\n",
    "print(\"IMDB Frequency BoW Linear SVM Test F1 Score:\", imdb_fbow_linearsvm_test_f1)\n",
    "print(\"IMDB Best Frequency BoW Linear SVM Parameters: \", imdb_frequency_linearsvm_best_params)"
   ]
  },
  {
   "cell_type": "code",
   "execution_count": null,
   "metadata": {},
   "outputs": [],
   "source": []
  },
  {
   "cell_type": "code",
   "execution_count": null,
   "metadata": {},
   "outputs": [],
   "source": []
  }
 ],
 "metadata": {
  "kernelspec": {
   "display_name": "myenv",
   "language": "python",
   "name": "myenv"
  },
  "language_info": {
   "codemirror_mode": {
    "name": "ipython",
    "version": 3
   },
   "file_extension": ".py",
   "mimetype": "text/x-python",
   "name": "python",
   "nbconvert_exporter": "python",
   "pygments_lexer": "ipython3",
   "version": "3.5.2"
  }
 },
 "nbformat": 4,
 "nbformat_minor": 2
}
